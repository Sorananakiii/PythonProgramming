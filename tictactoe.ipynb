{
 "cells": [
  {
   "cell_type": "code",
   "execution_count": 1,
   "id": "20a25083-f5e3-49de-a36b-02eca0d1c215",
   "metadata": {},
   "outputs": [],
   "source": [
    "import math, random"
   ]
  },
  {
   "cell_type": "code",
   "execution_count": null,
   "id": "705ed457-a4b6-4f4b-942c-50030e76d50d",
   "metadata": {},
   "outputs": [],
   "source": [
    "class Player:\n",
    "    def __init__(self, letter):\n",
    "        self.letter = letter\n",
    "        \n",
    "    def get_move(self, game):\n",
    "        pass"
   ]
  },
  {
   "cell_type": "code",
   "execution_count": null,
   "id": "88ff5e03-53df-4708-a29f-aff5fac88d4c",
   "metadata": {},
   "outputs": [],
   "source": [
    "class RandomBotPlayer(Player):\n",
    "    def __init__(self, letter):\n",
    "        super().__init__(letter)\n",
    "        \n",
    "    def get_move(self, game):\n",
    "        pass\n",
    "    \n",
    "\n",
    "class HumanPlayer(Player):\n",
    "    def __init__(self, letter):\n",
    "        super().__init__(letter)\n",
    "        \n",
    "    def get_move(self, game):\n",
    "        pass"
   ]
  },
  {
   "cell_type": "code",
   "execution_count": null,
   "id": "3ce6d3cb-f82b-40f1-bd15-c09628acdf95",
   "metadata": {},
   "outputs": [],
   "source": [
    "class TicTacToe:\n",
    "    def __init__(self):\n",
    "        # use single list to rep 3x3 board\n",
    "        self.board = [ \" \" for _ in range(9)]\n",
    "        self.current_wiiner = None\n",
    "        \n",
    "    def print_board(self):\n",
    "        for row in [self.board[i*3:(i+1)*3] for i in range(3)]\"\n",
    "            print(\"| \" + \" | \".join(row) + \" |\")\n",
    "            \n",
    "    @staticmethod\n",
    "    def print(board_nums):"
   ]
  }
 ],
 "metadata": {
  "kernelspec": {
   "display_name": "Python [conda env:py_torch]",
   "language": "python",
   "name": "conda-env-py_torch-py"
  },
  "language_info": {
   "codemirror_mode": {
    "name": "ipython",
    "version": 3
   },
   "file_extension": ".py",
   "mimetype": "text/x-python",
   "name": "python",
   "nbconvert_exporter": "python",
   "pygments_lexer": "ipython3",
   "version": "3.9.12"
  }
 },
 "nbformat": 4,
 "nbformat_minor": 5
}
