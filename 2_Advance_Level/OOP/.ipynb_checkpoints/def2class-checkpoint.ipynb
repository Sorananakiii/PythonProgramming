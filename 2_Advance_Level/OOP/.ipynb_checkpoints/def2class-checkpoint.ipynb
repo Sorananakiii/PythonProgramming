{
 "cells": [
  {
   "cell_type": "code",
   "execution_count": 1,
   "id": "96e24fc0-34e7-4ed7-b835-b1e7b23fd458",
   "metadata": {},
   "outputs": [],
   "source": [
    "def add(x, y):\n",
    "    return x + y\n",
    "\n",
    "def multiple(x, y):\n",
    "    return x * y\n",
    "\n",
    "def do_math(action, x, y):\n",
    "    return action(x, y)"
   ]
  },
  {
   "cell_type": "code",
   "execution_count": 3,
   "id": "85cf168f-4303-4ca9-9245-e3f5d6f05dbc",
   "metadata": {},
   "outputs": [
    {
     "name": "stdout",
     "output_type": "stream",
     "text": [
      "8\n",
      "15\n",
      "8\n",
      "15\n"
     ]
    }
   ],
   "source": [
    "print(add(3, 5))\n",
    "print(multiple(3, 5))\n",
    "\n",
    "print(do_math(add, 3, 5))\n",
    "print(do_math(multiple, 3, 5))"
   ]
  },
  {
   "cell_type": "code",
   "execution_count": 4,
   "id": "267c6e1a-2e1c-4344-aae1-6cd908b16bd9",
   "metadata": {},
   "outputs": [
    {
     "name": "stdout",
     "output_type": "stream",
     "text": [
      "[1, 2, 3, 4, 5]\n",
      "[2, 4, 6, 8, 10]\n"
     ]
    }
   ],
   "source": [
    "my_list = [1, 2, 3, 4, 5]\n",
    "print(my_list)\n",
    "\n",
    "double_list = [2*val for val in my_list]\n",
    "print(double_list)"
   ]
  },
  {
   "cell_type": "code",
   "execution_count": null,
   "id": "e223c904-c6ff-458f-b9f2-5da2ffe5c9b7",
   "metadata": {},
   "outputs": [],
   "source": []
  },
  {
   "cell_type": "code",
   "execution_count": 15,
   "id": "96ad37d0-9d1f-4d5f-a428-28a796b548ab",
   "metadata": {},
   "outputs": [
    {
     "name": "stdout",
     "output_type": "stream",
     "text": [
      "8\n",
      "15\n"
     ]
    }
   ],
   "source": [
    "class do_math:\n",
    "    def __init__(self, valx, valy):\n",
    "        self.valx = valx\n",
    "        self.valy = valy\n",
    "        \n",
    "    def add(self):\n",
    "        return self.valx + self.valy\n",
    "    \n",
    "    def multiple(self):\n",
    "        return self.valx * self.valy\n",
    "    \n",
    "math_instance = do_math(3, 5)\n",
    "print(math_instance.add())\n",
    "print(math_instance.multiple())"
   ]
  },
  {
   "cell_type": "code",
   "execution_count": null,
   "id": "5153c91f-0753-49bb-9ae5-bb56fe7b4f70",
   "metadata": {},
   "outputs": [],
   "source": []
  },
  {
   "cell_type": "code",
   "execution_count": null,
   "id": "5908ad77-5bd3-44cf-aef0-3e42b001f57a",
   "metadata": {},
   "outputs": [],
   "source": []
  },
  {
   "cell_type": "code",
   "execution_count": null,
   "id": "a28d6867-f0a2-4eee-91d2-7ef6ea664745",
   "metadata": {},
   "outputs": [],
   "source": []
  }
 ],
 "metadata": {
  "kernelspec": {
   "display_name": "Python [conda env:py_ocr]",
   "language": "python",
   "name": "conda-env-py_ocr-py"
  },
  "language_info": {
   "codemirror_mode": {
    "name": "ipython",
    "version": 3
   },
   "file_extension": ".py",
   "mimetype": "text/x-python",
   "name": "python",
   "nbconvert_exporter": "python",
   "pygments_lexer": "ipython3",
   "version": "3.9.12"
  }
 },
 "nbformat": 4,
 "nbformat_minor": 5
}
