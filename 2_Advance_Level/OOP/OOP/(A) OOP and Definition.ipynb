{
 "cells": [
  {
   "cell_type": "markdown",
   "metadata": {},
   "source": [
    "# The __str__ method\n",
    "\n",
    "Like __init__, the __str__ method is another special instance method that you need to know about. This is the method that is called whenever the object is rendered as a string.\n",
    "\n",
    "For example, it is what is displayed when you print the object to the console. You can explore this in the context of our Pet class. Suppose you have a Pet class in which you can assign a height and name to the Pet instance:"
   ]
  },
  {
   "cell_type": "code",
   "execution_count": 1,
   "metadata": {},
   "outputs": [
    {
     "name": "stdout",
     "output_type": "stream",
     "text": [
      "<__main__.Pet object at 0x000001ECBC917BA8>\n"
     ]
    }
   ],
   "source": [
    "class Pet():\n",
    "    def __init__(self, height, name):\n",
    "        self.height = height\n",
    "        self.name = name\n",
    "    is_human = False\n",
    "    owner = 'Michael Smith'\n",
    "\n",
    "m = Pet(50, 'dogdog')\n",
    "print(m)"
   ]
  },
  {
   "cell_type": "markdown",
   "metadata": {},
   "source": [
    "This is not a very helpful representation of our pet. So, we need to add an __str__ method"
   ]
  },
  {
   "cell_type": "code",
   "execution_count": 2,
   "metadata": {},
   "outputs": [
    {
     "name": "stdout",
     "output_type": "stream",
     "text": [
      "dogdog (height: 50 cm)\n"
     ]
    }
   ],
   "source": [
    "class Pet():\n",
    "    def __init__(self, height, name):\n",
    "        self.height = height\n",
    "        self.name = name\n",
    "    is_human = False\n",
    "    owner = 'Michael Smith'\n",
    "    def __str__(self):\n",
    "        return '%s (height: %s cm)' % (self.name, self.height)\n",
    "\n",
    "m2 = Pet(50, 'dogdog')\n",
    "print(m2)"
   ]
  },
  {
   "cell_type": "code",
   "execution_count": 1,
   "metadata": {},
   "outputs": [
    {
     "data": {
      "text/plain": [
       "26720"
      ]
     },
     "execution_count": 1,
     "metadata": {},
     "output_type": "execute_result"
    }
   ],
   "source": []
  },
  {
   "cell_type": "code",
   "execution_count": 3,
   "metadata": {},
   "outputs": [],
   "source": [
    "# 2\n",
    "class Country():\n",
    "    def __init__(self, name='Unspecified', population=None, size_kmsq=None):\n",
    "        self.name = name\n",
    "        self.population = population\n",
    "        self.size_kmsq = size_kmsq\n",
    "    def __str__(self):\n",
    "        label = self.name\n",
    "        if self.population:\n",
    "            label = '%s, population: %s' % (label, self.population)\n",
    "        if self.size_kmsq:\n",
    "            label = '%s, size_kmsq: %s' % (label, self.size_kmsq)\n",
    "        return label"
   ]
  },
  {
   "cell_type": "code",
   "execution_count": 4,
   "metadata": {},
   "outputs": [
    {
     "name": "stdout",
     "output_type": "stream",
     "text": [
      "Chad, population: 100\n"
     ]
    }
   ],
   "source": [
    "chad = Country(name='Chad', population=100)\n",
    "print(chad)"
   ]
  },
  {
   "cell_type": "code",
   "execution_count": null,
   "metadata": {},
   "outputs": [],
   "source": []
  },
  {
   "cell_type": "code",
   "execution_count": null,
   "metadata": {},
   "outputs": [],
   "source": []
  },
  {
   "cell_type": "code",
   "execution_count": null,
   "metadata": {},
   "outputs": [],
   "source": []
  },
  {
   "cell_type": "code",
   "execution_count": null,
   "metadata": {},
   "outputs": [],
   "source": []
  },
  {
   "cell_type": "code",
   "execution_count": null,
   "metadata": {},
   "outputs": [],
   "source": []
  },
  {
   "cell_type": "code",
   "execution_count": 9,
   "metadata": {},
   "outputs": [
    {
     "name": "stdout",
     "output_type": "stream",
     "text": [
      "Sally constructed\n",
      "Sally party count 1\n",
      "Jim constructed\n",
      "Jim party count 1\n",
      "Jim party count 2\n",
      "Jim points 6\n",
      "['__class__', '__delattr__', '__dict__', '__dir__', '__doc__', '__eq__', '__format__', '__ge__', '__getattribute__', '__gt__', '__hash__', '__init__', '__init_subclass__', '__le__', '__lt__', '__module__', '__ne__', '__new__', '__reduce__', '__reduce_ex__', '__repr__', '__setattr__', '__sizeof__', '__str__', '__subclasshook__', '__weakref__', 'name', 'party', 'points', 'six', 'x']\n"
     ]
    }
   ],
   "source": [
    "class CricketFan(PartyAnimal):\n",
    "    points = 0\n",
    "    def six(self):\n",
    "        self.points = self.points + 6\n",
    "        self.party()\n",
    "        print(self.name,\"points\",self.points)\n",
    "\n",
    "s = PartyAnimal(\"Sally\")\n",
    "s.party()\n",
    "j = CricketFan(\"Jim\")\n",
    "j.party()\n",
    "j.six()\n",
    "print(dir(j))"
   ]
  },
  {
   "cell_type": "code",
   "execution_count": null,
   "metadata": {},
   "outputs": [],
   "source": []
  },
  {
   "cell_type": "markdown",
   "metadata": {},
   "source": [
    "For now, let's implement a class called `Rational` for working with fractional numbers (e.g. 5/15). The first thing we'll need `Rational` to do is to be able to create a `Rational` object. We define how this should work with a special (hidden) method called `__init__`. We'll also define another special method called `__repr__` that tells Python how to print out the object."
   ]
  },
  {
   "cell_type": "code",
   "execution_count": 1,
   "metadata": {},
   "outputs": [],
   "source": [
    "class Rational:\n",
    "\n",
    "    def __init__(self, numerator, denominator):\n",
    "        self.numerator = numerator\n",
    "        self.denominator = denominator\n",
    "\n",
    "    def __repr__(self):\n",
    "        return '%d/%d' % (self.numerator, self.denominator)"
   ]
  },
  {
   "cell_type": "code",
   "execution_count": 2,
   "metadata": {},
   "outputs": [
    {
     "name": "stdout",
     "output_type": "stream",
     "text": [
      "4/3\n"
     ]
    }
   ],
   "source": [
    "fraction = Rational(4, 3)\n",
    "print(fraction)"
   ]
  },
  {
   "cell_type": "markdown",
   "metadata": {},
   "source": [
    "You might have noticed that both of the methods took as a first argument the keyword `self`.  The first argument to any method in a class is the instance of the class upon which the method is being called.  Think of a class like a blueprint from which possibly many objects are built. The `self` argument is the mechanism Python uses so that the method can know which instance of the class it is being called upon.  When the method is actually called, we can call it in two ways.  Lets say we create a class `MyClass` with method `.do_it(self)`, if we instantiate an object from this class, we can call the method in two ways:"
   ]
  },
  {
   "cell_type": "code",
   "execution_count": 3,
   "metadata": {},
   "outputs": [
    {
     "name": "stdout",
     "output_type": "stream",
     "text": [
      "2\n",
      "2\n"
     ]
    }
   ],
   "source": [
    "class MyClass:\n",
    "    def __init__(self, num):\n",
    "        self.num = num\n",
    "        \n",
    "    def do_it(self):\n",
    "        print(self.num)\n",
    "        \n",
    "myclass = MyClass(2)\n",
    "myclass.do_it()\n",
    "MyClass.do_it(myclass)"
   ]
  },
  {
   "cell_type": "markdown",
   "metadata": {},
   "source": [
    "In on way `myclass.do_it()` the `self` argument is understood because `myclass` is an instance of `MyClass`.  This is the almost universal way to do call a method.  The other possibility is `MyClass.do_it(myclass)` where we are passing in the object `myclass` as the `self` argument, this syntax is much less common.  \n",
    "\n",
    "Like all Python arguments, there is no need for `self` to be named `self`, we could also call it `this` or `apple` or `wizard`.  However, the use of `self` is a very strong Python convention which is rarely broken.  You should use this convention so that your code is understood by other people.\n",
    "\n",
    "Lets get back to our `Rational` class.  So far, we can make a `Rational` object and `print` it out, but it can't do much else. We might also want a `reduce` method that will divide the numerator and denominator by their greatest common divisor. We will therefore need to write a function that computes the greatest common divisor. We'll add these to our class definition."
   ]
  },
  {
   "cell_type": "code",
   "execution_count": 4,
   "metadata": {},
   "outputs": [],
   "source": [
    "class Rational:\n",
    "\n",
    "    def __init__(self, numerator, denominator):\n",
    "        self.numerator = numerator\n",
    "        self.denominator = denominator\n",
    "\n",
    "    def __repr__(self):\n",
    "        return '%d/%d' % (self.numerator, self.denominator)\n",
    "\n",
    "    def _gcd(self):\n",
    "        smaller = min(self.numerator, self.denominator)\n",
    "        small_divisors = {i for i in range(1, smaller + 1) if smaller % i == 0}\n",
    "        larger = max(self.numerator, self.denominator)\n",
    "        common_divisors = {i for i in small_divisors if larger % i == 0}\n",
    "        return max(common_divisors)\n",
    "\n",
    "    def reduce(self):\n",
    "        gcd = self._gcd()\n",
    "        self.numerator = self.numerator / gcd\n",
    "        self.denominator = self.denominator / gcd\n",
    "        return self"
   ]
  },
  {
   "cell_type": "code",
   "execution_count": 5,
   "metadata": {},
   "outputs": [
    {
     "name": "stdout",
     "output_type": "stream",
     "text": [
      "1/2\n"
     ]
    }
   ],
   "source": [
    "fraction = Rational(16, 32)\n",
    "fraction.reduce()\n",
    "print(fraction)"
   ]
  },
  {
   "cell_type": "markdown",
   "metadata": {},
   "source": [
    "We're gradually building up the functionality of our `Rational` class, but it has a huge problem: we can't do math with it!"
   ]
  },
  {
   "cell_type": "code",
   "execution_count": 17,
   "metadata": {},
   "outputs": [
    {
     "ename": "TypeError",
     "evalue": "unsupported operand type(s) for *: 'int' and 'Rational'",
     "output_type": "error",
     "traceback": [
      "\u001b[1;31m---------------------------------------------------------------------------\u001b[0m",
      "\u001b[1;31mTypeError\u001b[0m                                 Traceback (most recent call last)",
      "\u001b[1;32m<ipython-input-17-bf7b72dc1ebd>\u001b[0m in \u001b[0;36m<module>\u001b[1;34m\u001b[0m\n\u001b[1;32m----> 1\u001b[1;33m \u001b[0mprint\u001b[0m\u001b[1;33m(\u001b[0m\u001b[1;36m4\u001b[0m \u001b[1;33m*\u001b[0m \u001b[0mfraction\u001b[0m\u001b[1;33m)\u001b[0m\u001b[1;33m\u001b[0m\u001b[1;33m\u001b[0m\u001b[0m\n\u001b[0m",
      "\u001b[1;31mTypeError\u001b[0m: unsupported operand type(s) for *: 'int' and 'Rational'"
     ]
    }
   ],
   "source": [
    "print(4 * fraction)"
   ]
  },
  {
   "cell_type": "markdown",
   "metadata": {},
   "source": [
    "We have to tell Python how to implement mathematical operators (`+`, `-`, `*`, `/`) for our class."
   ]
  },
  {
   "cell_type": "code",
   "execution_count": 15,
   "metadata": {},
   "outputs": [
    {
     "name": "stdout",
     "output_type": "stream",
     "text": [
      "['__abs__', '__add__', '__and__', '__bool__', '__ceil__', '__class__', '__delattr__', '__dir__', '__divmod__', '__doc__', '__eq__', '__float__', '__floor__', '__floordiv__', '__format__', '__ge__', '__getattribute__', '__getnewargs__', '__gt__', '__hash__', '__index__', '__init__', '__init_subclass__', '__int__', '__invert__', '__le__', '__lshift__', '__lt__', '__mod__', '__mul__', '__ne__', '__neg__', '__new__', '__or__', '__pos__', '__pow__', '__radd__', '__rand__', '__rdivmod__', '__reduce__', '__reduce_ex__', '__repr__', '__rfloordiv__', '__rlshift__', '__rmod__', '__rmul__', '__ror__', '__round__', '__rpow__', '__rrshift__', '__rshift__', '__rsub__', '__rtruediv__', '__rxor__', '__setattr__', '__sizeof__', '__str__', '__sub__', '__subclasshook__', '__truediv__', '__trunc__', '__xor__', 'bit_length', 'conjugate', 'denominator', 'from_bytes', 'imag', 'numerator', 'real', 'to_bytes']\n"
     ]
    }
   ],
   "source": [
    "print(dir(int))"
   ]
  },
  {
   "cell_type": "markdown",
   "metadata": {},
   "source": [
    "If we look at `dir(int)` we see it has hidden methods like `__add__`, `__div__`, `__mul__`, `__sub__`, etc. Just like `__repr__` tells Python how to `print` our object, these hidden methods tell Python how to handle mathematical operators.\n",
    "\n",
    "Let's add the methods implementing mathematical operations to our class definition. To perform addition or subtraction, we'll have to find a common denominator with the number we're adding. For simplicity, we'll only implement multiplication. We won't be able to add, subtract, or divide. Even implementing only multiplication will require quite a bit of logic."
   ]
  },
  {
   "cell_type": "code",
   "execution_count": 16,
   "metadata": {},
   "outputs": [],
   "source": [
    "class Rational:\n",
    "\n",
    "    def __init__(self, numerator, denominator):\n",
    "        self.numerator = numerator\n",
    "        self.denominator = denominator\n",
    "\n",
    "    def __repr__(self):\n",
    "        return '%d/%d' % (self.numerator, self.denominator)\n",
    "\n",
    "    def __mul__(self, number):\n",
    "        if isinstance(number, int):\n",
    "            return Rational(self.numerator * number, self.denominator)\n",
    "        elif isinstance(number, Rational):\n",
    "            return Rational(self.numerator * number.numerator, self.denominator * number.denominator)\n",
    "        else:\n",
    "            raise TypeError('Expected number to be int or Rational. Got %s' % type(number))\n",
    "        \n",
    "    def _gcd(self):\n",
    "        smaller = min(self.numerator, self.denominator)\n",
    "        small_divisors = {i for i in range(1, smaller + 1) if smaller % i == 0}\n",
    "        larger = max(self.numerator, self.denominator)\n",
    "        common_divisors = {i for i in small_divisors if larger % i == 0}\n",
    "        return max(common_divisors)\n",
    "\n",
    "    def reduce(self):\n",
    "        gcd = self._gcd()\n",
    "        self.numerator = self.numerator / gcd\n",
    "        self.denominator = self.denominator / gcd\n",
    "        return self"
   ]
  },
  {
   "cell_type": "code",
   "execution_count": 17,
   "metadata": {},
   "outputs": [
    {
     "name": "stdout",
     "output_type": "stream",
     "text": [
      "12/6\n",
      "10/27\n"
     ]
    }
   ],
   "source": [
    "print(Rational(4, 6) * 3)\n",
    "print(Rational(5, 9) * Rational(2, 3))"
   ]
  },
  {
   "cell_type": "code",
   "execution_count": 18,
   "metadata": {},
   "outputs": [
    {
     "name": "stdout",
     "output_type": "stream",
     "text": [
      "\u001b[0;31m---------------------------------------------------------------------------\u001b[0m\n",
      "\u001b[0;31mTypeError\u001b[0m                                 Traceback (most recent call last)\n",
      "\u001b[0;32m<ipython-input-18-e585b376123d>\u001b[0m in \u001b[0;36m<module>\u001b[0;34m()\u001b[0m\n",
      "\u001b[1;32m      1\u001b[0m \u001b[0;34m\u001b[0m\u001b[0m\n",
      "\u001b[1;32m      2\u001b[0m \u001b[0;31m# remember, no support for float\u001b[0m\u001b[0;34m\u001b[0m\u001b[0;34m\u001b[0m\u001b[0m\n",
      "\u001b[0;32m----> 3\u001b[0;31m \u001b[0mprint\u001b[0m\u001b[0;34m(\u001b[0m\u001b[0mRational\u001b[0m\u001b[0;34m(\u001b[0m\u001b[0;36m4\u001b[0m\u001b[0;34m,\u001b[0m \u001b[0;36m6\u001b[0m\u001b[0;34m)\u001b[0m \u001b[0;34m*\u001b[0m \u001b[0;36m2.3\u001b[0m\u001b[0;34m)\u001b[0m\u001b[0;34m\u001b[0m\u001b[0m\n",
      "\u001b[0m\n",
      "\u001b[0;32m<ipython-input-16-bfab24d3b796>\u001b[0m in \u001b[0;36m__mul__\u001b[0;34m(self, number)\u001b[0m\n",
      "\u001b[1;32m     14\u001b[0m             \u001b[0;32mreturn\u001b[0m \u001b[0mRational\u001b[0m\u001b[0;34m(\u001b[0m\u001b[0mself\u001b[0m\u001b[0;34m.\u001b[0m\u001b[0mnumerator\u001b[0m \u001b[0;34m*\u001b[0m \u001b[0mnumber\u001b[0m\u001b[0;34m.\u001b[0m\u001b[0mnumerator\u001b[0m\u001b[0;34m,\u001b[0m \u001b[0mself\u001b[0m\u001b[0;34m.\u001b[0m\u001b[0mdenominator\u001b[0m \u001b[0;34m*\u001b[0m \u001b[0mnumber\u001b[0m\u001b[0;34m.\u001b[0m\u001b[0mdenominator\u001b[0m\u001b[0;34m)\u001b[0m\u001b[0;34m\u001b[0m\u001b[0m\n",
      "\u001b[1;32m     15\u001b[0m         \u001b[0;32melse\u001b[0m\u001b[0;34m:\u001b[0m\u001b[0;34m\u001b[0m\u001b[0m\n",
      "\u001b[0;32m---> 16\u001b[0;31m             \u001b[0;32mraise\u001b[0m \u001b[0mTypeError\u001b[0m\u001b[0;34m(\u001b[0m\u001b[0;34m'Expected number to be int or Rational. Got %s'\u001b[0m \u001b[0;34m%\u001b[0m \u001b[0mtype\u001b[0m\u001b[0;34m(\u001b[0m\u001b[0mnumber\u001b[0m\u001b[0;34m)\u001b[0m\u001b[0;34m)\u001b[0m\u001b[0;34m\u001b[0m\u001b[0m\n",
      "\u001b[0m\u001b[1;32m     17\u001b[0m \u001b[0;34m\u001b[0m\u001b[0m\n",
      "\u001b[1;32m     18\u001b[0m     \u001b[0;32mdef\u001b[0m \u001b[0m_gcd\u001b[0m\u001b[0;34m(\u001b[0m\u001b[0mself\u001b[0m\u001b[0;34m)\u001b[0m\u001b[0;34m:\u001b[0m\u001b[0;34m\u001b[0m\u001b[0m\n",
      "\n",
      "\u001b[0;31mTypeError\u001b[0m: Expected number to be int or Rational. Got <class 'float'>\n"
     ]
    }
   ],
   "source": [
    "%%expect_exception TypeError\n",
    "\n",
    "# remember, no support for float\n",
    "print(Rational(4, 6) * 2.3)"
   ]
  },
  {
   "cell_type": "code",
   "execution_count": 16,
   "metadata": {
    "scrolled": true
   },
   "outputs": [
    {
     "ename": "TypeError",
     "evalue": "unsupported operand type(s) for +: 'Rational' and 'Rational'",
     "output_type": "error",
     "traceback": [
      "\u001b[1;31m---------------------------------------------------------------------------\u001b[0m",
      "\u001b[1;31mTypeError\u001b[0m                                 Traceback (most recent call last)",
      "\u001b[1;32m<ipython-input-16-5229033f2ac1>\u001b[0m in \u001b[0;36m<module>\u001b[1;34m\u001b[0m\n\u001b[0;32m      1\u001b[0m \u001b[1;31m# also, no addition, subtraction, etc.\u001b[0m\u001b[1;33m\u001b[0m\u001b[1;33m\u001b[0m\u001b[1;33m\u001b[0m\u001b[0m\n\u001b[1;32m----> 2\u001b[1;33m \u001b[0mprint\u001b[0m\u001b[1;33m(\u001b[0m\u001b[0mRational\u001b[0m\u001b[1;33m(\u001b[0m\u001b[1;36m4\u001b[0m\u001b[1;33m,\u001b[0m \u001b[1;36m6\u001b[0m\u001b[1;33m)\u001b[0m \u001b[1;33m+\u001b[0m \u001b[0mRational\u001b[0m\u001b[1;33m(\u001b[0m\u001b[1;36m2\u001b[0m\u001b[1;33m,\u001b[0m \u001b[1;36m3\u001b[0m\u001b[1;33m)\u001b[0m\u001b[1;33m)\u001b[0m\u001b[1;33m\u001b[0m\u001b[1;33m\u001b[0m\u001b[0m\n\u001b[0m",
      "\u001b[1;31mTypeError\u001b[0m: unsupported operand type(s) for +: 'Rational' and 'Rational'"
     ]
    }
   ],
   "source": [
    "# also, no addition, subtraction, etc.\n",
    "print(Rational(4, 6) + Rational(2, 3))"
   ]
  },
  {
   "cell_type": "markdown",
   "metadata": {},
   "source": [
    "Defining classes can be a lot of work. We have to imagine all the ways we might want to use an object, and where we might run into trouble. This is also true of defining functions, but classes will typically handle many tasks while a function might only do one."
   ]
  },
  {
   "cell_type": "code",
   "execution_count": null,
   "metadata": {},
   "outputs": [],
   "source": []
  },
  {
   "cell_type": "markdown",
   "metadata": {},
   "source": [
    "## Modifying Attributes\n",
    "You can change the value of attributes based on some behavior:"
   ]
  },
  {
   "cell_type": "code",
   "execution_count": 28,
   "metadata": {},
   "outputs": [
    {
     "name": "stdout",
     "output_type": "stream",
     "text": [
      "False\n"
     ]
    }
   ],
   "source": [
    "class Email:\n",
    "    def __init__(self):\n",
    "        self.is_sent = False\n",
    "    def send_email(self):\n",
    "        self.is_sent = True\n",
    "\n",
    "my_email = Email()\n",
    "print(my_email.is_sent)"
   ]
  },
  {
   "cell_type": "code",
   "execution_count": 30,
   "metadata": {},
   "outputs": [
    {
     "name": "stdout",
     "output_type": "stream",
     "text": [
      "True\n"
     ]
    }
   ],
   "source": [
    "my_email.send_email()\n",
    "print(my_email.is_sent)\n"
   ]
  },
  {
   "cell_type": "markdown",
   "metadata": {},
   "source": [
    "That's a lot of code just for `__init__`!\n",
    "\n",
    "Often we'll use the relationship between a new class and existing classes to _inherit_ functionality, saving us from writing some code.\n",
    "\n",
    "## Inheritance\n",
    "\n",
    "Often the classes we define in Python will build off of existing ideas in other classes. For example, our `Rational` class is a number, so it should behave like other numbers. We could write an implementation of `Rational` that uses `float` arithmetic and simply converts between floating point and rational representations during input and output. This would save us complexity in implementing the arithmetic, but might complicate object creation and representation. Even if you never write a class, it's useful to understand the idea of inheritance and the relationship between classes.\n",
    "\n",
    "Lets write a general class called `Rectangle`, it will have two attributes, a length and a width, as well as a few methods."
   ]
  },
  {
   "cell_type": "code",
   "execution_count": 6,
   "metadata": {},
   "outputs": [],
   "source": [
    "class Rectangle:\n",
    "    def __init__(self, height, length):\n",
    "        self.height = height\n",
    "        self.length = length\n",
    "    \n",
    "    def area(self):\n",
    "        return self.height * self.length\n",
    "    \n",
    "    def perimeter(self):\n",
    "        return 2 * (self.height + self.length)"
   ]
  },
  {
   "cell_type": "markdown",
   "metadata": {},
   "source": [
    "Now a square is also a rectangle, but its somewhat more restricted in that it has the same height as length, so we can subclass `Rectangle` and enforce this in code."
   ]
  },
  {
   "cell_type": "code",
   "execution_count": 9,
   "metadata": {},
   "outputs": [],
   "source": [
    "class Square(Rectangle):\n",
    "    def __init__(self, length):\n",
    "        super(Square, self).__init__(length, length)"
   ]
  },
  {
   "cell_type": "code",
   "execution_count": 10,
   "metadata": {},
   "outputs": [
    {
     "data": {
      "text/plain": [
       "(25, 20)"
      ]
     },
     "execution_count": 10,
     "metadata": {},
     "output_type": "execute_result"
    }
   ],
   "source": [
    "s = Square(5)\n",
    "s.area(), s.perimeter()"
   ]
  },
  {
   "cell_type": "code",
   "execution_count": null,
   "metadata": {},
   "outputs": [],
   "source": []
  },
  {
   "cell_type": "code",
   "execution_count": null,
   "metadata": {},
   "outputs": [],
   "source": [
    "class Partyanimal3:\n",
    "    x=0\n",
    "    name =''\n",
    "    def __init__(self,z):\n",
    "        self.name = z\n",
    "        print(self.name,'constructed')\n",
    "        \n",
    "    def plus(self) :\n",
    "        self.x = self.x + 1\n",
    "        print(self.name , 'party count ' ,self.x)\n",
    "        \n",
    "s = Partyanimal3('Sally')\n",
    "s.plus()\n",
    "\n",
    "j = Partyanimal3('JIM')\n",
    "j.plus()\n",
    "s.plus()"
   ]
  },
  {
   "cell_type": "code",
   "execution_count": null,
   "metadata": {},
   "outputs": [],
   "source": [
    "class FF(Partyanimal3):\n",
    "    points = 0\n",
    "    def touch(self):\n",
    "        self.points = self.points + 7\n",
    "        self.plus()\n",
    "        print(self.name,' points ',self.points)\n",
    "        \n",
    "s = Partyanimal3('Sally')\n",
    "s.plus()\n",
    "\n",
    "a = FF('Jim')\n",
    "a.plus()\n",
    "a.touch()"
   ]
  },
  {
   "cell_type": "code",
   "execution_count": null,
   "metadata": {},
   "outputs": [],
   "source": []
  },
  {
   "cell_type": "code",
   "execution_count": null,
   "metadata": {},
   "outputs": [],
   "source": []
  },
  {
   "cell_type": "markdown",
   "metadata": {},
   "source": [
    "Sometimes (although not often) we want to actually check the type of a python object (what class it is from).  There are two ways of doing this, lets first look at a few examples to get a sense of the difference."
   ]
  },
  {
   "cell_type": "code",
   "execution_count": 24,
   "metadata": {},
   "outputs": [
    {
     "data": {
      "text/plain": [
       "True"
      ]
     },
     "execution_count": 24,
     "metadata": {},
     "output_type": "execute_result"
    }
   ],
   "source": [
    "type(s) == Square"
   ]
  },
  {
   "cell_type": "code",
   "execution_count": 25,
   "metadata": {},
   "outputs": [
    {
     "data": {
      "text/plain": [
       "False"
      ]
     },
     "execution_count": 25,
     "metadata": {},
     "output_type": "execute_result"
    }
   ],
   "source": [
    "type(s) == Rectangle"
   ]
  },
  {
   "cell_type": "code",
   "execution_count": 26,
   "metadata": {},
   "outputs": [
    {
     "data": {
      "text/plain": [
       "True"
      ]
     },
     "execution_count": 26,
     "metadata": {},
     "output_type": "execute_result"
    }
   ],
   "source": [
    "isinstance(s, Rectangle)"
   ]
  },
  {
   "cell_type": "markdown",
   "metadata": {},
   "source": [
    "As you might have noticed checking type quality only checks the exact class to which an object belongs, whereas `isinstance(c, Class)` checks if `c` is either a member of class `Class` or a member of a subclass of `Class`.  Almost always `isinstance` is the proper way to check this, because if a class implements some sort of functionality, its subclasses usually implement the same functionality (they just might have some extra bonus functionality!)."
   ]
  }
 ],
 "metadata": {
  "kernelspec": {
   "display_name": "Python 3",
   "language": "python",
   "name": "python3"
  },
  "language_info": {
   "codemirror_mode": {
    "name": "ipython",
    "version": 3
   },
   "file_extension": ".py",
   "mimetype": "text/x-python",
   "name": "python",
   "nbconvert_exporter": "python",
   "pygments_lexer": "ipython3",
   "version": "3.7.3"
  },
  "nbclean": true
 },
 "nbformat": 4,
 "nbformat_minor": 1
}
