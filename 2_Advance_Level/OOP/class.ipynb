{
 "cells": [
  {
   "cell_type": "code",
   "execution_count": null,
   "id": "2b1da314-ca12-4719-8f41-a8e5f210c480",
   "metadata": {},
   "outputs": [],
   "source": []
  },
  {
   "cell_type": "code",
   "execution_count": null,
   "id": "e6ae1272-baa2-4f02-8d23-d55b7cb1f988",
   "metadata": {},
   "outputs": [],
   "source": [
    "\"\"\"\n",
    "ภาษาเชิงกระบวนการ (Procedural Programming Language)\n",
    "โปรแกรมจะแบ่งออกเป็นส่วนย่อยๆ ที่เรียกว่า โมดูล (Module)\n",
    "แต่ละโมดูลควรออกแบบให้มีการทำงานเพียง 1 วัตถุประสงค์เท่านั้น\n",
    "การออกแบบให้แต่ละโมดูลมีความเป็นอิสระต่อกันนั้นทำได้ยาก\n",
    "\n",
    "ภาษาเชิงวัตถุ (Object Oriented Programming Language)\n",
    "การพัฒนาโปรแกรมเป็นการเลียนแบบการทำงานเชิงออปเจ็ค\n",
    "การออกแบบให้วัตถุมีความเป็นอิสระต่อกันทำได้ง่ายกว่าภาษาเชิงกระบวนการ\n",
    "สามารถออกแบบให้มีการนำการมาใช้ใหม่ (Reuseable) ได้ง่ายกว่า ภาษาเชิงกระบวนการ\n",
    "\"\"\""
   ]
  },
  {
   "cell_type": "code",
   "execution_count": null,
   "id": "bcab4ec2-2dd5-4a11-b807-76775b1c2c7b",
   "metadata": {},
   "outputs": [],
   "source": [
    "## class is prototype of object, to create an object we need to build a class of its structure\n",
    "\n",
    "## object is build from class with Attribute/Data member and behavior/Method\n",
    "## - Attribute/Data member, what class is\n",
    "## - behavior/Method, what class can do"
   ]
  },
  {
   "cell_type": "code",
   "execution_count": null,
   "id": "dbf278d3-23f8-41d6-b3ec-2158613e1d72",
   "metadata": {},
   "outputs": [],
   "source": [
    "\"\"\"\n",
    "class composition\n",
    "\n",
    "- class & object\n",
    "- Encapsulation\n",
    "- Inheritance\n",
    "- Polymorphism\n",
    "\"\"\""
   ]
  },
  {
   "cell_type": "code",
   "execution_count": null,
   "id": "20e6d78b-e0dc-49a9-ba9a-5417cb01ff32",
   "metadata": {},
   "outputs": [],
   "source": []
  },
  {
   "cell_type": "code",
   "execution_count": 4,
   "id": "45ea25e4-f63c-42e2-b560-6e2834f899f8",
   "metadata": {},
   "outputs": [
    {
     "name": "stdout",
     "output_type": "stream",
     "text": [
      "NAME : aka\n",
      "SALARY : 20000\n",
      "DEPARTMENT : cai\n",
      "NAME : abc\n",
      "SALARY : 0\n",
      "DEPARTMENT : cai_ocr\n"
     ]
    }
   ],
   "source": [
    "# define a class\n",
    "class Employee:\n",
    "        \n",
    "    # Constructor\n",
    "    def __init__(self, name ,salary, department):\n",
    "        self.name = name\n",
    "        self.salary = salary\n",
    "        self.department = department\n",
    "        \n",
    "    def showdata(self):\n",
    "        print(f\"NAME : {self.name}\")\n",
    "        print(f\"SALARY : {self.salary}\")\n",
    "        print(f\"DEPARTMENT : {self.department}\")\n",
    "        \n",
    "    # Destructor\n",
    "    def __del__(self):\n",
    "        print(\"Call Destructor\")\n",
    "        \n",
    "# assign an object\n",
    "a1 = Employee(\"aka\", 20000, \"cai\")\n",
    "a1.showdata()\n",
    "\n",
    "a2 = Employee(\"abc\", 500000, \"cai_ocr\")\n",
    "a2.salary = 0\n",
    "a2.showdata()\n"
   ]
  },
  {
   "cell_type": "code",
   "execution_count": 5,
   "id": "1175c8a6-b021-4e4e-82d1-28052efa05ac",
   "metadata": {},
   "outputs": [
    {
     "name": "stdout",
     "output_type": "stream",
     "text": [
      "NAME : kak\n",
      "SALARY : 8\n",
      "DEPARTMENT : dog\n"
     ]
    }
   ],
   "source": [
    "em3 = Employee(\"kak\", 1, \"dog\")\n",
    "em3.salary = 8\n",
    "em3.showdata()"
   ]
  },
  {
   "cell_type": "code",
   "execution_count": 10,
   "id": "ce708a34-b5ac-48b3-8710-1ab9ead2a8c2",
   "metadata": {},
   "outputs": [
    {
     "name": "stdout",
     "output_type": "stream",
     "text": [
      "kak\n",
      "8\n",
      "dog\n"
     ]
    }
   ],
   "source": [
    "print(em3.name)\n",
    "print(em3.salary)\n",
    "print(em3.department)"
   ]
  },
  {
   "cell_type": "code",
   "execution_count": 7,
   "id": "761eafc4-990b-436d-baf6-1a4f62557a69",
   "metadata": {},
   "outputs": [
    {
     "name": "stdout",
     "output_type": "stream",
     "text": [
      "True\n",
      "['__class__', '__del__', '__delattr__', '__dict__', '__dir__', '__doc__', '__eq__', '__format__', '__ge__', '__getattribute__', '__gt__', '__hash__', '__init__', '__init_subclass__', '__le__', '__lt__', '__module__', '__ne__', '__new__', '__reduce__', '__reduce_ex__', '__repr__', '__setattr__', '__sizeof__', '__str__', '__subclasshook__', '__weakref__', 'department', 'name', 'salary', 'showdata']\n"
     ]
    }
   ],
   "source": [
    "## check whether em3 create from Employee class or not\n",
    "print(isinstance(em3, Employee))\n",
    "print(dir(em3))"
   ]
  },
  {
   "cell_type": "code",
   "execution_count": 11,
   "id": "5f7966fc-9b02-420d-a26c-95400a679fda",
   "metadata": {},
   "outputs": [
    {
     "name": "stdout",
     "output_type": "stream",
     "text": [
      "<class '__main__.Employee'>\n"
     ]
    }
   ],
   "source": [
    "print(em3.__class__) ## return class name that build em3"
   ]
  },
  {
   "cell_type": "code",
   "execution_count": null,
   "id": "035fcbab-316d-4aa2-93c3-f0091413d20a",
   "metadata": {},
   "outputs": [],
   "source": []
  }
 ],
 "metadata": {
  "kernelspec": {
   "display_name": "Python 3 (ipykernel)",
   "language": "python",
   "name": "python3"
  },
  "language_info": {
   "codemirror_mode": {
    "name": "ipython",
    "version": 3
   },
   "file_extension": ".py",
   "mimetype": "text/x-python",
   "name": "python",
   "nbconvert_exporter": "python",
   "pygments_lexer": "ipython3",
   "version": "3.9.12"
  }
 },
 "nbformat": 4,
 "nbformat_minor": 5
}
