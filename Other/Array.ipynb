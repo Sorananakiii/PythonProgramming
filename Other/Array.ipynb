{
 "cells": [
  {
   "attachments": {},
   "cell_type": "markdown",
   "metadata": {},
   "source": [
    "## **Array**\n",
    "\n",
    "An array is a collection of items of same data type stored at contiguous memory locations. \n",
    "\n",
    "This makes it easier to calculate the position of each element by simply adding an offset to a base value, \n",
    "i.e., the memory location of the first element of the array (generally denoted by the name of the array). \n",
    "The base value is index 0 and the difference between the two indexes is the offset."
   ]
  },
  {
   "cell_type": "markdown",
   "metadata": {},
   "source": []
  }
 ],
 "metadata": {
  "language_info": {
   "name": "python"
  },
  "orig_nbformat": 4
 },
 "nbformat": 4,
 "nbformat_minor": 2
}
