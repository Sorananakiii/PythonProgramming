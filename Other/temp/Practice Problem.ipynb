{
 "cells": [
  {
   "cell_type": "markdown",
   "metadata": {},
   "source": [
    "# Python Practice Problem\n"
   ]
  },
  {
   "cell_type": "code",
   "execution_count": null,
   "metadata": {},
   "outputs": [],
   "source": [
    "''' \n",
    "######################################   Problem 1   ############################################\n",
    "\n",
    "--------------------------------------   Question   ---------------------------------------------\n",
    "Given an integer, , perform the following conditional actions:\n",
    "\n",
    "If  is odd, print Weird\n",
    "If  is even and in the inclusive range of 2 to 5, print Not Weird\n",
    "If  is even and in the inclusive range of 6 to 20, print Weird\n",
    "If  is even and greater than 20, print Not Weird\n",
    "\n",
    "#################################################################################################\n",
    "\n",
    "'''\n",
    "\n",
    "n = int(input().strip())\n",
    "\n",
    "def answer1(n):\n",
    "    if (n %  2 != 0) or ((n%2 == 0) and (n >= 6) and (n <= 20)):\n",
    "        print('Weird')\n",
    "    if (n%2 == 0) and ((n>=2 and n<=5) or (n>20)):\n",
    "        print('Not Weird')\n",
    "        \n",
    "answer1(n)\n"
   ]
  },
  {
   "cell_type": "code",
   "execution_count": null,
   "metadata": {},
   "outputs": [],
   "source": []
  },
  {
   "cell_type": "code",
   "execution_count": null,
   "metadata": {},
   "outputs": [],
   "source": [
    "''' \n",
    "######################################   Problem 2   ############################################\n",
    "\n",
    "--------------------------------------   Question   ---------------------------------------------\n",
    "Read two integers from STDIN and print three lines where:\n",
    "\n",
    "The first line contains the sum of the two numbers.\n",
    "The second line contains the difference of the two numbers (first - second).\n",
    "The third line contains the product of the two numbers.\n",
    "\n",
    "Input Format\n",
    "The first line contains the first integer, . The second line contains the second integer, b.\n",
    "\n",
    "Output Format\n",
    "Print the three lines as explained above.\n",
    "\n",
    "#################################################################################################\n",
    "\n",
    "'''\n",
    "\n",
    "a = int(input())\n",
    "b = int(input())\n",
    "\n",
    "def answer2(a,b):\n",
    "    print(a+b)\n",
    "    print(a-b)\n",
    "    print(a*b)\n",
    "\n",
    "answer2(a,b)"
   ]
  },
  {
   "cell_type": "code",
   "execution_count": null,
   "metadata": {},
   "outputs": [],
   "source": []
  },
  {
   "cell_type": "code",
   "execution_count": null,
   "metadata": {},
   "outputs": [],
   "source": [
    "'''\n",
    "######################################   Problem 3   ############################################\n",
    "\n",
    "--------------------------------------   Question   ---------------------------------------------\n",
    "Read two integers and print two lines. The first line should contain integer division,  // . \n",
    "The second line should contain float division,  / .\n",
    "You don't need to perform any rounding or formatting operations.\n",
    "\n",
    "Input Format\n",
    "The first line contains the first integer, . The second line contains the second integer, .\n",
    "\n",
    "Output Format\n",
    "Print the two lines as described above.\n",
    "\n",
    "#################################################################################################\n",
    "\n",
    "'''\n",
    "a = int(input())\n",
    "b = int(input())\n",
    "\n",
    "def answer3(a,b):\n",
    "    print(a//b)\n",
    "    print(a/b)\n",
    "    \n",
    "answer3(a,b)\n",
    "\n",
    "\n"
   ]
  },
  {
   "cell_type": "code",
   "execution_count": null,
   "metadata": {},
   "outputs": [],
   "source": []
  },
  {
   "cell_type": "code",
   "execution_count": null,
   "metadata": {},
   "outputs": [],
   "source": [
    "''' \n",
    "--------------------------------------   Question   ---------------------------------------------\n",
    "Read an integer . For all non-negative integers , print . See the sample for details.\n",
    "\n",
    "Input Format\n",
    "The first and only line contains the integer, .\n",
    "\n",
    "Output Format\n",
    "Print  lines, one corresponding to each i.\n",
    "\n",
    "#################################################################################################\n",
    "\n",
    "\n",
    "'''\n",
    "\n",
    "n = int(input())\n",
    "\n",
    "def answer4(n):\n",
    "    for i in range(n):\n",
    "        print(i**2)\n",
    "        \n",
    "answer4(n)\n",
    "\n"
   ]
  },
  {
   "cell_type": "code",
   "execution_count": null,
   "metadata": {},
   "outputs": [],
   "source": []
  },
  {
   "cell_type": "code",
   "execution_count": null,
   "metadata": {},
   "outputs": [],
   "source": [
    "''' \n",
    "    Basic Python\n",
    "We add a Leap Day on February 29, almost every four years. The leap day is an extra, \n",
    "or intercalary day and we add it to the shortest month of the year, February.\n",
    "In the Gregorian calendar three criteria must be taken into account to identify leap years:\n",
    "\n",
    "The year can be evenly divided by 4, is a leap year, unless:\n",
    "The year can be evenly divided by 100, it is NOT a leap year, unless:\n",
    "The year is also evenly divisible by 400. Then it is a leap year.\n",
    "\n",
    "\n",
    "--------------------------------------   Question   ---------------------------------------------\n",
    "You are given the year, and you have to write a function to check if the year is leap or not.\n",
    "\n",
    "#################################################################################################\n",
    "\n",
    "\n",
    "'''\n",
    "def is_leap(year):\n",
    "    leap = False\n",
    "    \n",
    "    if year % 4 == 0 :\n",
    "        leap = True\n",
    "        if year % 100 == 0:\n",
    "            leap = False\n",
    "            if year % 400 == 0:\n",
    "                leap = True        \n",
    "    return leap\n",
    "\n",
    "year = int(input())\n",
    "print (is_leap(year))"
   ]
  },
  {
   "cell_type": "code",
   "execution_count": null,
   "metadata": {},
   "outputs": [],
   "source": []
  },
  {
   "cell_type": "code",
   "execution_count": null,
   "metadata": {},
   "outputs": [],
   "source": [
    "''' \n",
    "--------------------------------------   Question   ---------------------------------------------\n",
    "\n",
    "Read an integer ์N.\n",
    "Without using any string methods, try to print the following:\n",
    "\n",
    "output : print 123...N\n",
    "\n",
    "#################################################################################################\n",
    "\n",
    "\n",
    "'''\n",
    "\n",
    "n = int(input())\n",
    "\n",
    "\n",
    "def add_str(n):\n",
    "    strg =''\n",
    "    for k in range(1,n+1):\n",
    "        strg = strg + str(k)\n",
    "        \n",
    "    return strg\n",
    "    \n",
    "print(add_str(n))\n"
   ]
  },
  {
   "cell_type": "code",
   "execution_count": null,
   "metadata": {},
   "outputs": [],
   "source": []
  },
  {
   "cell_type": "code",
   "execution_count": null,
   "metadata": {},
   "outputs": [],
   "source": [
    "''' \n",
    "--------------------------------------   Question   ---------------------------------------------------------------------\n",
    "Let's learn about list comprehensions! You are given three integers X, Y and Z  representing \n",
    "the dimensions of a cuboid along with an integer N. \n",
    "You have to print a list of all possible coordinates given by (i,j,k) on a 3D grid where the sum of i+j+k is not equal to N. \n",
    "Here 0 <= i <= X and 0 <= j <= Y and 0 <= k <= Z\n",
    "\n",
    "Input Format\n",
    "Four integers X,Y,Z and N  each on four separate lines, respectively.\n",
    "\n",
    "#########################################################################################################################\n",
    "\n",
    "\n",
    "'''\n",
    "\n",
    "x = int(input())\n",
    "y = int(input())\n",
    "z = int(input())\n",
    "n = int(input())\n",
    "\n",
    "def coordinate_sum(x,y,z,n):\n",
    "    lis = []\n",
    "    for i in range(x+1):\n",
    "        for j in range(y+1):\n",
    "            for k in range(z+1):\n",
    "                if i+j+k != n :\n",
    "                    lis.append([i,j,k])\n",
    "                    \n",
    "    return lis\n",
    "\n",
    "print(coordinate_sum(x,y,z,n))\n"
   ]
  },
  {
   "cell_type": "code",
   "execution_count": null,
   "metadata": {},
   "outputs": [],
   "source": []
  },
  {
   "cell_type": "code",
   "execution_count": null,
   "metadata": {},
   "outputs": [],
   "source": [
    "''' \n",
    "--------------------------------------   Question   -------------------------------------------------------\n",
    "generate 'is_prime' function that return True if input(int) is prime number and else return False\n",
    "\n",
    "generate 'print_primes' function print prime number that less than input(int)\n",
    "\n",
    "###########################################################################################################\n",
    "\n",
    "'''\n",
    "\n",
    "\n",
    "def is_prime(number):\n",
    "    if number <= 1:\n",
    "        return False\n",
    "\n",
    "    for factor in range(2, number):\n",
    "        if number % factor == 0:\n",
    "            return False\n",
    "\n",
    "    return True\n",
    "\n",
    "\n",
    "def print_primes(n):\n",
    "    for number in range(1, n):\n",
    "        if is_prime(number):\n",
    "            print('%d is prime' % number)\n",
    "\n",
    "print_primes(42)\n",
    "\n",
    "\n"
   ]
  },
  {
   "cell_type": "code",
   "execution_count": null,
   "metadata": {},
   "outputs": [],
   "source": []
  },
  {
   "cell_type": "code",
   "execution_count": null,
   "metadata": {},
   "outputs": [],
   "source": [
    "''' \n",
    "--------------------------------------   Question   ---------------------------------------------\n",
    "With a given integral number n, write a program to generate a dictionary that contains (i, i*i) \n",
    "such that is an integral number between 1 and n (both included). and then the program should \n",
    "print the dictionary.\n",
    "Suppose the following input is supplied to the program:\n",
    "    \n",
    "8\n",
    "\n",
    "Then, the output should be:\n",
    "{1: 1, 2: 4, 3: 9, 4: 16, 5: 25, 6: 36, 7: 49, 8: 64}\n",
    "\n",
    "#################################################################################################\n",
    "\n",
    "'''\n",
    "def dict_num(x):\n",
    "    num = []\n",
    "    value = []\n",
    "    for i in range(1,x+1):\n",
    "        num.append(i)\n",
    "        value.append(i*i)\n",
    "    dic = zip(num,value)\n",
    "    dic = dict(dic)\n",
    "    print(dic)\n",
    "n=int(input())\n",
    "dict_num(n)\n",
    "\n",
    "\n"
   ]
  },
  {
   "cell_type": "code",
   "execution_count": null,
   "metadata": {},
   "outputs": [],
   "source": []
  },
  {
   "cell_type": "code",
   "execution_count": null,
   "metadata": {},
   "outputs": [],
   "source": [
    "''' \n",
    "--------------------------------------   Question   -----------------------------------------------------\n",
    "Write a program which will find all such numbers which are divisible by 7 but are not a multiple of 5,\n",
    "between 2000 and 3200 (both included).\n",
    "The numbers obtained should be printed in a comma-separated sequence on a single line.\n",
    "\n",
    "'''\n",
    "\n",
    "l=[]\n",
    "for i in range(2000, 3201):\n",
    "    if (i%7==0) and (i%5!=0):\n",
    "        l.append(str(i))\n",
    "\n",
    "print( ','.join(l) )\n",
    "\n"
   ]
  },
  {
   "cell_type": "code",
   "execution_count": null,
   "metadata": {},
   "outputs": [],
   "source": []
  },
  {
   "cell_type": "code",
   "execution_count": null,
   "metadata": {},
   "outputs": [],
   "source": [
    "''' \n",
    "--------------------------------------   Question   ---------------------------------------------\n",
    "\n",
    "Given the participants' score sheet for your University Sports Day, you are required to find the runner-up score. \n",
    "You are given  scores. Store them in a list and find the score of the runner-up.\n",
    "\n",
    "Input Format\n",
    "The first line contains . The second line contains an array A  of  n integers each separated by a space.\n",
    "\n",
    "'''\n",
    "n = int(input())\n",
    "arr = map(int, input().split())\n",
    "\n",
    "def runner_up(n,arr):\n",
    "    arrs = set(arr)\n",
    "    arrs_list = list(arrs)\n",
    "    return arrs_list.sort(reverse = True)[1] \n",
    "\n",
    "print(runner_up(n,arr))"
   ]
  },
  {
   "cell_type": "code",
   "execution_count": null,
   "metadata": {},
   "outputs": [],
   "source": []
  },
  {
   "cell_type": "code",
   "execution_count": null,
   "metadata": {},
   "outputs": [],
   "source": [
    "''' \n",
    "--------------------------------------   Question   ---------------------------------------------\n",
    "\n",
    "Given the participants' score sheet for your University Sports Day, you are required to find the runner-up score. \n",
    "You are given  scores. Store them in a list and find the score of the runner-up.\n",
    "\n",
    "Input Format\n",
    "The first line contains . The second line contains an array A  of  n integers each separated by a space.\n",
    "\n",
    "'''\n",
    "n = int(input())\n",
    "arr = map(int, input().split())\n",
    "\n",
    "def runner_up(n,arr):\n",
    "    arrs = set(arr)\n",
    "    arrs_list = list(arrs)\n",
    "    return arrs_list.sort(reverse = True)[1] \n",
    "\n",
    "print(runner_up(n,arr))\n",
    "\n",
    "######################################################################################\n",
    "\n",
    "arr = list(arr)\n",
    "    max = max(arr)\n",
    "    runner = -1e200\n",
    "    for i in range(len(arr)):\n",
    "        if arr[i] > runner and arr[i] != max:\n",
    "            runner = arr[i]\n",
    "\n",
    "print(runner)"
   ]
  },
  {
   "cell_type": "code",
   "execution_count": null,
   "metadata": {},
   "outputs": [],
   "source": []
  },
  {
   "cell_type": "code",
   "execution_count": 25,
   "metadata": {},
   "outputs": [
    {
     "data": {
      "text/plain": [
       "[0, 0, 0]"
      ]
     },
     "execution_count": 25,
     "metadata": {},
     "output_type": "execute_result"
    }
   ],
   "source": [
    "a = [1, 2, 3]\n",
    "b = [2, 5, 6]\n",
    "compare = lambda x,y : int(x > y)\n",
    "list(map(compare, a, b))"
   ]
  },
  {
   "cell_type": "code",
   "execution_count": null,
   "metadata": {},
   "outputs": [],
   "source": []
  },
  {
   "cell_type": "code",
   "execution_count": null,
   "metadata": {},
   "outputs": [],
   "source": []
  },
  {
   "cell_type": "code",
   "execution_count": null,
   "metadata": {},
   "outputs": [],
   "source": []
  },
  {
   "cell_type": "code",
   "execution_count": null,
   "metadata": {},
   "outputs": [],
   "source": []
  },
  {
   "cell_type": "code",
   "execution_count": null,
   "metadata": {},
   "outputs": [],
   "source": []
  },
  {
   "cell_type": "code",
   "execution_count": null,
   "metadata": {},
   "outputs": [],
   "source": []
  },
  {
   "cell_type": "code",
   "execution_count": null,
   "metadata": {},
   "outputs": [],
   "source": []
  },
  {
   "cell_type": "code",
   "execution_count": null,
   "metadata": {},
   "outputs": [],
   "source": []
  },
  {
   "cell_type": "code",
   "execution_count": null,
   "metadata": {},
   "outputs": [],
   "source": []
  },
  {
   "cell_type": "code",
   "execution_count": null,
   "metadata": {},
   "outputs": [],
   "source": []
  },
  {
   "cell_type": "code",
   "execution_count": null,
   "metadata": {},
   "outputs": [],
   "source": []
  },
  {
   "cell_type": "code",
   "execution_count": null,
   "metadata": {},
   "outputs": [],
   "source": []
  },
  {
   "cell_type": "code",
   "execution_count": null,
   "metadata": {},
   "outputs": [],
   "source": []
  },
  {
   "cell_type": "code",
   "execution_count": null,
   "metadata": {},
   "outputs": [],
   "source": []
  },
  {
   "cell_type": "code",
   "execution_count": null,
   "metadata": {},
   "outputs": [],
   "source": []
  },
  {
   "cell_type": "code",
   "execution_count": null,
   "metadata": {},
   "outputs": [],
   "source": []
  },
  {
   "cell_type": "code",
   "execution_count": null,
   "metadata": {},
   "outputs": [],
   "source": []
  },
  {
   "cell_type": "code",
   "execution_count": null,
   "metadata": {},
   "outputs": [],
   "source": []
  },
  {
   "cell_type": "code",
   "execution_count": null,
   "metadata": {},
   "outputs": [],
   "source": []
  },
  {
   "cell_type": "code",
   "execution_count": null,
   "metadata": {},
   "outputs": [],
   "source": []
  },
  {
   "cell_type": "code",
   "execution_count": null,
   "metadata": {},
   "outputs": [],
   "source": []
  },
  {
   "cell_type": "code",
   "execution_count": null,
   "metadata": {},
   "outputs": [],
   "source": []
  },
  {
   "cell_type": "code",
   "execution_count": null,
   "metadata": {},
   "outputs": [],
   "source": [
    "'''\n",
    "    For_example\n",
    "        - Build a factorial function\n",
    "'''\n",
    "def factorial(a):\n",
    "    fac = 1\n",
    "    for i in range(1,a+1):\n",
    "        fac = fac * i\n",
    "    return fac\n",
    "\n",
    "\n",
    "# calculate permutation and combination\n",
    "\n",
    "def per(n,r):\n",
    "    return int(factorial(n)/(factorial(n-r)*factorial(r)))\n",
    "def combi(n,r):\n",
    "    return int(factorial(n)/factorial(n-r))\n"
   ]
  },
  {
   "cell_type": "code",
   "execution_count": null,
   "metadata": {},
   "outputs": [],
   "source": []
  },
  {
   "cell_type": "code",
   "execution_count": null,
   "metadata": {},
   "outputs": [],
   "source": [
    "def first_n_fibonacci(n):\n",
    "    prev_num = 0\n",
    "    curr_num = 1\n",
    "    count = 2\n",
    "\n",
    "    print(prev_num)\n",
    "    print(curr_num)\n",
    "\n",
    "    while count <= n:\n",
    "        next_num = curr_num + prev_num\n",
    "        print(next_num)\n",
    "        prev_num = curr_num\n",
    "        curr_num = next_num\n",
    "        count += 1\n",
    "\n",
    "\n",
    "def below_x_fibonacci(x):\n",
    "    prev_num = 0\n",
    "    curr_num = 1\n",
    "\n",
    "    if curr_num < x:\n",
    "        print(prev_num)\n",
    "        print(curr_num)\n",
    "    elif prev_num < x:\n",
    "        print(prev_num)\n",
    "\n",
    "    while curr_num + prev_num < x:\n",
    "        next_num = curr_num + prev_num\n",
    "        print(next_num)\n",
    "        prev_num = curr_num\n",
    "        curr_num = next_num"
   ]
  },
  {
   "cell_type": "code",
   "execution_count": null,
   "metadata": {},
   "outputs": [],
   "source": []
  },
  {
   "cell_type": "code",
   "execution_count": null,
   "metadata": {},
   "outputs": [],
   "source": []
  },
  {
   "cell_type": "code",
   "execution_count": null,
   "metadata": {},
   "outputs": [],
   "source": []
  },
  {
   "cell_type": "markdown",
   "metadata": {},
   "source": [
    "## Question 1: `mersenne_numbers`\n",
    "\n",
    "A Mersenne number is any number that can be written as $2^p - 1$ for some $p$. For example, 3 is a Mersenne number ($2^2 - 1$) as is 31 ($2^5 - 1$). We will see later on that it is easy to test if Mersenne numbers are prime.\n",
    "\n",
    "Write a function that accepts an exponent $p$ and returns the corresponding Mersenne number."
   ]
  },
  {
   "cell_type": "code",
   "execution_count": 1,
   "metadata": {},
   "outputs": [],
   "source": [
    "def mersenne_number(p):\n",
    "    return 2**p -1"
   ]
  },
  {
   "cell_type": "markdown",
   "metadata": {},
   "source": [
    "Mersenne numbers can only be prime if their exponent, $p$, is prime. Make a list of the Mersenne numbers for all primes $p$ between 3 and 65 (there should be 17 of them).\n",
    "\n",
    "Hint: It may be useful to modify the `is_prime` and `get_primes` functions from [the Program Flow notebook](PY_ProgramFlow.ipynb) for use in this problem."
   ]
  },
  {
   "cell_type": "code",
   "execution_count": 2,
   "metadata": {},
   "outputs": [
    {
     "name": "stdout",
     "output_type": "stream",
     "text": [
      "[0, 1, 2]\n"
     ]
    }
   ],
   "source": [
    "# we can make a list like this\n",
    "my_list = [0, 1, 2]\n",
    "print(my_list)"
   ]
  },
  {
   "cell_type": "code",
   "execution_count": 3,
   "metadata": {},
   "outputs": [
    {
     "name": "stdout",
     "output_type": "stream",
     "text": [
      "[]\n",
      "[0, 1, 2]\n"
     ]
    }
   ],
   "source": [
    "# we can also make an empty list and add items to it\n",
    "another_list = []\n",
    "print(another_list)\n",
    "\n",
    "for item in my_list:\n",
    "    another_list.append(item)\n",
    "\n",
    "print(another_list)"
   ]
  },
  {
   "cell_type": "code",
   "execution_count": 4,
   "metadata": {},
   "outputs": [],
   "source": [
    "def is_prime(number):\n",
    "    if number <= 1:\n",
    "        return False\n",
    "    \n",
    "    for factor in range(2, number):\n",
    "        if number % factor == 0:\n",
    "            return False\n",
    "\n",
    "    return True\n",
    "\n",
    "def get_primes(n_start, n_end):\n",
    "    mersennes = []\n",
    "    for x in range(n_start,n_end):\n",
    "        if is_prime(x):\n",
    "            mersennes.append(2**x-1)\n",
    "    return mersennes\n",
    "  "
   ]
  },
  {
   "cell_type": "code",
   "execution_count": 5,
   "metadata": {},
   "outputs": [
    {
     "name": "stdout",
     "output_type": "stream",
     "text": [
      "[7, 31, 127, 2047, 8191, 131071, 524287, 8388607, 536870911, 2147483647, 137438953471, 2199023255551, 8796093022207, 140737488355327, 9007199254740991, 576460752303423487, 2305843009213693951]\n"
     ]
    }
   ],
   "source": [
    "mersennes = get_primes(3,65)\n",
    "print(mersennes)"
   ]
  },
  {
   "cell_type": "code",
   "execution_count": null,
   "metadata": {},
   "outputs": [],
   "source": []
  },
  {
   "cell_type": "markdown",
   "metadata": {},
   "source": [
    "## Question2: `lucas_lehmer`\n",
    "\n",
    "We can test if a Mersenne number is prime using the [Lucas-Lehmer test](https://en.wikipedia.org/wiki/Lucas%E2%80%93Lehmer_primality_test). First let's write a function that generates the sequence used in the test. Given a Mersenne number with exponent $p$, the sequence can be defined as\n",
    "\n",
    "$$ n_0 = 4 $$\n",
    "$$ n_i = (n_{i-1}^2 - 2) mod (2^p - 1) $$\n",
    "\n",
    "Write a function that accepts the exponent $p$ of a Mersenne number and returns the Lucas-Lehmer sequence up to $i = p - 2$ (inclusive). Remember that the [modulo operation](https://en.wikipedia.org/wiki/Modulo_operation) is implemented in Python as `%`."
   ]
  },
  {
   "cell_type": "code",
   "execution_count": 6,
   "metadata": {},
   "outputs": [],
   "source": [
    "def lucas_lehmer(p):\n",
    "    ll_result = [4]\n",
    "    num = 4\n",
    "    M = 2**p-1\n",
    "    for i in range(1,p-1):\n",
    "        llnum = (num**2-2) % M\n",
    "        ll_result.append(llnum)\n",
    "        num = llnum\n",
    "    return ll_result"
   ]
  },
  {
   "cell_type": "code",
   "execution_count": 7,
   "metadata": {},
   "outputs": [
    {
     "name": "stdout",
     "output_type": "stream",
     "text": [
      "[4, 14, 194, 37634, 95799, 119121, 66179, 53645, 122218, 126220, 70490, 69559, 99585, 78221, 130559, 0]\n"
     ]
    }
   ],
   "source": [
    "ll_result = lucas_lehmer(17)\n",
    "print(ll_result)"
   ]
  },
  {
   "cell_type": "code",
   "execution_count": null,
   "metadata": {},
   "outputs": [],
   "source": []
  },
  {
   "cell_type": "markdown",
   "metadata": {},
   "source": [
    "## Question 3: `mersenne_primes`\n",
    "\n",
    "For a given Mersenne number with exponent $p$, the number is prime if the Lucas-Lehmer series is 0 at position $p-2$. Write a function that tests if a Mersenne number with exponent $p$ is prime. Test if the Mersenne numbers with prime $p$ between 3 and 65 (i.e. 3, 5, 7, ..., 61) are prime. Your final answer should be a list of tuples consisting of `(Mersenne exponent, 0)` (or `1`) for each Mersenne number you test, where `0` and `1` are replacements for `False` and `True` respectively.\n",
    "\n",
    "_HINT: The `zip` function is useful for combining two lists into a list of tuples_"
   ]
  },
  {
   "cell_type": "code",
   "execution_count": 8,
   "metadata": {},
   "outputs": [],
   "source": [
    "def mersenne_number(p):\n",
    "    return 2**p-1\n",
    "\n",
    "\n",
    "def lucas_lehmer(p):\n",
    "    n = 4\n",
    "    seq = [4]\n",
    "    for i in range(0, p-2):\n",
    "        n = (n**2-2)%(2**p-1)\n",
    "        seq.append(n)\n",
    "    return seq\n",
    "\n",
    "def is_primenum(n):\n",
    "    if n<=1:\n",
    "        return False\n",
    "    for i in range(2,n):\n",
    "        if n%i == 0:\n",
    "            return False\n",
    "    return True\n",
    "\n",
    "def get_primes(a,b):\n",
    "    prime_num_lst=[]\n",
    "    for i in range(a,b):\n",
    "        if is_primenum(i):\n",
    "            prime_num_lst.append(i)\n",
    "    return prime_num_lst\n",
    "\n",
    "def ll_prime():\n",
    "    seq = []\n",
    "    for i in get_primes(3,65):\n",
    "        m = mersenne_number(i)\n",
    "        l = lucas_lehmer(i)\n",
    "        if l[i-2] == 0:\n",
    "            seq.append(1)\n",
    "        else:\n",
    "            seq.append(0)\n",
    "    return seq\n",
    "seq = ll_prime()"
   ]
  },
  {
   "cell_type": "code",
   "execution_count": 9,
   "metadata": {},
   "outputs": [
    {
     "name": "stdout",
     "output_type": "stream",
     "text": [
      "[(3, 1), (5, 1), (7, 1), (11, 0), (13, 1), (17, 1), (19, 1), (23, 0), (29, 0), (31, 1), (37, 0), (41, 0), (43, 0), (47, 0), (53, 0), (59, 0), (61, 1)]\n"
     ]
    }
   ],
   "source": [
    "mersenne_primes = list(zip(get_primes(3,65), seq))\n",
    "print(mersenne_primes)"
   ]
  },
  {
   "cell_type": "code",
   "execution_count": null,
   "metadata": {},
   "outputs": [],
   "source": []
  },
  {
   "cell_type": "markdown",
   "metadata": {},
   "source": [
    "## Question4: Optimize `is_prime`\n",
    "\n",
    "You might have noticed that the primality check `is_prime` we developed before is somewhat slow for large numbers. This is because we are doing a ton of extra work checking every possible factor of the tested number. We will use two optimizations to make a `is_prime_fast` function.\n",
    "\n",
    "The first optimization takes advantage of the fact that two is the only even prime.  Thus we can check if a number is even and as long as its greater than 2, we know that it is not prime.\n",
    "\n",
    "Our second optimization takes advantage of the fact that when checking factors, we only need to check odd factors up to the square root of a number.  Consider a number $n$ decomposed into factors $n=ab$.  There are two cases, either $n$ is prime and without loss of generality, $a=n, b=1$ or $n$ is not prime and $a,b \\neq n,1$.  In this case, if $a > \\sqrt{n}$, then $b<\\sqrt{n}$.  So we only need to check all possible values of $b$ and we get the values of $a$ for free!  This means that even the simple method of checking factors will increase in complexity as a square root compared to the size of the number instead of linearly.\n",
    "\n",
    "Lets write the function to do this and check the speed!  `is_prime_fast` will take a number and return whether or not it is prime.\n",
    "\n",
    "You will see the functions followed by a cell with an `assert` statement.  These cells should run and produce no output, if they produce an error, then your function needs to be modified.  Do not modify the assert statements, they are exactly as they should be!"
   ]
  },
  {
   "cell_type": "code",
   "execution_count": 10,
   "metadata": {},
   "outputs": [],
   "source": [
    "import math\n",
    "def is_prime_fast(number):\n",
    "    a=int(math.ceil(math.sqrt(number)))\n",
    "    if number <=1 or (number %2 == 0 and number >2):\n",
    "        return False\n",
    "    for i in range(3,a+1):\n",
    "        if number % i ==0 :\n",
    "            return False\n",
    "    return True"
   ]
  },
  {
   "cell_type": "code",
   "execution_count": 11,
   "metadata": {},
   "outputs": [
    {
     "data": {
      "text/plain": [
       "True"
      ]
     },
     "execution_count": 11,
     "metadata": {},
     "output_type": "execute_result"
    }
   ],
   "source": [
    "is_prime_fast(199)"
   ]
  },
  {
   "cell_type": "code",
   "execution_count": 12,
   "metadata": {},
   "outputs": [],
   "source": [
    "# Run the following cell to make sure it finds the same primes as the original function.\n",
    "for n in range(10000):\n",
    "    assert is_prime(n) == is_prime_fast(n)"
   ]
  },
  {
   "cell_type": "raw",
   "metadata": {},
   "source": [
    "Now lets check the timing, here we will use the `%%timeit` magic which will time the execution of a particular cell."
   ]
  },
  {
   "cell_type": "code",
   "execution_count": 13,
   "metadata": {},
   "outputs": [
    {
     "name": "stdout",
     "output_type": "stream",
     "text": [
      "4.51 s ± 1.09 s per loop (mean ± std. dev. of 7 runs, 1 loop each)\n"
     ]
    }
   ],
   "source": [
    "%%timeit\n",
    "is_prime(67867967)"
   ]
  },
  {
   "cell_type": "code",
   "execution_count": 14,
   "metadata": {},
   "outputs": [
    {
     "name": "stdout",
     "output_type": "stream",
     "text": [
      "547 µs ± 35.6 µs per loop (mean ± std. dev. of 7 runs, 1000 loops each)\n"
     ]
    }
   ],
   "source": [
    "%%timeit\n",
    "is_prime_fast(67867967)"
   ]
  },
  {
   "cell_type": "code",
   "execution_count": 15,
   "metadata": {},
   "outputs": [],
   "source": [
    "def get_primes_fast(n):\n",
    "    mersennes = []\n",
    "    for x in range(1,n+1):\n",
    "        if is_prime_fast(x):\n",
    "            mersennes.append(x)\n",
    "    return mersennes"
   ]
  },
  {
   "cell_type": "code",
   "execution_count": null,
   "metadata": {},
   "outputs": [],
   "source": []
  },
  {
   "cell_type": "markdown",
   "metadata": {},
   "source": [
    "## Question 5: sieve\n",
    "\n",
    "In this problem we will develop an even faster method which is known as the Sieve of Eratosthenes (although it will be more expensive in terms of memory). The Sieve of Eratosthenes is an example of dynamic programming, where the general idea is to not redo computations we have already done (read more about it [here](https://en.wikipedia.org/wiki/Dynamic_programming)).  We will break this sieve down into several small functions. \n",
    "\n",
    "Our submission will be a list of all prime numbers less than 2000.\n",
    "\n",
    "The method works as follows (see [here](https://en.wikipedia.org/wiki/Sieve_of_Eratosthenes) for more details)\n",
    "\n",
    "1. Generate a list of all numbers between 0 and N; mark the numbers 0 and 1 to be not prime\n",
    "2. Starting with $p=2$ (the first prime) mark all numbers of the form $np$ where $n>1$ and $np <= N$ to be not prime (they can't be prime since they are multiples of 2!)\n",
    "3. Find the smallest number greater than $p$ which is not marked and set that equal to $p$, then go back to step 2.  Stop if there is no unmarked number greater than $p$ and less than $N+1$\n",
    "\n",
    "We will break this up into a few functions, our general strategy will be to use a Python `list` as our container although we could use other data structures.  The index of this list will represent numbers.\n",
    "\n",
    "We have implemented a `sieve` function which will find all the prime numbers up to $n$.  You will need to implement the functions which it calls.  They are as follows\n",
    "\n",
    "* `list_true` Make a list of true values of length $n+1$ where the first two values are false (this corresponds with step 1 of the algorithm above)\n",
    "* `mark_false` takes a list of booleans and a number $p$.  Mark all elements $2p,3p,...n$ false (this corresponds with step 2 of the algorithm above)\n",
    "* `find_next` Find the smallest `True` element in a list which is greater than some $p$ (has index greater than $p$ (this corresponds with step 3 of the algorithm above)\n",
    "* `prime_from_list` Return indices of True values\n",
    "\n",
    "Remember that python lists are zero indexed. We have provided assertions below to help you assess whether your functions are functioning properly."
   ]
  },
  {
   "cell_type": "code",
   "execution_count": 16,
   "metadata": {},
   "outputs": [],
   "source": [
    "def list_true(n):\n",
    "    listk =[]\n",
    "    for i in range(0,n+1):\n",
    "        if i <=1:\n",
    "            listk.append(False)\n",
    "# why cant append numbers instead of true ???\n",
    "        else:\n",
    "            listk.append(True)\n",
    "    return listk\n",
    "    "
   ]
  },
  {
   "cell_type": "code",
   "execution_count": 17,
   "metadata": {},
   "outputs": [],
   "source": [
    "assert len(list_true(20)) == 21\n",
    "assert list_true(20)[0] is False\n",
    "assert list_true(20)[1] is False"
   ]
  },
  {
   "cell_type": "markdown",
   "metadata": {},
   "source": [
    "Now we want to write a function which takes a list of elements and a number $p$ and marks elements false which are in the range $2p,3p ... N$."
   ]
  },
  {
   "cell_type": "code",
   "execution_count": 18,
   "metadata": {},
   "outputs": [],
   "source": [
    "def mark_false(bool_list, p):\n",
    "    for i in range(2,len(bool_list)):\n",
    "        if i != p and i % p ==0 :\n",
    "            bool_list[i] = False\n",
    "    return bool_list"
   ]
  },
  {
   "cell_type": "code",
   "execution_count": 19,
   "metadata": {},
   "outputs": [],
   "source": [
    "assert mark_false(list_true(6), 2) == [False, False, True, True, False, True, False]"
   ]
  },
  {
   "cell_type": "markdown",
   "metadata": {},
   "source": [
    "Now lets write a `find_next` function which returns the smallest element in a list which is not false and is greater than $p$."
   ]
  },
  {
   "cell_type": "code",
   "execution_count": 20,
   "metadata": {},
   "outputs": [],
   "source": [
    "def find_next(bool_list, p):\n",
    "    for i in range(p+1,len(bool_list)):\n",
    "        if bool_list[i] == True:\n",
    "            return i\n",
    "            break\n",
    "    return None"
   ]
  },
  {
   "cell_type": "code",
   "execution_count": 21,
   "metadata": {},
   "outputs": [
    {
     "name": "stdout",
     "output_type": "stream",
     "text": [
      "None\n"
     ]
    }
   ],
   "source": [
    "print(find_next([True, True, True, False], 2))"
   ]
  },
  {
   "cell_type": "code",
   "execution_count": 22,
   "metadata": {},
   "outputs": [],
   "source": [
    "assert find_next([True, True, True, True], 2) == 3\n",
    "assert find_next([True, True, True, False], 2) is None"
   ]
  },
  {
   "cell_type": "markdown",
   "metadata": {},
   "source": [
    "Now given a list of `True` and `False`, return the index of the true values."
   ]
  },
  {
   "cell_type": "code",
   "execution_count": 23,
   "metadata": {},
   "outputs": [],
   "source": [
    "def prime_from_list(bool_list):\n",
    "    value=[]\n",
    "    for i in range(0,len(bool_list)):\n",
    "        if bool_list[i]:\n",
    "            value.append(i)\n",
    "    return value"
   ]
  },
  {
   "cell_type": "code",
   "execution_count": 24,
   "metadata": {},
   "outputs": [],
   "source": [
    "assert prime_from_list([False, False, True, True, False]) ==  [2, 3]"
   ]
  },
  {
   "cell_type": "code",
   "execution_count": 25,
   "metadata": {},
   "outputs": [],
   "source": [
    "def sieve(n):\n",
    "    bool_list = list_true(n)\n",
    "    p = 2\n",
    "    while p is not None:\n",
    "        bool_list = mark_false(bool_list, p)\n",
    "        p = find_next(bool_list, p)\n",
    "    return prime_from_list(bool_list)"
   ]
  },
  {
   "cell_type": "code",
   "execution_count": 26,
   "metadata": {},
   "outputs": [
    {
     "name": "stdout",
     "output_type": "stream",
     "text": [
      "[2, 3, 5, 7, 11, 13, 17, 19, 23, 29, 31, 37, 41, 43, 47, 53, 59, 61, 67, 71, 73, 79, 83, 89, 97, 101, 103, 107, 109, 113, 127, 131, 137, 139, 149, 151, 157, 163, 167, 173, 179, 181, 191, 193, 197, 199, 211, 223, 227, 229, 233, 239, 241, 251, 257, 263, 269, 271, 277, 281, 283, 293, 307, 311, 313, 317, 331, 337, 347, 349, 353, 359, 367, 373, 379, 383, 389, 397, 401, 409, 419, 421, 431, 433, 439, 443, 449, 457, 461, 463, 467, 479, 487, 491, 499, 503, 509, 521, 523, 541, 547, 557, 563, 569, 571, 577, 587, 593, 599, 601, 607, 613, 617, 619, 631, 641, 643, 647, 653, 659, 661, 673, 677, 683, 691, 701, 709, 719, 727, 733, 739, 743, 751, 757, 761, 769, 773, 787, 797, 809, 811, 821, 823, 827, 829, 839, 853, 857, 859, 863, 877, 881, 883, 887, 907, 911, 919, 929, 937, 941, 947, 953, 967, 971, 977, 983, 991, 997]\n"
     ]
    }
   ],
   "source": [
    "print(sieve(1000))"
   ]
  },
  {
   "cell_type": "code",
   "execution_count": 27,
   "metadata": {},
   "outputs": [],
   "source": [
    "assert sieve(1000) == get_primes(0, 1000)"
   ]
  },
  {
   "cell_type": "code",
   "execution_count": 28,
   "metadata": {},
   "outputs": [
    {
     "name": "stdout",
     "output_type": "stream",
     "text": [
      "12.8 ms ± 2.06 ms per loop (mean ± std. dev. of 7 runs, 10 loops each)\n"
     ]
    }
   ],
   "source": [
    "%%timeit \n",
    "sieve(1000)"
   ]
  },
  {
   "cell_type": "code",
   "execution_count": 29,
   "metadata": {},
   "outputs": [
    {
     "name": "stdout",
     "output_type": "stream",
     "text": [
      "4.31 ms ± 271 µs per loop (mean ± std. dev. of 7 runs, 100 loops each)\n"
     ]
    }
   ],
   "source": [
    "%%timeit \n",
    "get_primes(0, 1000)"
   ]
  },
  {
   "cell_type": "code",
   "execution_count": null,
   "metadata": {},
   "outputs": [],
   "source": []
  }
 ],
 "metadata": {
  "kernelspec": {
   "display_name": "Python 3 (ipykernel)",
   "language": "python",
   "name": "python3"
  },
  "language_info": {
   "codemirror_mode": {
    "name": "ipython",
    "version": 3
   },
   "file_extension": ".py",
   "mimetype": "text/x-python",
   "name": "python",
   "nbconvert_exporter": "python",
   "pygments_lexer": "ipython3",
   "version": "3.8.13"
  }
 },
 "nbformat": 4,
 "nbformat_minor": 2
}
