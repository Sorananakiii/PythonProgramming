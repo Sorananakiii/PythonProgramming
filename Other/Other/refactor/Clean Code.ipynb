{
 "cells": [
  {
   "cell_type": "markdown",
   "metadata": {},
   "source": [
    "# Writing Clean Code: Meaningful Names\n",
    "\n",
    "   - Be descriptive and imply type - E.g. for booleans, you can prefix with is_ or has_ to make it clear it is a condition. You can also use part of speech to imply types, like verbs for functions and nouns for variables.\n",
    "\n",
    "   - Be consistent but clearly differentiate - E.g. age_list and age is easier to differentiate than ages and age.\n",
    "\n",
    "   - Avoid abbreviations and especially single letters - (Exception: counters and common math variables) Choosing when these exceptions can be made can be determined based on the audience for your code. If you work with other data scientists, certain variables may be common knowledge. While if you work with full stack engineers, it might be necessary to provide more descriptive names in these cases as well.\n",
    "\n",
    "   - Long names != descriptive names - You should be descriptive, but only with relevant information. E.g. good functions names describe what they do well without including details about implementation or highly specific uses."
   ]
  },
  {
   "cell_type": "code",
   "execution_count": 1,
   "metadata": {},
   "outputs": [
    {
     "name": "stdout",
     "output_type": "stream",
     "text": [
      "3.0\n",
      "16.764664694883525\n"
     ]
    }
   ],
   "source": [
    "# Not meaning for the name\n",
    "s = [1,2,3,4,5]\n",
    "print(sum(s)/len(s))\n",
    "\n",
    "sl = [x ** 0.5 * 10 for x in s]\n",
    "print(sum(sl)/len(sl))"
   ]
  },
  {
   "cell_type": "code",
   "execution_count": 3,
   "metadata": {},
   "outputs": [
    {
     "name": "stdout",
     "output_type": "stream",
     "text": [
      "3.0\n",
      "16.764664694883525\n"
     ]
    }
   ],
   "source": [
    "import math\n",
    "import numpy as np\n",
    "\n",
    "test_scores = [1,2,3,4,5]\n",
    "print(np.mean(test_scores))\n",
    "\n",
    "curved_test_scores = [math.sqrt(score) * 10 for score in test_scores]\n",
    "print(np.mean(curved_test_scores))"
   ]
  },
  {
   "cell_type": "code",
   "execution_count": 4,
   "metadata": {},
   "outputs": [
    {
     "name": "stdout",
     "output_type": "stream",
     "text": [
      "3.0\n"
     ]
    }
   ],
   "source": [
    "# dont need to creat a long name\n",
    "test_scores_from_the_school_in_2020 = [1,2,3,4,5]\n",
    "print(np.mean(test_scores_from_the_school_in_2020))"
   ]
  },
  {
   "cell_type": "code",
   "execution_count": null,
   "metadata": {},
   "outputs": [],
   "source": []
  },
  {
   "cell_type": "code",
   "execution_count": null,
   "metadata": {},
   "outputs": [],
   "source": [
    "t = end_time - start\n",
    "c = category(t)\n",
    "print('Task Duration: {} seconds, Category: {}'.format(t, c)\n",
    "\n",
    "execution_time = end_time - start_time\n",
    "category = categorize_task(execution_time)\n",
    "print('Task Duration: {} seconds, Category: {}'.format(execution_time, category)"
   ]
  },
  {
   "cell_type": "code",
   "execution_count": null,
   "metadata": {},
   "outputs": [],
   "source": []
  },
  {
   "cell_type": "markdown",
   "metadata": {},
   "source": [
    "### Nice Whitespace\n",
    "- Organize your code with consistent indentation - the standard is to use 4 spaces for each indent. You can make this a default in your text editor.\n",
    "- Separate sections with blank lines to keep your code well organized and readable.\n",
    "- Try to limit your lines to around 79 characters, which is the guideline given in the PEP 8 style guide. In many good text editors, there is a setting to display a subtle line that indicates where the 79 character limit is."
   ]
  },
  {
   "cell_type": "code",
   "execution_count": null,
   "metadata": {},
   "outputs": [],
   "source": []
  }
 ],
 "metadata": {
  "kernelspec": {
   "display_name": "Python 3",
   "language": "python",
   "name": "python3"
  },
  "language_info": {
   "codemirror_mode": {
    "name": "ipython",
    "version": 3
   },
   "file_extension": ".py",
   "mimetype": "text/x-python",
   "name": "python",
   "nbconvert_exporter": "python",
   "pygments_lexer": "ipython3",
   "version": "3.7.3"
  }
 },
 "nbformat": 4,
 "nbformat_minor": 2
}
