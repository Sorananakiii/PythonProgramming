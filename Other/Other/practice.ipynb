{
 "cells": [
  {
   "cell_type": "code",
   "execution_count": null,
   "id": "5d18290b",
   "metadata": {},
   "outputs": [],
   "source": [
    "N = int(input())\n",
    "empty = []\n",
    "conv = []\n",
    "\n",
    "for i in range(N):\n",
    "    x = input().split()\n",
    "    empty.append(x)\n",
    "\n",
    "for i in range(len(empty)):\n",
    "    if empty[i][0] == 'insert':\n",
    "        x = int(empty[i][1])\n",
    "        y = int(empty[i][2])\n",
    "        conv.insert(x,y)\n",
    "    elif empty[i][0] == 'print':\n",
    "        print(conv)\n",
    "    elif empty[i][0] == 'remove':\n",
    "        conv.remove(int(empty[i][1]))\n",
    "    elif empty[i][0] == 'append':\n",
    "        conv.append(int(empty[i][1]))\n",
    "    elif empty[i][0] == 'sort':\n",
    "        conv.sort()\n",
    "    elif empty[i][0] == 'pop':\n",
    "        conv.pop()\n",
    "    elif empty[i][0] == 'reverse':\n",
    "        conv.reverse()\n",
    "        \n",
    "'''\n",
    "12\n",
    "insert 0 5\n",
    "insert 1 10\n",
    "insert 0 6\n",
    "print\n",
    "remove 6\n",
    "append 9\n",
    "append 1\n",
    "sort\n",
    "print\n",
    "pop\n",
    "reverse\n",
    "print\n",
    "'''"
   ]
  },
  {
   "cell_type": "code",
   "execution_count": 3,
   "id": "ea417322",
   "metadata": {},
   "outputs": [
    {
     "name": "stdout",
     "output_type": "stream",
     "text": [
      "2\n",
      "1 1\n",
      "1 1\n"
     ]
    }
   ],
   "source": [
    "import numpy\n",
    "\n",
    "N = int(input())\n",
    "inp = []\n",
    "for i in range(N):\n",
    "    int_list = list(map(float, input().split()))\n",
    "    inp.append(int_list)\n",
    "\n",
    "print(round(numpy.linalg.det(inp), 2))"
   ]
  },
  {
   "cell_type": "code",
   "execution_count": 11,
   "id": "6418fbe4",
   "metadata": {},
   "outputs": [
    {
     "name": "stdout",
     "output_type": "stream",
     "text": [
      "5\n",
      "1\n",
      "121\n",
      "12321\n",
      "1234321\n",
      "123454321\n"
     ]
    }
   ],
   "source": [
    "for i in range(1,int(input())+1): \n",
    "    print(((10**i)//9)**2)"
   ]
  },
  {
   "cell_type": "code",
   "execution_count": null,
   "id": "c9511f20",
   "metadata": {},
   "outputs": [],
   "source": []
  },
  {
   "cell_type": "code",
   "execution_count": null,
   "id": "49e000d0",
   "metadata": {},
   "outputs": [],
   "source": []
  },
  {
   "cell_type": "code",
   "execution_count": 1,
   "id": "2c734474",
   "metadata": {},
   "outputs": [
    {
     "name": "stdout",
     "output_type": "stream",
     "text": [
      "rabcdeefgyYhFjkIoomnpOeorteeeeet\n",
      "ee\n",
      "Ioo\n",
      "Oeo\n",
      "eeeee\n"
     ]
    }
   ],
   "source": [
    "import re\n",
    "# strings = 'rabcdeefgyYhFjkIoomnpOeorteeeeet'\n",
    "s = '[qwrtypsdfghjklzxcvbnm]'\n",
    "a = re.findall('(?<=' + s +')([aeiou]{2,})' + s, input(), re.I)\n",
    "print('\\n'.join(a or ['-1']))"
   ]
  },
  {
   "cell_type": "code",
   "execution_count": null,
   "id": "f02b3ff7",
   "metadata": {},
   "outputs": [],
   "source": []
  },
  {
   "cell_type": "code",
   "execution_count": 11,
   "id": "3eacb4cc",
   "metadata": {},
   "outputs": [
    {
     "name": "stdout",
     "output_type": "stream",
     "text": [
      "aaaaaaa\n"
     ]
    }
   ],
   "source": [
    "ac = 'aa'\n",
    "m = re.search(ac, 'aaadaa')\n",
    "if m:\n",
    "    print('aaaaaaa')"
   ]
  },
  {
   "cell_type": "code",
   "execution_count": null,
   "id": "1ddc2fa2",
   "metadata": {},
   "outputs": [],
   "source": []
  },
  {
   "cell_type": "code",
   "execution_count": 14,
   "id": "9802f75b",
   "metadata": {},
   "outputs": [
    {
     "name": "stdout",
     "output_type": "stream",
     "text": [
      "this-is-a-string\n"
     ]
    }
   ],
   "source": [
    "line = \"this is a string\"\n",
    "print('-'.join(line.strip().split(' ')))"
   ]
  },
  {
   "cell_type": "code",
   "execution_count": null,
   "id": "398e4c3d",
   "metadata": {},
   "outputs": [],
   "source": []
  },
  {
   "cell_type": "code",
   "execution_count": 15,
   "id": "080d2811",
   "metadata": {},
   "outputs": [
    {
     "name": "stdout",
     "output_type": "stream",
     "text": [
      "17\n",
      "    1     1     1     1\n",
      "    2     2     2    10\n",
      "    3     3     3    11\n",
      "    4     4     4   100\n",
      "    5     5     5   101\n",
      "    6     6     6   110\n",
      "    7     7     7   111\n",
      "    8    10     8  1000\n",
      "    9    11     9  1001\n",
      "   10    12     A  1010\n",
      "   11    13     B  1011\n",
      "   12    14     C  1100\n",
      "   13    15     D  1101\n",
      "   14    16     E  1110\n",
      "   15    17     F  1111\n",
      "   16    20    10 10000\n",
      "   17    21    11 10001\n"
     ]
    }
   ],
   "source": [
    "def print_formatted(number):\n",
    "    # your code goes here\n",
    "    width = len(\"{0:b}\".format(number))\n",
    "    for i in range(1,n+1):\n",
    "        print( \"{0:{width}d} {0:{width}o} {0:{width}X} {0:{width}b}\".format(i, width=width))    \n",
    "if __name__ == '__main__':\n",
    "    n = int(input())\n",
    "    print_formatted(n)"
   ]
  },
  {
   "cell_type": "code",
   "execution_count": null,
   "id": "bd0e9d43",
   "metadata": {},
   "outputs": [],
   "source": []
  },
  {
   "cell_type": "code",
   "execution_count": 17,
   "id": "6c1c48f1",
   "metadata": {},
   "outputs": [
    {
     "data": {
      "text/plain": [
       "4"
      ]
     },
     "execution_count": 17,
     "metadata": {},
     "output_type": "execute_result"
    }
   ],
   "source": [
    "4 % 5"
   ]
  },
  {
   "cell_type": "code",
   "execution_count": null,
   "id": "3f90c90a",
   "metadata": {},
   "outputs": [],
   "source": []
  },
  {
   "cell_type": "code",
   "execution_count": null,
   "id": "5ec074e5",
   "metadata": {},
   "outputs": [],
   "source": [
    "def rotateLeft(d, arr):\n",
    "    # Write your code here\n",
    "    n = len(arr)\n",
    "    an = d % n\n",
    "    return arr[an:] + arr[:an]\n",
    "\n",
    "if __name__ == '__main__':\n",
    "    fptr = open(os.environ['OUTPUT_PATH'], 'w')\n",
    "\n",
    "    first_multiple_input = input().rstrip().split()\n",
    "\n",
    "    n = int(first_multiple_input[0])\n",
    "\n",
    "    d = int(first_multiple_input[1])\n",
    "\n",
    "    arr = list(map(int, input().rstrip().split()))\n",
    "\n",
    "    result = rotateLeft(d, arr)\n",
    "\n",
    "    fptr.write(' '.join(map(str, result)))\n",
    "    fptr.write('\\n')\n",
    "\n",
    "    fptr.close()"
   ]
  },
  {
   "cell_type": "code",
   "execution_count": null,
   "id": "d819e377",
   "metadata": {},
   "outputs": [],
   "source": []
  },
  {
   "cell_type": "code",
   "execution_count": null,
   "id": "7b7db6c1",
   "metadata": {},
   "outputs": [],
   "source": [
    "def arrayManipulation(n, queries):\n",
    "    # Write your code here\n",
    "    result = [0] * n\n",
    "    for q in queries:\n",
    "        a, b, k = q\n",
    "        for i in range(a-1, b):\n",
    "            result[i] += k\n",
    "            \n",
    "    return max(result)\n"
   ]
  },
  {
   "cell_type": "code",
   "execution_count": null,
   "id": "5b8bf15f",
   "metadata": {},
   "outputs": [],
   "source": []
  },
  {
   "cell_type": "code",
   "execution_count": 19,
   "id": "03ba205e",
   "metadata": {},
   "outputs": [
    {
     "name": "stdout",
     "output_type": "stream",
     "text": [
      "A\n",
      "A\n",
      "B\n"
     ]
    }
   ],
   "source": [
    "tiles = \"AAB\"\n",
    "for t in tiles:\n",
    "    print(t)"
   ]
  },
  {
   "cell_type": "code",
   "execution_count": null,
   "id": "4268e1fc",
   "metadata": {},
   "outputs": [],
   "source": [
    "1 --> 1c1*1! = 1\n",
    "2 --> 2c1*1! + 2c2*2! = 4\n",
    "3 --> 3c1*1!-1 + 3c2*2!/2! + 3c3*3!/2! = 15\n",
    "\n",
    "6 --> 6c1 - 3 + 6c2*2!/3!2!"
   ]
  },
  {
   "cell_type": "code",
   "execution_count": null,
   "id": "9ff4d3b8",
   "metadata": {},
   "outputs": [],
   "source": []
  },
  {
   "cell_type": "code",
   "execution_count": 32,
   "id": "144149f7",
   "metadata": {},
   "outputs": [
    {
     "name": "stdout",
     "output_type": "stream",
     "text": [
      "(2, [2, 2, 3, 3])\n"
     ]
    }
   ],
   "source": [
    "def removeElement(nums: [int], val: int) -> int:\n",
    "    right = len(nums)-1\n",
    "    i = right\n",
    "    while i >= 0:\n",
    "        if nums[i] == val:\n",
    "            # swap the element with whatever is on the right.\n",
    "            nums[i] = nums[right]\n",
    "            nums[right] = val\n",
    "            right -= 1\n",
    "        i -= 1\n",
    "    return right + 1, nums\n",
    "\n",
    "print(removeElement([3, 2, 2, 3], 3))"
   ]
  },
  {
   "cell_type": "code",
   "execution_count": 34,
   "id": "b77ec78e",
   "metadata": {},
   "outputs": [
    {
     "name": "stdout",
     "output_type": "stream",
     "text": [
      "[[2, 2, 3], [2, 5], [7]]\n"
     ]
    }
   ],
   "source": [
    "def combinationSum(candidates: [int], target: int) -> [[int]]:\n",
    "\n",
    "    result = []\n",
    "    combinationSumRecu(sorted(candidates), result, 0, [], target)\n",
    "    return result\n",
    "\n",
    "def combinationSumRecu(candidates, result, start, intermediate, target):\n",
    "    if target == 0:\n",
    "        result.append(list(intermediate))\n",
    "    while start < len(candidates) and candidates[start] <= target:\n",
    "        intermediate.append(candidates[start])\n",
    "        combinationSumRecu(candidates, result, start, intermediate, target - candidates[start])\n",
    "        intermediate.pop()\n",
    "        start += 1\n",
    "        \n",
    "print(combinationSum([2, 3, 5, 7], 7))"
   ]
  },
  {
   "cell_type": "code",
   "execution_count": null,
   "id": "b13be6b5",
   "metadata": {},
   "outputs": [],
   "source": []
  }
 ],
 "metadata": {
  "kernelspec": {
   "display_name": "Python [conda env:basic] *",
   "language": "python",
   "name": "conda-env-basic-py"
  },
  "language_info": {
   "codemirror_mode": {
    "name": "ipython",
    "version": 3
   },
   "file_extension": ".py",
   "mimetype": "text/x-python",
   "name": "python",
   "nbconvert_exporter": "python",
   "pygments_lexer": "ipython3",
   "version": "3.8.13"
  }
 },
 "nbformat": 4,
 "nbformat_minor": 5
}
