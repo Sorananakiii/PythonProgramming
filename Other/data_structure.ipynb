{
 "cells": [
  {
   "cell_type": "markdown",
   "id": "ce78d43f-8c81-46f3-afaf-a0f77b558e3b",
   "metadata": {},
   "source": [
    "# **List**"
   ]
  },
  {
   "cell_type": "code",
   "execution_count": 11,
   "id": "06372b2c-1d60-4db8-98d4-19a37c4c1464",
   "metadata": {},
   "outputs": [
    {
     "name": "stdout",
     "output_type": "stream",
     "text": [
      "[1, True, 'apple', 2, False, 'dog', 3, True, 'banana']\n",
      "[1, True]\n",
      "apple\n",
      "9\n"
     ]
    }
   ],
   "source": [
    "# list : ordered, mutable, allows duplicate element and mutilple data type\n",
    "list_sample = [1, True, \"apple\", 2, False, \"dog\", 3, True, \"banana\"]\n",
    "print(list_sample)\n",
    "print(list_sample[:2])\n",
    "print(list_sample[2])\n",
    "print(len(list_sample))"
   ]
  },
  {
   "cell_type": "code",
   "execution_count": 28,
   "id": "bf02189e-64c1-4c78-b9bf-e22018698e60",
   "metadata": {},
   "outputs": [
    {
     "name": "stdout",
     "output_type": "stream",
     "text": [
      "['__add__', '__class__', '__class_getitem__', '__contains__', '__delattr__', '__delitem__', '__dir__', '__doc__', '__eq__', '__format__', '__ge__', '__getattribute__', '__getitem__', '__gt__', '__hash__', '__iadd__', '__imul__', '__init__', '__init_subclass__', '__iter__', '__le__', '__len__', '__lt__', '__mul__', '__ne__', '__new__', '__reduce__', '__reduce_ex__', '__repr__', '__reversed__', '__rmul__', '__setattr__', '__setitem__', '__sizeof__', '__str__', '__subclasshook__', 'append', 'clear', 'copy', 'count', 'extend', 'index', 'insert', 'pop', 'remove', 'reverse', 'sort']\n"
     ]
    }
   ],
   "source": [
    "print(dir(list_sample_a))"
   ]
  },
  {
   "cell_type": "markdown",
   "id": "ed4bbda5-6fb6-4a9b-8f92-cb167e837854",
   "metadata": {},
   "source": [
    "# **Tuple**"
   ]
  },
  {
   "cell_type": "code",
   "execution_count": 13,
   "id": "fe1c4172-2b27-4b4d-aa52-eb8e2cbc35f0",
   "metadata": {},
   "outputs": [
    {
     "name": "stdout",
     "output_type": "stream",
     "text": [
      "(1, True, 'apple', 2, False, 'dog', 3, True, 'banana')\n",
      "(1, True)\n",
      "apple\n",
      "9\n"
     ]
    }
   ],
   "source": [
    "# tuple : ordered, immutable, allows duplicate element and mutilple data type\n",
    "tuple_sample = (1, True, \"apple\", 2, False, \"dog\", 3, True, \"banana\")\n",
    "print(tuple_sample)\n",
    "print(tuple_sample[:2])\n",
    "print(tuple_sample[2])\n",
    "print(len(tuple_sample))"
   ]
  },
  {
   "cell_type": "code",
   "execution_count": 27,
   "id": "416b55c9-ed55-4e54-b7a1-91439af595e2",
   "metadata": {},
   "outputs": [
    {
     "name": "stdout",
     "output_type": "stream",
     "text": [
      "['__add__', '__class__', '__class_getitem__', '__contains__', '__delattr__', '__dir__', '__doc__', '__eq__', '__format__', '__ge__', '__getattribute__', '__getitem__', '__getnewargs__', '__gt__', '__hash__', '__init__', '__init_subclass__', '__iter__', '__le__', '__len__', '__lt__', '__mul__', '__ne__', '__new__', '__reduce__', '__reduce_ex__', '__repr__', '__rmul__', '__setattr__', '__sizeof__', '__str__', '__subclasshook__', 'count', 'index']\n"
     ]
    }
   ],
   "source": [
    "print(dir(tuple_sample))"
   ]
  },
  {
   "cell_type": "markdown",
   "id": "749480fb-f31c-41ce-977f-0eec9e94cc7d",
   "metadata": {},
   "source": [
    "# **Dict**"
   ]
  },
  {
   "cell_type": "code",
   "execution_count": 15,
   "id": "0abfa1f5-5c4d-4211-b743-cee0354f0328",
   "metadata": {},
   "outputs": [],
   "source": [
    "# Dict : unordered, mutable, key-value pair\n",
    "dict_sample = {1: \"apple\", 2: \"dog\", 3: \"banana\"}"
   ]
  },
  {
   "cell_type": "code",
   "execution_count": null,
   "id": "7df5298b-1997-42ce-a18d-a47d7286c7f0",
   "metadata": {},
   "outputs": [],
   "source": [
    "print([key for key in dict_sample.keys()])\n",
    "print([item for item in dict_sample.values()])\n",
    "print([(key, item) for key, item in dict_sample.items()])"
   ]
  },
  {
   "cell_type": "code",
   "execution_count": 26,
   "id": "0cd31399-633d-4ffb-a08b-236b2ea576d4",
   "metadata": {},
   "outputs": [
    {
     "name": "stdout",
     "output_type": "stream",
     "text": [
      "['__class__', '__class_getitem__', '__contains__', '__delattr__', '__delitem__', '__dir__', '__doc__', '__eq__', '__format__', '__ge__', '__getattribute__', '__getitem__', '__gt__', '__hash__', '__init__', '__init_subclass__', '__ior__', '__iter__', '__le__', '__len__', '__lt__', '__ne__', '__new__', '__or__', '__reduce__', '__reduce_ex__', '__repr__', '__reversed__', '__ror__', '__setattr__', '__setitem__', '__sizeof__', '__str__', '__subclasshook__', 'clear', 'copy', 'fromkeys', 'get', 'items', 'keys', 'pop', 'popitem', 'setdefault', 'update', 'values']\n"
     ]
    }
   ],
   "source": [
    "print(dir(dict_sample))"
   ]
  },
  {
   "cell_type": "markdown",
   "id": "2a548d60-b1c3-4f3c-b5b6-0757fdcb3fb4",
   "metadata": {},
   "source": [
    "# **Set**"
   ]
  },
  {
   "cell_type": "code",
   "execution_count": 22,
   "id": "22654e0b-8f2f-4eeb-b44c-bca8a97c2170",
   "metadata": {},
   "outputs": [
    {
     "name": "stdout",
     "output_type": "stream",
     "text": [
      "['__and__', '__class__', '__class_getitem__', '__contains__', '__delattr__', '__dir__', '__doc__', '__eq__', '__format__', '__ge__', '__getattribute__', '__gt__', '__hash__', '__iand__', '__init__', '__init_subclass__', '__ior__', '__isub__', '__iter__', '__ixor__', '__le__', '__len__', '__lt__', '__ne__', '__new__', '__or__', '__rand__', '__reduce__', '__reduce_ex__', '__repr__', '__ror__', '__rsub__', '__rxor__', '__setattr__', '__sizeof__', '__str__', '__sub__', '__subclasshook__', '__xor__', 'add', 'clear', 'copy', 'difference', 'difference_update', 'discard', 'intersection', 'intersection_update', 'isdisjoint', 'issubset', 'issuperset', 'pop', 'remove', 'symmetric_difference', 'symmetric_difference_update', 'union', 'update']\n"
     ]
    }
   ],
   "source": [
    "# Set : unordered, mutable, no duplicates\n",
    "set_sample = set()\n",
    "print(dir(set_sample))"
   ]
  },
  {
   "cell_type": "code",
   "execution_count": 25,
   "id": "5609b69e-9d91-41cc-83e3-bcc5ee74ede6",
   "metadata": {},
   "outputs": [
    {
     "name": "stdout",
     "output_type": "stream",
     "text": [
      "{1, 2, 3}\n",
      "{1, 3}\n",
      "set()\n"
     ]
    }
   ],
   "source": [
    "set_sample.add(1)\n",
    "set_sample.add(2)\n",
    "set_sample.add(3)\n",
    "print(set_sample)\n",
    "set_sample.remove(2)\n",
    "print(set_sample)\n",
    "set_sample.clear()\n",
    "print(set_sample)"
   ]
  },
  {
   "cell_type": "code",
   "execution_count": null,
   "id": "0f16b0f1-1f51-471f-9f5d-014d7c89b161",
   "metadata": {},
   "outputs": [],
   "source": []
  }
 ],
 "metadata": {
  "kernelspec": {
   "display_name": "Python [conda env:py_torch]",
   "language": "python",
   "name": "conda-env-py_torch-py"
  },
  "language_info": {
   "codemirror_mode": {
    "name": "ipython",
    "version": 3
   },
   "file_extension": ".py",
   "mimetype": "text/x-python",
   "name": "python",
   "nbconvert_exporter": "python",
   "pygments_lexer": "ipython3",
   "version": "3.9.12"
  }
 },
 "nbformat": 4,
 "nbformat_minor": 5
}
