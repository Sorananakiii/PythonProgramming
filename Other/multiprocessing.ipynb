{
 "cells": [
  {
   "cell_type": "code",
   "execution_count": null,
   "id": "114a41e3-6326-46cd-89cc-0ce3b0f4de64",
   "metadata": {},
   "outputs": [],
   "source": [
    "\"\"\"\n",
    "Process: An instance of a program (e.g. a Python interpreter)\n",
    "\n",
    "pros\n",
    "- Takes advantage of multiple CPUs and cores\n",
    "- Separate memory space --> Memory is not shared between processes\n",
    "- Great process is started independently from other processes\n",
    "- Processes are interruptable/killable\n",
    "- One GIL for each process --> avoids GIL limitation\n",
    "\n",
    "cons\n",
    "- Heavyweight\n",
    "- Starting a process os slower than starting a thread\n",
    "- More memory\n",
    "- IPC(inter-process communication) is more complicated\n",
    "\"\"\""
   ]
  },
  {
   "cell_type": "code",
   "execution_count": null,
   "id": "5a159ed7-a3dc-4812-adf6-e56b3b8d72b8",
   "metadata": {},
   "outputs": [],
   "source": [
    "\"\"\"\n",
    "Threads: An entity within a process that can be scheduled (also known as \"lightweight process\")\n",
    "A process can spawn multiple threads\n",
    "\n",
    "pros\n",
    "- All threads within a process share the same memory\n",
    "- Lightweight\n",
    "- Starting a thread is faster than starting a process\n",
    "- Great for I/O-boung tasks\n",
    "\n",
    "cons\n",
    "- Threading is limited by GIL: Only one thread at a time\n",
    "- No effect for CPU-bound tasks\n",
    "- Not interruptable/killable\n",
    "- Careful with race conditions\n",
    "\"\"\""
   ]
  },
  {
   "cell_type": "code",
   "execution_count": null,
   "id": "07bce31e-f67b-4801-ac0b-5c7d8350e33c",
   "metadata": {},
   "outputs": [],
   "source": [
    "\"\"\"\n",
    "GIL: Global interpreter lock\n",
    "- A lock that allows only one thread at a time to execute in Python\n",
    "\n",
    "- Needed in CPython memory management is not thread-safe\n",
    "\n",
    "- Avoid\n",
    "    Use multiprocessing\n",
    "    Use a different, free-threaded Python implementation (Jython, IronPython)\n",
    "    Use Python as a wrapper for third-party libraries (C/C++) --> numpy, scipy\n",
    "\"\"\""
   ]
  },
  {
   "cell_type": "code",
   "execution_count": 2,
   "id": "2d78d7a8-5aea-44ad-9420-8d6bdb961c03",
   "metadata": {},
   "outputs": [
    {
     "name": "stdout",
     "output_type": "stream",
     "text": [
      "end main\n"
     ]
    }
   ],
   "source": [
    "from multiprocessing import Process\n",
    "import os\n",
    "import time\n",
    "\n",
    "\n",
    "def square_numbers():\n",
    "    for i in range(100):\n",
    "        i * i\n",
    "        time.sleep(0.1)\n",
    "        \n",
    "        \n",
    "processes = []\n",
    "num_processes = os.cpu_count()\n",
    "\n",
    "# create processes\n",
    "for i in range(num_processes):\n",
    "    p = Process(target=square_numbers)\n",
    "    Processes.append(p)\n",
    "    \n",
    "# Start\n",
    "for p in processes:\n",
    "    p.start()\n",
    "    \n",
    "# join\n",
    "for p in processes:\n",
    "    p.join()\n",
    "    \n",
    "print(\"end main\")"
   ]
  },
  {
   "cell_type": "code",
   "execution_count": 3,
   "id": "44ec51de-9127-4cfc-9561-a36bd808e6d3",
   "metadata": {},
   "outputs": [
    {
     "name": "stdout",
     "output_type": "stream",
     "text": [
      "end main\n"
     ]
    }
   ],
   "source": [
    "from threading import Thread\n",
    "\n",
    "def square_numbers():\n",
    "    for i in range(100):\n",
    "        i * i\n",
    "        \n",
    "if __name__ == \"__main__\":\n",
    "    threads = []\n",
    "    num_threads = 10\n",
    "    \n",
    "    # create threads\n",
    "    for i in range(num_threads):\n",
    "        thread = Thread(target=square_numbers)\n",
    "        threads.append(thread)\n",
    "        \n",
    "    # start threads\n",
    "    for thread in threads:\n",
    "        thread.start()\n",
    "        \n",
    "    # join threads: wait for them to complete\n",
    "    for thread in threads:\n",
    "        thread.join()\n",
    "        \n",
    "    print(\"end main\")"
   ]
  },
  {
   "cell_type": "code",
   "execution_count": null,
   "id": "558ceafa-a856-42de-bca1-91781580b65d",
   "metadata": {},
   "outputs": [],
   "source": []
  },
  {
   "cell_type": "code",
   "execution_count": 5,
   "id": "49d875e0-1d42-45e1-bd74-0dd9d761f837",
   "metadata": {},
   "outputs": [
    {
     "name": "stdout",
     "output_type": "stream",
     "text": [
      "Start value 0\n",
      "end value 1\n",
      "end main\n"
     ]
    }
   ],
   "source": [
    "from threading import Thread\n",
    "import time\n",
    "\n",
    "database_value = 0\n",
    "\n",
    "def increase():\n",
    "    global database_value\n",
    "    local_copy = database_value\n",
    "    \n",
    "    local_copy += 1\n",
    "    time.sleep(0.1)\n",
    "    database_value = local_copy\n",
    "    \n",
    "if __name__ == \"__main__\":\n",
    "    print(\"Start value\", database_value)\n",
    "    \n",
    "    thread1 = Thread(target=increase)\n",
    "    thread2 = Thread(target=increase)\n",
    "    \n",
    "    thread1.start()\n",
    "    thread2.start()\n",
    "    \n",
    "    thread1.join()\n",
    "    thread2.join()\n",
    "    \n",
    "    print(\"end value\", database_value)\n",
    "    print(\"end main\")"
   ]
  },
  {
   "cell_type": "code",
   "execution_count": null,
   "id": "5425cf48-ac72-4dc9-9740-efe5fc4f1369",
   "metadata": {},
   "outputs": [],
   "source": []
  },
  {
   "cell_type": "code",
   "execution_count": null,
   "id": "fa9139f8-094f-406f-9665-de495867cff5",
   "metadata": {},
   "outputs": [],
   "source": [
    "from multiprocessing import Process, Value, Array\n",
    "import os\n",
    "\n",
    "def add_100(number):\n",
    "    for i in range(1000):\n",
    "        time.sleep(0.1)\n",
    "        number.value += 1\n",
    "        \n",
    "        \n",
    "if __name__ == \"__main__\":\n",
    "    shared_number = Value(\"i\", 0)\n",
    "    print(\"Number at beginning is\", shared_number.value)\n",
    "    \n",
    "    p1 = Process(target=add_100, args=(shared_number, ))\n",
    "    p2 = Process(target=add_100, args=(shared_number, ))\n",
    "    \n",
    "    p1.start()\n",
    "    p2.start()\n",
    "    \n",
    "    p1.join()\n",
    "    p2.join()"
   ]
  },
  {
   "cell_type": "code",
   "execution_count": null,
   "id": "e2ddbe4c-2880-4f4e-a2c7-cd2159af2efa",
   "metadata": {},
   "outputs": [],
   "source": []
  }
 ],
 "metadata": {
  "kernelspec": {
   "display_name": "Python [conda env:py_torch]",
   "language": "python",
   "name": "conda-env-py_torch-py"
  },
  "language_info": {
   "codemirror_mode": {
    "name": "ipython",
    "version": 3
   },
   "file_extension": ".py",
   "mimetype": "text/x-python",
   "name": "python",
   "nbconvert_exporter": "python",
   "pygments_lexer": "ipython3",
   "version": "3.9.12"
  }
 },
 "nbformat": 4,
 "nbformat_minor": 5
}
