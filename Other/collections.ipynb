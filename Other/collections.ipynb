{
 "cells": [
  {
   "cell_type": "code",
   "execution_count": 2,
   "id": "73c1b054-e4a3-4def-b42b-dd5e23537178",
   "metadata": {},
   "outputs": [],
   "source": [
    "from collections import *"
   ]
  },
  {
   "cell_type": "markdown",
   "id": "63b5c119-1fa3-4bc6-af61-34ebe1de0e25",
   "metadata": {},
   "source": [
    "# **Counter**"
   ]
  },
  {
   "cell_type": "code",
   "execution_count": 8,
   "id": "d7582000-9b63-4306-b5fb-ca73ba37bdbf",
   "metadata": {},
   "outputs": [
    {
     "name": "stdout",
     "output_type": "stream",
     "text": [
      "Counter({'c': 9, 'a': 6, 'b': 5, 'e': 2, 'd': 1})\n",
      "[('c', 9)]\n",
      "c\n",
      "['a', 'a', 'a', 'a', 'a', 'a', 'b', 'b', 'b', 'b', 'b', 'c', 'c', 'c', 'c', 'c', 'c', 'c', 'c', 'c', 'd', 'e', 'e']\n"
     ]
    }
   ],
   "source": [
    "sample = \"aaaaaabbbbbcccccccccdee\"\n",
    "counter = Counter(sample)\n",
    "print(counter) # return dict\n",
    "print(counter.most_common(1))\n",
    "print(counter.most_common(1)[0][0])\n",
    "print(list(counter.elements()))"
   ]
  },
  {
   "cell_type": "code",
   "execution_count": 4,
   "id": "bd670df5-5fbf-465c-8ace-117e6245a9aa",
   "metadata": {},
   "outputs": [
    {
     "name": "stdout",
     "output_type": "stream",
     "text": [
      "['__add__', '__and__', '__class__', '__class_getitem__', '__contains__', '__delattr__', '__delitem__', '__dict__', '__dir__', '__doc__', '__eq__', '__format__', '__ge__', '__getattribute__', '__getitem__', '__gt__', '__hash__', '__iadd__', '__iand__', '__init__', '__init_subclass__', '__ior__', '__isub__', '__iter__', '__le__', '__len__', '__lt__', '__missing__', '__module__', '__ne__', '__neg__', '__new__', '__or__', '__pos__', '__reduce__', '__reduce_ex__', '__repr__', '__reversed__', '__ror__', '__setattr__', '__setitem__', '__sizeof__', '__str__', '__sub__', '__subclasshook__', '__weakref__', '_keep_positive', 'clear', 'copy', 'elements', 'fromkeys', 'get', 'items', 'keys', 'most_common', 'pop', 'popitem', 'setdefault', 'subtract', 'update', 'values']\n"
     ]
    }
   ],
   "source": [
    "print(dir(counter))"
   ]
  },
  {
   "cell_type": "code",
   "execution_count": null,
   "id": "4a856c7a-4ac2-43cd-819d-5c399acfc3c4",
   "metadata": {},
   "outputs": [],
   "source": []
  },
  {
   "cell_type": "code",
   "execution_count": null,
   "id": "67c0305b-4450-463f-b9b3-c9a73d902ebb",
   "metadata": {},
   "outputs": [],
   "source": []
  },
  {
   "cell_type": "code",
   "execution_count": 11,
   "id": "2f3cb4e7-ce56-4064-abee-d8b3199d0cc6",
   "metadata": {},
   "outputs": [
    {
     "name": "stdout",
     "output_type": "stream",
     "text": [
      "point(x=1, y=-4)\n",
      "1 -4\n"
     ]
    }
   ],
   "source": [
    "point = namedtuple(\"point\", [\"x\", \"y\"])\n",
    "pt = point(1, -4)\n",
    "print(pt)\n",
    "print(pt.x, pt.y)"
   ]
  },
  {
   "cell_type": "code",
   "execution_count": null,
   "id": "b8842004-d4a1-49ab-a718-f5fc3949c35d",
   "metadata": {},
   "outputs": [],
   "source": []
  },
  {
   "cell_type": "code",
   "execution_count": null,
   "id": "42b040da-bb8c-4aae-9c6c-6674bb9cfbe1",
   "metadata": {},
   "outputs": [],
   "source": [
    "if tname == \"TTB1\":\n",
    "    TTB1_config =  {  \"tname\" : \"TTB1\",\n",
    "                      \"pagestyle\" : 2,\n",
    "                      \"custom_config\" : self.custom_config,\n",
    "                      \"lang_model\" : self.lang_model,\n",
    "                      \"cols_count\" : 0,\n",
    "                      \"payload_selected\" : {0: \"invoice_no\", \n",
    "                                            1: \"amt_exclude_vat\", \n",
    "                                            2: \"vat_amt\", \n",
    "                                            3: \"wht_amt\", \n",
    "                                            4: \"amt_include_vat\"},\n",
    "                      \"useless_head\" : 0,\n",
    "                      \"useless_tail\" : 0,\n",
    "                      \"amt_pos\" : None,\n",
    "                      \"dilate_rect\" : (3, 3)\n",
    "                   }"
   ]
  },
  {
   "cell_type": "code",
   "execution_count": 12,
   "id": "c9a407e3-ada5-4f39-93b8-42ea4818fe5d",
   "metadata": {},
   "outputs": [],
   "source": [
    "pipeline_param = [\"tname\", \"pagestyle\", \"custom_config\", \"lang_model\", \"cols_count\", \"payload_selected\", \"useless_head\", \"useless_tail\", \"amt_pos\", \"dilate_rect\"]\n",
    "Config = namedtuple(\"Config\", pipeline_param)"
   ]
  },
  {
   "cell_type": "code",
   "execution_count": null,
   "id": "0aec90e7-5ca4-40fa-9b91-c9faec07d94f",
   "metadata": {},
   "outputs": [],
   "source": []
  },
  {
   "cell_type": "code",
   "execution_count": 14,
   "id": "b6490c8d-e0db-4f32-8cd3-caccb7334593",
   "metadata": {},
   "outputs": [
    {
     "name": "stdout",
     "output_type": "stream",
     "text": [
      "0\n"
     ]
    }
   ],
   "source": [
    "d = defaultdict(int)\n",
    "d[\"a\"] = 1\n",
    "d[\"b\"] = 2\n",
    "print(d[\"c\"])"
   ]
  },
  {
   "cell_type": "code",
   "execution_count": null,
   "id": "157da6c7-55b0-4cb4-9ca8-3d06526a5e79",
   "metadata": {},
   "outputs": [],
   "source": []
  }
 ],
 "metadata": {
  "kernelspec": {
   "display_name": "Python [conda env:py_torch]",
   "language": "python",
   "name": "conda-env-py_torch-py"
  },
  "language_info": {
   "codemirror_mode": {
    "name": "ipython",
    "version": 3
   },
   "file_extension": ".py",
   "mimetype": "text/x-python",
   "name": "python",
   "nbconvert_exporter": "python",
   "pygments_lexer": "ipython3",
   "version": "3.9.12"
  }
 },
 "nbformat": 4,
 "nbformat_minor": 5
}
