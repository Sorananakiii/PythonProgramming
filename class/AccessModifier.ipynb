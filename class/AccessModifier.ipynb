{
 "cells": [
  {
   "cell_type": "markdown",
   "id": "86257eeb-805f-417b-a55e-6fabf1ee2b54",
   "metadata": {},
   "source": [
    "# **Public Attribute = All access, All edit**"
   ]
  },
  {
   "cell_type": "code",
   "execution_count": 8,
   "id": "1766acd7-207c-4747-b569-35288a75147f",
   "metadata": {},
   "outputs": [
    {
     "name": "stdout",
     "output_type": "stream",
     "text": [
      "Call Destructor \t\n",
      "NAME : aka\n",
      "SALARY : 10\n",
      "DEPARTMENT : cai\n"
     ]
    }
   ],
   "source": [
    "class Employee:\n",
    "        \n",
    "    # Constructor\n",
    "    def __init__(self, name ,salary, department):\n",
    "        # public attribute\n",
    "        self.name = name\n",
    "        self.salary = salary\n",
    "        self.department = department\n",
    "        \n",
    "    def showdata(self):\n",
    "        print(f\"NAME : {self.name}\")\n",
    "        print(f\"SALARY : {self.salary}\")\n",
    "        print(f\"DEPARTMENT : {self.department}\")\n",
    "        \n",
    "    # Destructor\n",
    "    def __del__(self):\n",
    "        print(\"Call Destructor \\t\")\n",
    "        \n",
    "# assign an object\n",
    "a1 = Employee(\"aka\", 20000, \"cai\")\n",
    "a1.salary = 10\n",
    "a1.showdata()"
   ]
  },
  {
   "cell_type": "code",
   "execution_count": null,
   "id": "3b417c91-fd3e-41bc-87d5-16e556ba0a07",
   "metadata": {},
   "outputs": [],
   "source": []
  },
  {
   "cell_type": "markdown",
   "id": "bb7f744c-2e3a-473f-b60e-0fc482b5ca73",
   "metadata": {},
   "source": [
    "# **Protected Attribute = All access, Edit with protected form**"
   ]
  },
  {
   "cell_type": "code",
   "execution_count": 11,
   "id": "c0e97adf-8abd-4914-a742-00649f031508",
   "metadata": {},
   "outputs": [
    {
     "name": "stdout",
     "output_type": "stream",
     "text": [
      "Call Destructor \t\n",
      "NAME : aka\n",
      "SALARY : 10\n",
      "DEPARTMENT : cai\n"
     ]
    }
   ],
   "source": [
    "class Employee:\n",
    "        \n",
    "    # Constructor\n",
    "    def __init__(self, name ,salary, department):\n",
    "        # public attribute\n",
    "        self._name = name\n",
    "        self._salary = salary\n",
    "        self._department = department\n",
    "        \n",
    "    def _showdata(self):\n",
    "        print(f\"NAME : {self._name}\")\n",
    "        print(f\"SALARY : {self._salary}\")\n",
    "        print(f\"DEPARTMENT : {self._department}\")\n",
    "        \n",
    "    # Destructor\n",
    "    def __del__(self):\n",
    "        print(\"Call Destructor \\t\")\n",
    "        \n",
    "# assign an object\n",
    "a1 = Employee(\"aka\", 20000, \"cai\")\n",
    "\n",
    "a1._salary = 10\n",
    "\n",
    "# cannot modified from none protected form, but still can run\n",
    "a1.salary = 100000\n",
    "a1._showdata()"
   ]
  },
  {
   "cell_type": "code",
   "execution_count": null,
   "id": "d2bebf5d-67dd-4c84-8e0a-a715cb08b4b8",
   "metadata": {},
   "outputs": [],
   "source": []
  },
  {
   "cell_type": "code",
   "execution_count": null,
   "id": "911b80e3-2d16-4482-8e20-f0586ea9e70b",
   "metadata": {},
   "outputs": [],
   "source": []
  },
  {
   "cell_type": "markdown",
   "id": "29229ee7-ff71-44df-98fd-04dce55bf1f4",
   "metadata": {},
   "source": [
    "# **Private Attribute = Cannot access & edit**"
   ]
  },
  {
   "cell_type": "code",
   "execution_count": 15,
   "id": "9c478b56-d381-4e9a-8111-44f1e459a95d",
   "metadata": {},
   "outputs": [
    {
     "name": "stdout",
     "output_type": "stream",
     "text": [
      "Call Destructor \t\n",
      "NAME : aka\n",
      "SALARY : 20000\n",
      "DEPARTMENT : cai\n"
     ]
    }
   ],
   "source": [
    "class Employee:\n",
    "        \n",
    "    # Constructor\n",
    "    def __init__(self, name ,salary, department):\n",
    "        # public attribute\n",
    "        self._name = name\n",
    "        self.__salary = salary\n",
    "        self.__department = department\n",
    "        \n",
    "    def _showdata(self):\n",
    "        print(f\"NAME : {self._name}\")\n",
    "        print(f\"SALARY : {self.__salary}\")\n",
    "        print(f\"DEPARTMENT : {self.__department}\")\n",
    "        \n",
    "    # Destructor\n",
    "    def __del__(self):\n",
    "        print(\"Call Destructor \\t\")\n",
    "        \n",
    "# assign an object\n",
    "a1 = Employee(\"aka\", 20000, \"cai\")\n",
    "\n",
    "## cannot access and edit from out of class\n",
    "a1.salary = 100000\n",
    "a1._salary = 10\n",
    "a1.__salary = 22\n",
    "\n",
    "a1._showdata()"
   ]
  },
  {
   "cell_type": "code",
   "execution_count": 16,
   "id": "d35d6624-2a45-422a-a81e-05a50e375510",
   "metadata": {},
   "outputs": [],
   "source": [
    "## So, how access and edit attribute from private\n",
    "\n",
    "# # Setter Method for edit\n",
    "# def setName(self, name):\n",
    "#     self.__name = name\n",
    "    \n",
    "# # Getter Method for access\n",
    "# def getName(self):\n",
    "#     return self.__name"
   ]
  },
  {
   "cell_type": "code",
   "execution_count": 20,
   "id": "0ef466c0-8296-4374-8764-79cf94044913",
   "metadata": {},
   "outputs": [
    {
     "data": {
      "text/plain": [
       "'aka'"
      ]
     },
     "execution_count": 20,
     "metadata": {},
     "output_type": "execute_result"
    }
   ],
   "source": [
    "class Employee:\n",
    "        \n",
    "    # Constructor\n",
    "    def __init__(self, name ,salary, department):\n",
    "        # public attribute\n",
    "        self.__name = name\n",
    "        self.__salary = salary\n",
    "        self.__department = department\n",
    "        \n",
    "    def _showdata(self):\n",
    "        print(f\"NAME : {self.__name}\")\n",
    "        print(f\"SALARY : {self.__salary}\")\n",
    "        print(f\"DEPARTMENT : {self.__department}\")\n",
    "        \n",
    "    # Destructor\n",
    "    def __del__(self):\n",
    "        print(\"Call Destructor \\t\")\n",
    "        \n",
    "    def setName(self, newname):\n",
    "        self.__name = newname\n",
    "        \n",
    "    def setSalary(self, newSalary):\n",
    "        self.__salary = newSalary\n",
    "        \n",
    "    def setDepartment(self, newDepartment):\n",
    "        self.__department = newDepartment\n",
    "        \n",
    "    def getName(self):\n",
    "        return self.__name\n",
    "    \n",
    "a1 = Employee(\"aka\", 20000, \"cai\")\n",
    "a1.getName()"
   ]
  },
  {
   "cell_type": "code",
   "execution_count": null,
   "id": "46694914-8cb2-4549-8772-f32e0a780fde",
   "metadata": {},
   "outputs": [],
   "source": []
  },
  {
   "cell_type": "code",
   "execution_count": null,
   "id": "292fe6e7-a786-4c80-9c08-11f1e9d1869a",
   "metadata": {},
   "outputs": [],
   "source": []
  },
  {
   "cell_type": "code",
   "execution_count": 24,
   "id": "fcf57601-56af-48de-ab19-2e700545321e",
   "metadata": {},
   "outputs": [
    {
     "name": "stdout",
     "output_type": "stream",
     "text": [
      "Call Destructor \t\n",
      "20000\n",
      "15000\n",
      "500000\n"
     ]
    }
   ],
   "source": [
    "class Employee:\n",
    "    \n",
    "    _minSalary = 15000\n",
    "    _maxSalary = 500000\n",
    "    # Constructor\n",
    "    def __init__(self, name ,salary, department):\n",
    "        # public attribute\n",
    "        self.name = name\n",
    "        self.salary = salary\n",
    "        self.department = department\n",
    "        \n",
    "    def showdata(self):\n",
    "        print(f\"NAME : {self.name}\")\n",
    "        print(f\"SALARY : {self.salary}\")\n",
    "        print(f\"DEPARTMENT : {self.department}\")\n",
    "        \n",
    "    # Destructor\n",
    "    def __del__(self):\n",
    "        print(\"Call Destructor \\t\")\n",
    "        \n",
    "# assign an object\n",
    "a1 = Employee(\"aka\", 20000, \"cai\")\n",
    "print(a1.salary)\n",
    "print(a1._minSalary)\n",
    "print(a1._maxSalary)"
   ]
  },
  {
   "cell_type": "code",
   "execution_count": null,
   "id": "3ad8fb48-7c96-4b65-bf45-70f75109740c",
   "metadata": {},
   "outputs": [],
   "source": []
  }
 ],
 "metadata": {
  "kernelspec": {
   "display_name": "Python [conda env:py_torch]",
   "language": "python",
   "name": "conda-env-py_torch-py"
  },
  "language_info": {
   "codemirror_mode": {
    "name": "ipython",
    "version": 3
   },
   "file_extension": ".py",
   "mimetype": "text/x-python",
   "name": "python",
   "nbconvert_exporter": "python",
   "pygments_lexer": "ipython3",
   "version": "3.9.12"
  }
 },
 "nbformat": 4,
 "nbformat_minor": 5
}
