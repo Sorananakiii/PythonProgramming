{
 "cells": [
  {
   "cell_type": "code",
   "execution_count": null,
   "id": "d22085eb-fdfd-4de0-b5a1-bbbeb01a0e11",
   "metadata": {},
   "outputs": [],
   "source": [
    "def add(a, b):\n",
    "    result = a + b\n",
    "    return result\n",
    "\n",
    "def sub(a, b):\n",
    "    result = a - b\n",
    "    return result\n",
    "\n",
    "def multiple(a, b):\n",
    "    result = a * b\n",
    "    return result\n",
    "\n",
    "def divide(a, b):\n",
    "    result = a / b\n",
    "    return result\n",
    "\n"
   ]
  },
  {
   "cell_type": "code",
   "execution_count": 5,
   "id": "e9a32805-6abb-42bf-aa3e-6ae4dca2cee8",
   "metadata": {},
   "outputs": [],
   "source": [
    "class ListTools:\n",
    "    def __init__(self):\n",
    "        pass\n",
    "    \n",
    "    # return true if any value appears at least twice in the array, and return false if every element is distinct.\n",
    "    def containsDuplicate(self, nums: list[int]) -> bool:\n",
    "        hashing = set()\n",
    "\n",
    "        for n in nums:\n",
    "            if n in hashing:\n",
    "                return True\n",
    "            hashing.add(n)\n",
    "        return False\n"
   ]
  },
  {
   "cell_type": "code",
   "execution_count": 8,
   "id": "1e749ea0-121d-4b6b-bfd1-0d25ed31c73d",
   "metadata": {},
   "outputs": [
    {
     "name": "stdout",
     "output_type": "stream",
     "text": [
      "True\n",
      "True\n",
      "False\n",
      "False\n"
     ]
    }
   ],
   "source": [
    "sample = [ ([1,2,3,1], True), ([1,2,3,4], False)]\n",
    "\n",
    "tool = ListTools()\n",
    "for ex, result in sample:\n",
    "    print(tool.containsDuplicate(ex))\n",
    "    print(result)"
   ]
  },
  {
   "cell_type": "code",
   "execution_count": null,
   "id": "3ae033c9-2d85-4e39-bc99-ed14d45052dc",
   "metadata": {},
   "outputs": [],
   "source": []
  }
 ],
 "metadata": {
  "kernelspec": {
   "display_name": "Python [conda env:py_torch]",
   "language": "python",
   "name": "conda-env-py_torch-py"
  },
  "language_info": {
   "codemirror_mode": {
    "name": "ipython",
    "version": 3
   },
   "file_extension": ".py",
   "mimetype": "text/x-python",
   "name": "python",
   "nbconvert_exporter": "python",
   "pygments_lexer": "ipython3",
   "version": "3.9.12"
  }
 },
 "nbformat": 4,
 "nbformat_minor": 5
}
