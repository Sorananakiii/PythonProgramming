{
 "cells": [
  {
   "cell_type": "markdown",
   "id": "8c02c983-d3ef-4458-b116-993b623571f3",
   "metadata": {},
   "source": [
    "# **E1 Two Sum**"
   ]
  },
  {
   "cell_type": "markdown",
   "id": "12f07d60-2868-49d7-8e8f-341437daf501",
   "metadata": {},
   "source": [
    "Given an array of integers `nums` and an integer `target`, return indices of the two numbers such that they add up to `target`.\n",
    "\n",
    "You may assume that each input would have exactly one solution, and you may not use the same element twice.\n",
    "\n",
    "You can return the answer in any order."
   ]
  },
  {
   "cell_type": "code",
   "execution_count": 9,
   "id": "f3d8e12a-9093-4c8a-a2fb-fdce05bdf1d2",
   "metadata": {},
   "outputs": [],
   "source": [
    "class Solution:\n",
    "    def twoSum(self, nums: list[int], target: int) -> list[int]:\n",
    "        for i in range(len(nums)):\n",
    "            for j in range(i + 1, len(nums)):\n",
    "                if nums[j] == target - nums[i]:\n",
    "                    return [i, j]"
   ]
  },
  {
   "cell_type": "code",
   "execution_count": 10,
   "id": "de621fd8-0158-43e5-906f-dd079199eb4c",
   "metadata": {},
   "outputs": [],
   "source": [
    "nums = [2,7,11,15]\n",
    "target = 9\n",
    "\n",
    "nums = [3,2,4]\n",
    "target = 6\n",
    "\n",
    "nums = [3,3]\n",
    "target = 6"
   ]
  },
  {
   "cell_type": "code",
   "execution_count": 11,
   "id": "077053b7-3ce2-4785-8210-bf3cfe83dce1",
   "metadata": {},
   "outputs": [
    {
     "data": {
      "text/plain": [
       "[0, 1]"
      ]
     },
     "execution_count": 11,
     "metadata": {},
     "output_type": "execute_result"
    }
   ],
   "source": [
    "sol = Solution()\n",
    "sol.twoSum(nums, target)"
   ]
  },
  {
   "cell_type": "code",
   "execution_count": null,
   "id": "53f214e7-2ebb-4409-9c44-0c9752aa7c45",
   "metadata": {},
   "outputs": [],
   "source": []
  },
  {
   "cell_type": "markdown",
   "id": "c9ae4d30-ff40-42ff-bfac-ac19d464598c",
   "metadata": {},
   "source": [
    "# **E2 Contains Duplicate**"
   ]
  },
  {
   "cell_type": "code",
   "execution_count": null,
   "id": "113074ee-31ab-483e-9060-815662b78b29",
   "metadata": {},
   "outputs": [],
   "source": [
    "Given an integer array nums, return true if any value appears at least twice in the array, and return false if every element is distinct."
   ]
  },
  {
   "cell_type": "code",
   "execution_count": null,
   "id": "a16af9b4-8d5f-45b2-952e-f8149e7d6e1f",
   "metadata": {},
   "outputs": [],
   "source": [
    "class Solution:\n",
    "    def containsDuplicate(self, nums: List[int]) -> bool:\n",
    "        return list(set(nums)) != nums"
   ]
  },
  {
   "cell_type": "code",
   "execution_count": null,
   "id": "6b0928a9-7cf1-47f2-94c4-f3ec3963bc36",
   "metadata": {},
   "outputs": [],
   "source": [
    "Example 1:\n",
    "\n",
    "Input: nums = [1,2,3,1]\n",
    "Output: true\n",
    "Example 2:\n",
    "\n",
    "Input: nums = [1,2,3,4]\n",
    "Output: false\n",
    "Example 3:\n",
    "\n",
    "Input: nums = [1,1,1,3,3,4,3,2,4,2]\n",
    "Output: true"
   ]
  }
 ],
 "metadata": {
  "kernelspec": {
   "display_name": "Python [conda env:py_torch]",
   "language": "python",
   "name": "conda-env-py_torch-py"
  },
  "language_info": {
   "codemirror_mode": {
    "name": "ipython",
    "version": 3
   },
   "file_extension": ".py",
   "mimetype": "text/x-python",
   "name": "python",
   "nbconvert_exporter": "python",
   "pygments_lexer": "ipython3",
   "version": "3.9.12"
  }
 },
 "nbformat": 4,
 "nbformat_minor": 5
}
