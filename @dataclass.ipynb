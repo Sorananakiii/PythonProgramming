{
 "cells": [
  {
   "cell_type": "code",
   "execution_count": null,
   "id": "08da6ffe-9325-468f-a45c-75066175cf33",
   "metadata": {},
   "outputs": [],
   "source": [
    "from dataclasses import dataclass\n",
    "\n",
    "@dataclass\n",
    "class page_localization:\n",
    "    data_company_code: dict\n",
    "    data_company_receive: dict\n",
    "    data_account_bank: dict\n",
    "    data_date_payment: dict\n",
    "    data_payment_amount: dict\n",
    "    data_check_no: dict\n",
    "    data_payee_name: dict\n",
    "    \n",
    "    payload: dict\n",
    "    invoice_no: dict\n",
    "    invoice_description: dict\n",
    "    amt_exclude_vat: dict\n",
    "    vat_amt: dict\n",
    "    amt_include_vat: dict\n",
    "    wht_amt: dict\n",
    "    net_amount: dict\n",
    "    text: dict\n",
    "    fee: dict\n",
    "    \n",
    "    @property\n",
    "    def name(self):\n",
    "        name = f\"\"\n",
    "        return name\n",
    "    \n",
    "    def __post_int__(self):\n",
    "        self.functional = ...\n",
    "        self.functional2 = ..."
   ]
  }
 ],
 "metadata": {
  "kernelspec": {
   "display_name": "Python [conda env:py_ocr]",
   "language": "python",
   "name": "conda-env-py_ocr-py"
  },
  "language_info": {
   "codemirror_mode": {
    "name": "ipython",
    "version": 3
   },
   "file_extension": ".py",
   "mimetype": "text/x-python",
   "name": "python",
   "nbconvert_exporter": "python",
   "pygments_lexer": "ipython3",
   "version": "3.9.12"
  }
 },
 "nbformat": 4,
 "nbformat_minor": 5
}
