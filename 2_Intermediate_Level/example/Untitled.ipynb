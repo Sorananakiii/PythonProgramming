{
 "cells": [
  {
   "cell_type": "code",
   "execution_count": 2,
   "id": "c7be8666-1ba4-440f-acbb-967048269f9a",
   "metadata": {},
   "outputs": [],
   "source": [
    "from accounting import Accounting\n",
    "from developer import Developer\n",
    "from sale import Sale"
   ]
  },
  {
   "cell_type": "code",
   "execution_count": 3,
   "id": "732c8dd3-a885-4aba-8cfb-fc49572a96bb",
   "metadata": {},
   "outputs": [
    {
     "name": "stdout",
     "output_type": "stream",
     "text": [
      "Name A, Department accouting, Salary 100, Annual_Income 1200, AGE 35\n",
      "NAME : A\n",
      "SALARY : 100\n",
      "DEPARTMENT : accouting\n",
      "AGE : 35\n",
      "\n",
      "Name B, Department developer, Salary 200, Annual_Income 2400, EXPERIENCE 3, SKILL Python\n",
      "NAME : B\n",
      "SALARY : 200\n",
      "DEPARTMENT : developer\n",
      "EXPERIENCE : 3\n",
      "SKILL : Python\n",
      "\n",
      "Name C, Department sale, Salary 300, Annual_Income 3600, AREA Bangkok\n",
      "NAME : C\n",
      "SALARY : 300\n",
      "DEPARTMENT : sale\n",
      "AREA : Bangkok\n",
      "\n"
     ]
    }
   ],
   "source": [
    "accounting = Accounting(\"A\", 100, 35)\n",
    "print(accounting.__str__())\n",
    "accounting._showdata()\n",
    "\n",
    "developer = Developer(\"B\", 200, 3, \"Python\")\n",
    "print(developer.__str__())\n",
    "developer._showdata()\n",
    "\n",
    "sale = Sale(\"C\", 300, \"Bangkok\")\n",
    "print(sale.__str__())\n",
    "sale._showdata()"
   ]
  },
  {
   "cell_type": "code",
   "execution_count": null,
   "id": "30b30d6e-07d9-4fac-bf2e-817b5c0fffcd",
   "metadata": {},
   "outputs": [],
   "source": []
  }
 ],
 "metadata": {
  "kernelspec": {
   "display_name": "Python [conda env:py_torch]",
   "language": "python",
   "name": "conda-env-py_torch-py"
  },
  "language_info": {
   "codemirror_mode": {
    "name": "ipython",
    "version": 3
   },
   "file_extension": ".py",
   "mimetype": "text/x-python",
   "name": "python",
   "nbconvert_exporter": "python",
   "pygments_lexer": "ipython3",
   "version": "3.9.12"
  }
 },
 "nbformat": 4,
 "nbformat_minor": 5
}
