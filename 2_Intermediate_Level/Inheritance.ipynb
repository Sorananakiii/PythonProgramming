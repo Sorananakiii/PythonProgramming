{
 "cells": [
  {
   "cell_type": "markdown",
   "id": "a68aba0a-4349-4c32-85e7-8212693768c3",
   "metadata": {},
   "source": [
    "# **Inheritance = re-use & Overloading Method**"
   ]
  },
  {
   "cell_type": "markdown",
   "id": "b5d89cfa-ede2-404b-8d8b-963edaf63c91",
   "metadata": {},
   "source": [
    "| Accounting |      Developer     |     Sale    |\n",
    "|------------|:------------------:|------------:|\n",
    "|    Name    |          Name      |     Name    |\n",
    "|    Salary  |    Salary          |      Salary |\n",
    "|     Age    |       Experience   |        Area |\n",
    "|            |    Skill           |             |\n",
    "\n",
    "| Method     |     Method         |    Method   |\n",
    "|------------|:------------------:|------------:|\n",
    "| Cal. Income|    Cal. Income     | Cal. Income |\n",
    "| Show Data  |    Show Data       | Show Data   |\n",
    "|            |    Cal. OT         | Cal. Com    |"
   ]
  },
  {
   "cell_type": "code",
   "execution_count": 55,
   "id": "914f81e1-c537-46f8-aad9-8470d61e6eca",
   "metadata": {},
   "outputs": [],
   "source": [
    "# main class\n",
    "class Employee:\n",
    "        \n",
    "    _minSalary = 15000\n",
    "    _maxSalary = 500000 \n",
    "    companyName = \"GG\"\n",
    "    # Constructor\n",
    "    def __init__(self, name ,salary, department):\n",
    "        # public attribute\n",
    "        self.__name = name\n",
    "        self.__salary = salary\n",
    "        self._department = department\n",
    "        \n",
    "    def _showdata(self):\n",
    "        print(f\"NAME : {self.__name}\")\n",
    "        print(f\"SALARY : {self.__salary}\")\n",
    "        print(f\"DEPARTMENT : {self._department}\")\n",
    "        \n",
    "    def _getIncome(self, bonus=0):\n",
    "        return self.__salary * 12 + bonus\n",
    "    \n",
    "    def __str__(self):\n",
    "        return \"Name {}, Department {}, Salary {}, Annual_Income {}\".format(self.__name, \n",
    "                                                                              self._department, \n",
    "                                                                              self.__salary,\n",
    "                                                                              self._getIncome())"
   ]
  },
  {
   "cell_type": "code",
   "execution_count": 56,
   "id": "cf48bfd4-4529-4100-aa08-cf8fbf1750c5",
   "metadata": {},
   "outputs": [],
   "source": [
    "# super().__init__(name)\n",
    "# for call attribute in main class, e.g Constructor, Method, Attribute"
   ]
  },
  {
   "cell_type": "code",
   "execution_count": 82,
   "id": "e413a049-938a-49ca-9d06-cbfb15805403",
   "metadata": {},
   "outputs": [],
   "source": [
    "class Accounting(Employee):\n",
    "    __departmentName = \"accouting\"\n",
    "    def __init__(self, name, salary, age):\n",
    "        super().__init__(name, salary, self.__departmentName)\n",
    "        self._age = age\n",
    "    \n",
    "    def _showdata(self):\n",
    "        super()._showdata()\n",
    "        print(f\"AGE : {str(self._age)}\")\n",
    "        print()\n",
    "\n",
    "    def __str__(self):\n",
    "        return super().__str__() + \", AGE {}\".format(self._age)\n",
    "    \n",
    "    \n",
    "class Developer(Employee):\n",
    "    __departmentName = \"developer\"\n",
    "    def __init__(self, name, salary, experience, skill):\n",
    "        super().__init__(name, salary, self.__departmentName)\n",
    "        self._exp = experience\n",
    "        self._skill = skill\n",
    "        \n",
    "    def _showdata(self):\n",
    "        super()._showdata()\n",
    "        print(f\"EXPERIENCE : {str(self._exp)}\")\n",
    "        print(f\"SKILL : {self._skill}\")\n",
    "        print()\n",
    "        \n",
    "    def __str__(self):\n",
    "        return super().__str__() + \", EXPERIENCE {}, SKILL {}\".format(self._exp, self._skill)\n",
    "\n",
    "\n",
    "class Sale(Employee):\n",
    "    __departmentName = \"sale\"\n",
    "    def __init__(self, name, salary, area):\n",
    "        super().__init__(name, salary, self.__departmentName)\n",
    "        self.area = area\n",
    "        \n",
    "    def _showdata(self):\n",
    "        super()._showdata()\n",
    "        print(f\"AREA : {self.area}\")\n",
    "        print()\n",
    "        \n",
    "    def __str__(self):\n",
    "        return super().__str__() + \", AREA {}\".format(self.area)"
   ]
  },
  {
   "cell_type": "code",
   "execution_count": 83,
   "id": "8f69107e-11df-4924-80bd-65549aee721f",
   "metadata": {},
   "outputs": [],
   "source": [
    "# accounting = Accounting(\"A\", 100)\n",
    "\n",
    "# developer = Developer(\"B\", 2)\n",
    "\n",
    "# sale = Sale(\"C\", 3)\n",
    "# print(sale._showdata())"
   ]
  },
  {
   "cell_type": "code",
   "execution_count": 87,
   "id": "8a7d9f44-032d-47e2-a113-020bc2a50b29",
   "metadata": {},
   "outputs": [
    {
     "name": "stdout",
     "output_type": "stream",
     "text": [
      "Name A, Department accouting, Salary 100, Annual_Income 1200,AGE 35\n",
      "NAME : A\n",
      "SALARY : 100\n",
      "DEPARTMENT : accouting\n",
      "AGE : 35\n",
      "\n",
      "Name B, Department developer, Salary 200, Annual_Income 2400,EXPERIENCE 3, SKILL Python\n",
      "NAME : B\n",
      "SALARY : 200\n",
      "DEPARTMENT : developer\n",
      "EXPERIENCE : 3\n",
      "SKILL : Python\n",
      "\n",
      "Name C, Department sale, Salary 300, Annual_Income 3600,AREA Bangkok\n",
      "NAME : C\n",
      "SALARY : 300\n",
      "DEPARTMENT : sale\n",
      "AREA : Bangkok\n",
      "\n"
     ]
    }
   ],
   "source": [
    "accounting = Accounting(\"A\", 100, 35)\n",
    "print(accounting.__str__())\n",
    "accounting._showdata()\n",
    "\n",
    "developer = Developer(\"B\", 200, 3, \"Python\")\n",
    "print(developer.__str__())\n",
    "developer._showdata()\n",
    "\n",
    "sale = Sale(\"C\", 300, \"Bangkok\")\n",
    "print(sale.__str__())\n",
    "sale._showdata()"
   ]
  },
  {
   "cell_type": "code",
   "execution_count": null,
   "id": "c210fd2b-ab88-475a-bc69-70d6abcf1741",
   "metadata": {},
   "outputs": [],
   "source": []
  },
  {
   "cell_type": "code",
   "execution_count": null,
   "id": "89169d22-ef31-4db5-8e9d-987ce87ef063",
   "metadata": {},
   "outputs": [],
   "source": []
  }
 ],
 "metadata": {
  "kernelspec": {
   "display_name": "Python [conda env:py_torch]",
   "language": "python",
   "name": "conda-env-py_torch-py"
  },
  "language_info": {
   "codemirror_mode": {
    "name": "ipython",
    "version": 3
   },
   "file_extension": ".py",
   "mimetype": "text/x-python",
   "name": "python",
   "nbconvert_exporter": "python",
   "pygments_lexer": "ipython3",
   "version": "3.9.12"
  }
 },
 "nbformat": 4,
 "nbformat_minor": 5
}
