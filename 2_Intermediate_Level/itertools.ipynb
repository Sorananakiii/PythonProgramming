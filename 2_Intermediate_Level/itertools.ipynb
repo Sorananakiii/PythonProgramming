{
 "cells": [
  {
   "cell_type": "code",
   "execution_count": 22,
   "id": "a6cba901-9790-4e05-b8ef-9ffc4b786db9",
   "metadata": {},
   "outputs": [],
   "source": [
    "from itertools import *"
   ]
  },
  {
   "cell_type": "code",
   "execution_count": 23,
   "id": "7863a185-4af5-4f00-9730-b273ccbc8dbd",
   "metadata": {},
   "outputs": [
    {
     "name": "stdout",
     "output_type": "stream",
     "text": [
      "True [1, 2]\n",
      "False [3, 4, 5]\n"
     ]
    }
   ],
   "source": [
    "def smaller_than(x, i=3):\n",
    "    return x < i\n",
    "\n",
    "a = [1, 2, 3, 4 ,5]\n",
    "group_list = groupby(a, key=smaller_than)\n",
    "# group_list = groupby(a, key=lambda x: x < 3)\n",
    "for key, value in group_list:\n",
    "    print(key, list(value))"
   ]
  },
  {
   "cell_type": "code",
   "execution_count": 26,
   "id": "922023f1-7ab3-4ca7-85a6-96103f1ffbe7",
   "metadata": {},
   "outputs": [
    {
     "name": "stdout",
     "output_type": "stream",
     "text": [
      "22 [{'name': 'Dan', 'age': 22}]\n",
      "25 [{'name': 'Tim', 'age': 25}, {'name': 'Lisa', 'age': 25}, {'name': 'Adam', 'age': 25}]\n",
      "29 [{'name': 'John', 'age': 29}]\n"
     ]
    }
   ],
   "source": [
    "persons = [{\"name\": \"Tim\", \"age\":25},\n",
    "           {\"name\": \"Dan\", \"age\":22},\n",
    "           {\"name\": \"Lisa\", \"age\":25},\n",
    "           {\"name\": \"John\", \"age\":29},\n",
    "           {\"name\": \"Adam\", \"age\":25},]\n",
    "\n",
    "persons = sorted(persons, key=lambda x:x[\"age\"])\n",
    "group_name = groupby(persons, key=lambda x: x[\"age\"])\n",
    "\n",
    "for key, value in group_name:\n",
    "    print(key, list(value))"
   ]
  },
  {
   "cell_type": "code",
   "execution_count": null,
   "id": "a5687f32-76d2-4cf1-a9b9-178c0129179f",
   "metadata": {},
   "outputs": [],
   "source": []
  },
  {
   "cell_type": "code",
   "execution_count": 25,
   "id": "57aca67e-9de3-42c3-b752-eff052e593e1",
   "metadata": {},
   "outputs": [
    {
     "name": "stdout",
     "output_type": "stream",
     "text": [
      "count\n",
      "10\n",
      "11\n",
      "12\n",
      "13\n",
      "14\n",
      "15\n",
      "cycle\n",
      "1\n",
      "2\n",
      "3\n",
      "1\n",
      "2\n",
      "repeat\n",
      "1\n",
      "1\n",
      "1\n",
      "1\n",
      "1\n"
     ]
    }
   ],
   "source": [
    "print(\"count\")\n",
    "for i in count(10):\n",
    "    print(i)\n",
    "    if i >= 15:\n",
    "        break\n",
    "        \n",
    "print(\"cycle\")  \n",
    "counts = 0\n",
    "for i in cycle([1 ,2, 3]):\n",
    "    print(i)\n",
    "    counts += 1\n",
    "    if counts >=5:\n",
    "        break\n",
    "\n",
    "print(\"repeat\")\n",
    "for i in repeat(1, 5):\n",
    "    print(i)"
   ]
  },
  {
   "cell_type": "code",
   "execution_count": null,
   "id": "02b2d0ba-18e1-49ea-af1c-c5b68bf20627",
   "metadata": {},
   "outputs": [],
   "source": []
  },
  {
   "cell_type": "code",
   "execution_count": null,
   "id": "d7a72ff2-26b3-4fc0-bc2b-8552b7417853",
   "metadata": {},
   "outputs": [],
   "source": []
  }
 ],
 "metadata": {
  "kernelspec": {
   "display_name": "Python [conda env:py_torch]",
   "language": "python",
   "name": "conda-env-py_torch-py"
  },
  "language_info": {
   "codemirror_mode": {
    "name": "ipython",
    "version": 3
   },
   "file_extension": ".py",
   "mimetype": "text/x-python",
   "name": "python",
   "nbconvert_exporter": "python",
   "pygments_lexer": "ipython3",
   "version": "3.9.12"
  }
 },
 "nbformat": 4,
 "nbformat_minor": 5
}
