{
 "cells": [
  {
   "cell_type": "code",
   "execution_count": null,
   "metadata": {},
   "outputs": [],
   "source": [
    "from itertools import *"
   ]
  },
  {
   "cell_type": "code",
   "execution_count": null,
   "metadata": {},
   "outputs": [],
   "source": []
  },
  {
   "cell_type": "code",
   "execution_count": 3,
   "metadata": {},
   "outputs": [
    {
     "name": "stdout",
     "output_type": "stream",
     "text": [
      "[('Bug', 'Fire'), ('Bug', 'Ghost'), ('Bug', 'Grass'), ('Bug', 'Water'), ('Fire', 'Ghost'), ('Fire', 'Grass'), ('Fire', 'Water'), ('Ghost', 'Grass'), ('Ghost', 'Water'), ('Grass', 'Water')]\n"
     ]
    }
   ],
   "source": [
    "poke_type = ['Bug', 'Fire', 'Ghost', 'Grass', 'Water']\n",
    "\n",
    "combos = []\n",
    "for types in poke_type:\n",
    "    for types2 in poke_type:\n",
    "        if types == types2:\n",
    "            continue\n",
    "        if ((types, types2) not in combos) & ((types2, types) not in combos):\n",
    "            combos.append((types, types2))\n",
    "            \n",
    "print(combos)"
   ]
  },
  {
   "cell_type": "code",
   "execution_count": 8,
   "metadata": {},
   "outputs": [
    {
     "name": "stdout",
     "output_type": "stream",
     "text": [
      "<class 'itertools.combinations'>\n",
      "[('Bug', 'Fire'), ('Bug', 'Ghost'), ('Bug', 'Grass'), ('Bug', 'Water'), ('Fire', 'Ghost'), ('Fire', 'Grass'), ('Fire', 'Water'), ('Ghost', 'Grass'), ('Ghost', 'Water'), ('Grass', 'Water')]\n"
     ]
    }
   ],
   "source": [
    "from itertools import combinations\n",
    "combos_obj = combinations(poke_type, 2)\n",
    "print(type(combos_obj))\n",
    "print([*combos_obj])"
   ]
  },
  {
   "cell_type": "code",
   "execution_count": null,
   "metadata": {},
   "outputs": [],
   "source": []
  },
  {
   "cell_type": "code",
   "execution_count": null,
   "metadata": {},
   "outputs": [],
   "source": [
    "def smaller_than(x, i=3):\n",
    "    return x < i\n",
    "\n",
    "a = [1, 2, 3, 4 ,5]\n",
    "group_list = groupby(a, key=smaller_than)\n",
    "# group_list = groupby(a, key=lambda x: x < 3)\n",
    "for key, value in group_list:\n",
    "    print(key, list(value))"
   ]
  },
  {
   "cell_type": "code",
   "execution_count": null,
   "metadata": {},
   "outputs": [],
   "source": []
  },
  {
   "cell_type": "code",
   "execution_count": null,
   "metadata": {},
   "outputs": [],
   "source": [
    "persons = [{\"name\": \"Tim\", \"age\":25},\n",
    "           {\"name\": \"Dan\", \"age\":22},\n",
    "           {\"name\": \"Lisa\", \"age\":25},\n",
    "           {\"name\": \"John\", \"age\":29},\n",
    "           {\"name\": \"Adam\", \"age\":25},]\n",
    "\n",
    "persons = sorted(persons, key=lambda x:x[\"age\"])\n",
    "group_name = groupby(persons, key=lambda x: x[\"age\"])\n",
    "\n",
    "for key, value in group_name:\n",
    "    print(key, list(value))"
   ]
  },
  {
   "cell_type": "code",
   "execution_count": null,
   "metadata": {},
   "outputs": [],
   "source": []
  },
  {
   "cell_type": "code",
   "execution_count": null,
   "metadata": {},
   "outputs": [],
   "source": [
    "print(\"count\")\n",
    "for i in count(10):\n",
    "    print(i)\n",
    "    if i >= 15:\n",
    "        break\n",
    "        \n",
    "print(\"cycle\")  \n",
    "counts = 0\n",
    "for i in cycle([1 ,2, 3]):\n",
    "    print(i)\n",
    "    counts += 1\n",
    "    if counts >=5:\n",
    "        break\n",
    "\n",
    "print(\"repeat\")\n",
    "for i in repeat(1, 5):\n",
    "    print(i)"
   ]
  },
  {
   "cell_type": "code",
   "execution_count": null,
   "metadata": {},
   "outputs": [],
   "source": []
  }
 ],
 "metadata": {
  "kernelspec": {
   "display_name": "Python 3",
   "language": "python",
   "name": "python3"
  },
  "language_info": {
   "codemirror_mode": {
    "name": "ipython",
    "version": 3
   },
   "file_extension": ".py",
   "mimetype": "text/x-python",
   "name": "python",
   "nbconvert_exporter": "python",
   "pygments_lexer": "ipython3",
   "version": "3.7.3"
  }
 },
 "nbformat": 4,
 "nbformat_minor": 2
}
