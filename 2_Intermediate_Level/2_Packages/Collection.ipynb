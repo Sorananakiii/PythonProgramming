{
 "cells": [
  {
   "cell_type": "markdown",
   "metadata": {},
   "source": [
    "## Collections\n",
    "As previously mentioned, the Python standard library has a `collections` module which contains a variety of extremely useful containers, especially for implementing algorithms as they tend to be quite optimized.  They are slightly more specialized than the general Python containers.\n",
    "\n",
    "The containers are:\n",
    "\n",
    "- `namedtuple`\n",
    "- `deque`\n",
    "- `Counter`\n",
    "- `OrderedDict`\n",
    "- `defaultdict`\n",
    "\n",
    "\n",
    "### `namedtuple`\n",
    "\n",
    "The `namedtuple` generates a class which is similar to a tuple, but has named entries.  Lets make one for a three dimensional vector which has fields `x,y,z`.  If we use the `verbose` flag we can see the generated Python code."
   ]
  },
  {
   "cell_type": "code",
   "execution_count": 5,
   "metadata": {},
   "outputs": [
    {
     "data": {
      "text/plain": [
       "__main__.Vector"
      ]
     },
     "execution_count": 5,
     "metadata": {},
     "output_type": "execute_result"
    }
   ],
   "source": [
    "from collections import namedtuple\n",
    "Vector3 = namedtuple('Vector', ['x', 'y', 'z'])\n",
    "\n",
    "Vector3"
   ]
  },
  {
   "cell_type": "code",
   "execution_count": 4,
   "metadata": {},
   "outputs": [
    {
     "data": {
      "text/plain": [
       "(1, 2, 3)"
      ]
     },
     "execution_count": 4,
     "metadata": {},
     "output_type": "execute_result"
    }
   ],
   "source": [
    "# \n",
    "Now we can access the elements of the elements of tuple by name.\n",
    "vec = Vector3(1,2,3)\n",
    "vec.x, vec.y, vec.z"
   ]
  },
  {
   "cell_type": "code",
   "execution_count": 6,
   "metadata": {},
   "outputs": [
    {
     "ename": "AttributeError",
     "evalue": "can't set attribute",
     "output_type": "error",
     "traceback": [
      "\u001b[1;31m---------------------------------------------------------------------------\u001b[0m",
      "\u001b[1;31mAttributeError\u001b[0m                            Traceback (most recent call last)",
      "\u001b[1;32m<ipython-input-6-57b4e6a8653e>\u001b[0m in \u001b[0;36m<module>\u001b[1;34m\u001b[0m\n\u001b[1;32m----> 1\u001b[1;33m \u001b[0mvec\u001b[0m\u001b[1;33m.\u001b[0m\u001b[0mx\u001b[0m \u001b[1;33m=\u001b[0m \u001b[1;36m5\u001b[0m\u001b[1;33m\u001b[0m\u001b[1;33m\u001b[0m\u001b[0m\n\u001b[0m",
      "\u001b[1;31mAttributeError\u001b[0m: can't set attribute"
     ]
    }
   ],
   "source": [
    "vec.x = 5"
   ]
  },
  {
   "cell_type": "markdown",
   "metadata": {},
   "source": [
    "Another good reason is that it will behave like a tuple when passed into a function."
   ]
  },
  {
   "cell_type": "code",
   "execution_count": 7,
   "metadata": {},
   "outputs": [
    {
     "name": "stdout",
     "output_type": "stream",
     "text": [
      "1 2 3\n"
     ]
    }
   ],
   "source": [
    "# Another good reason is that it will behave like a tuple when passed into a function.\n",
    "def tfunc(a,b,c):\n",
    "    print(a,b,c)\n",
    "tfunc(*vec)"
   ]
  },
  {
   "cell_type": "code",
   "execution_count": null,
   "metadata": {},
   "outputs": [],
   "source": [
    "point = namedtuple(\"point\", [\"x\", \"y\"])\n",
    "pt = point(1, -4)\n",
    "print(pt)\n",
    "print(pt.x, pt.y)"
   ]
  },
  {
   "cell_type": "code",
   "execution_count": null,
   "metadata": {},
   "outputs": [],
   "source": [
    "if tname == \"TTB1\":\n",
    "    TTB1_config =  {  \"tname\" : \"TTB1\",\n",
    "                      \"pagestyle\" : 2,\n",
    "                      \"custom_config\" : self.custom_config,\n",
    "                      \"lang_model\" : self.lang_model,\n",
    "                      \"cols_count\" : 0,\n",
    "                      \"payload_selected\" : {0: \"invoice_no\", \n",
    "                                            1: \"amt_exclude_vat\", \n",
    "                                            2: \"vat_amt\", \n",
    "                                            3: \"wht_amt\", \n",
    "                                            4: \"amt_include_vat\"},\n",
    "                      \"useless_head\" : 0,\n",
    "                      \"useless_tail\" : 0,\n",
    "                      \"amt_pos\" : None,\n",
    "                      \"dilate_rect\" : (3, 3)\n",
    "                   }"
   ]
  },
  {
   "cell_type": "code",
   "execution_count": null,
   "metadata": {},
   "outputs": [],
   "source": [
    "pipeline_param = [\"tname\", \"pagestyle\", \"custom_config\", \"lang_model\", \"cols_count\", \"payload_selected\", \"useless_head\", \"useless_tail\", \"amt_pos\", \"dilate_rect\"]\n",
    "Config = namedtuple(\"Config\", pipeline_param)"
   ]
  },
  {
   "cell_type": "code",
   "execution_count": null,
   "metadata": {},
   "outputs": [],
   "source": []
  },
  {
   "cell_type": "code",
   "execution_count": null,
   "metadata": {},
   "outputs": [],
   "source": []
  },
  {
   "cell_type": "markdown",
   "metadata": {},
   "source": [
    "`namedtuple` are a great way to create self documenting code with almost no memory cost.\n",
    "\n",
    "### `deque`\n",
    "A `deque` is a like a queue or a stack except it works both ways.  We can think of a `deque` as a list where we generally care about working with the ends of the list.  The `deque` is optimized for $O(1)$ performance for both adding and removing elements from the ends of the structure, whereas a general `list` will be $O(N)$ for operations at the front of the list.\n",
    "\n",
    "Lets see an example"
   ]
  },
  {
   "cell_type": "code",
   "execution_count": 8,
   "metadata": {},
   "outputs": [
    {
     "name": "stdout",
     "output_type": "stream",
     "text": [
      "deque([2, 3, 4, 5])\n",
      "deque([2, 3, 4, 5, 10])\n",
      "deque([20, 2, 3, 4, 5, 10])\n"
     ]
    }
   ],
   "source": [
    "from collections import deque\n",
    "\n",
    "d = deque([2,3,4,5])\n",
    "print(d)\n",
    "d.append(10)\n",
    "print(d)\n",
    "d.appendleft(20)\n",
    "print(d)"
   ]
  },
  {
   "cell_type": "markdown",
   "metadata": {},
   "source": [
    "Lets time how long it takes to perform the same operation adding elements to the left of a `deque` and a `list`"
   ]
  },
  {
   "cell_type": "code",
   "execution_count": 9,
   "metadata": {},
   "outputs": [
    {
     "name": "stdout",
     "output_type": "stream",
     "text": [
      "239 ms ± 7.89 ms per loop (mean ± std. dev. of 7 runs, 1 loop each)\n"
     ]
    }
   ],
   "source": [
    "%%timeit\n",
    "l_ = list()\n",
    "for i in range(40000):\n",
    "    l_.insert(0, i)"
   ]
  },
  {
   "cell_type": "code",
   "execution_count": 10,
   "metadata": {},
   "outputs": [
    {
     "name": "stdout",
     "output_type": "stream",
     "text": [
      "2.41 ms ± 540 µs per loop (mean ± std. dev. of 7 runs, 100 loops each)\n"
     ]
    }
   ],
   "source": [
    "%%timeit\n",
    "d = deque()\n",
    "for i in range(40000):\n",
    "    d.appendleft(i)"
   ]
  },
  {
   "cell_type": "code",
   "execution_count": 11,
   "metadata": {},
   "outputs": [
    {
     "data": {
      "text/plain": [
       "True"
      ]
     },
     "execution_count": 11,
     "metadata": {},
     "output_type": "execute_result"
    }
   ],
   "source": [
    "d = deque()\n",
    "l_ = list()\n",
    "for i in range(40000):\n",
    "    d.appendleft(i)\n",
    "    l_.insert(0, i)\n",
    "    \n",
    "list(d) == l_"
   ]
  },
  {
   "cell_type": "markdown",
   "metadata": {},
   "source": [
    "The `deque` is orders of magnitude faster than the `list`, but contains the same values.  Thus, for some specialized tasks, it can be a massive enhancement.\n",
    "\n",
    "### `Counter`\n",
    "The `Counter` is an extremely useful object.  It counts elements in some iterable and returns a dictionary-like structure containing the count of each element. Lets see an example"
   ]
  },
  {
   "cell_type": "code",
   "execution_count": 12,
   "metadata": {},
   "outputs": [
    {
     "name": "stdout",
     "output_type": "stream",
     "text": [
      "Counter({'b': 3, 'a': 2, 'c': 1, 'd': 1})\n"
     ]
    }
   ],
   "source": [
    "from collections import Counter\n",
    "ele = ['a','b','a','c','b','b','d']\n",
    "c = Counter(ele)\n",
    "print(c)"
   ]
  },
  {
   "cell_type": "markdown",
   "metadata": {},
   "source": [
    "We can find the number of counts of an element by using the same `get` syntax as a dictionary.  What what happens when we access an element that has no counts."
   ]
  },
  {
   "cell_type": "code",
   "execution_count": 13,
   "metadata": {},
   "outputs": [
    {
     "data": {
      "text/plain": [
       "(2, 0)"
      ]
     },
     "execution_count": 13,
     "metadata": {},
     "output_type": "execute_result"
    }
   ],
   "source": [
    "c['a'], c['z']"
   ]
  },
  {
   "cell_type": "markdown",
   "metadata": {},
   "source": [
    "We can also find the most common elements"
   ]
  },
  {
   "cell_type": "code",
   "execution_count": 14,
   "metadata": {},
   "outputs": [
    {
     "data": {
      "text/plain": [
       "[('b', 3), ('a', 2)]"
      ]
     },
     "execution_count": 14,
     "metadata": {},
     "output_type": "execute_result"
    }
   ],
   "source": [
    "c.most_common(2)"
   ]
  },
  {
   "cell_type": "markdown",
   "metadata": {},
   "source": [
    "### `OrderedDict`\n",
    "\n",
    "A Python dictionary does not have a natural order, but sometimes it is useful to have the properties of a dictionary like $O(1)$ access to items with an ordering.  An `OrderedDict` is exactly like a `dict`, but it remembers the insertion order of the keys.\n",
    "\n",
    "### `defaultdict`\n",
    "\n",
    "One common paradigm of a dictionary is to handle the case of a missing key.  Lets say we take the counter example from above and try to implement our own.  We want to do something like create a dictionary and every time we encounter a key we want to add one to the existing value at that key and if we haven't seen that key, we want to create it and initialize it to zero before adding it.  One way to do this is:"
   ]
  },
  {
   "cell_type": "code",
   "execution_count": 15,
   "metadata": {},
   "outputs": [
    {
     "data": {
      "text/plain": [
       "{'a': 2, 'b': 3, 'c': 1, 'd': 1}"
      ]
     },
     "execution_count": 15,
     "metadata": {},
     "output_type": "execute_result"
    }
   ],
   "source": [
    "def count(x):\n",
    "    count_dict = {}\n",
    "    for ele in x:\n",
    "        if ele in count_dict.keys():\n",
    "            count_dict[ele] += 1\n",
    "        else:\n",
    "            count_dict[ele] = 1\n",
    "    return count_dict\n",
    "count(ele)"
   ]
  },
  {
   "cell_type": "markdown",
   "metadata": {},
   "source": [
    "This is such a common case that we have the `defaultdict` to deal with it.  The `defaultdict` takes a default _factory function_ which can be as a simple as just returning 0 which produces a value when the key has not been seen before.  We can implement in the same algorithm as above in a bit of a simpler way"
   ]
  },
  {
   "cell_type": "code",
   "execution_count": 16,
   "metadata": {},
   "outputs": [
    {
     "data": {
      "text/plain": [
       "defaultdict(int, {'a': 2, 'b': 3, 'c': 1, 'd': 1})"
      ]
     },
     "execution_count": 16,
     "metadata": {},
     "output_type": "execute_result"
    }
   ],
   "source": [
    "from collections import defaultdict\n",
    "def count_default(x):\n",
    "    count_dict = defaultdict(int)\n",
    "    for ele in x:\n",
    "        count_dict[ele] += 1\n",
    "    return count_dict\n",
    "count_default(ele)"
   ]
  },
  {
   "cell_type": "code",
   "execution_count": null,
   "metadata": {},
   "outputs": [],
   "source": []
  },
  {
   "cell_type": "markdown",
   "metadata": {},
   "source": [
    "## Map"
   ]
  },
  {
   "cell_type": "code",
   "execution_count": null,
   "metadata": {},
   "outputs": [],
   "source": []
  },
  {
   "cell_type": "code",
   "execution_count": null,
   "metadata": {},
   "outputs": [],
   "source": []
  },
  {
   "cell_type": "code",
   "execution_count": null,
   "metadata": {},
   "outputs": [],
   "source": []
  },
  {
   "cell_type": "code",
   "execution_count": null,
   "metadata": {},
   "outputs": [],
   "source": []
  }
 ],
 "metadata": {
  "file_extension": ".py",
  "kernelspec": {
   "display_name": "Python 3",
   "language": "python",
   "name": "python3"
  },
  "language_info": {
   "codemirror_mode": {
    "name": "ipython",
    "version": 3
   },
   "file_extension": ".py",
   "mimetype": "text/x-python",
   "name": "python",
   "nbconvert_exporter": "python",
   "pygments_lexer": "ipython3",
   "version": "3.7.3"
  },
  "mimetype": "text/x-python",
  "name": "python",
  "npconvert_exporter": "python",
  "pygments_lexer": "ipython3",
  "version": 3
 },
 "nbformat": 4,
 "nbformat_minor": 2
}
