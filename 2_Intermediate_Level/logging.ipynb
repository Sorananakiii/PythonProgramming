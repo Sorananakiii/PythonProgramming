{
 "cells": [
  {
   "cell_type": "code",
   "execution_count": 1,
   "id": "6778aaf7-6bf7-48a5-a8cb-e82d8c0a69b5",
   "metadata": {},
   "outputs": [],
   "source": [
    "import logging"
   ]
  },
  {
   "cell_type": "code",
   "execution_count": 3,
   "id": "db99c4e0-e23b-46ac-85a6-d67de1d49440",
   "metadata": {},
   "outputs": [
    {
     "name": "stderr",
     "output_type": "stream",
     "text": [
      "12/22/2022 14:36:42 - root - DEBUG - This is a debug message\n"
     ]
    }
   ],
   "source": [
    "logging.basicConfig(level=logging.DEBUG, format=\"%(asctime)s - %(name)s - %(levelname)s - %(message)s\", \n",
    "                    datefmt=\"%m/%d/%Y %H:%M:%S\")\n",
    "\n",
    "logging.debug(\"This is a debug message\")\n"
   ]
  },
  {
   "cell_type": "code",
   "execution_count": null,
   "id": "bca73b72-2135-4b51-a31e-610541f92a4c",
   "metadata": {},
   "outputs": [],
   "source": []
  },
  {
   "cell_type": "code",
   "execution_count": null,
   "id": "9b647593-bae3-4237-b1e3-edcd427e34ad",
   "metadata": {},
   "outputs": [],
   "source": []
  },
  {
   "cell_type": "code",
   "execution_count": 8,
   "id": "5462d194-6432-4a5a-9424-bd2af6cec8cb",
   "metadata": {},
   "outputs": [
    {
     "name": "stdout",
     "output_type": "stream",
     "text": [
      "{\"name\": \"Max\", \"age\": 27, \"User\": true}\n"
     ]
    }
   ],
   "source": [
    "import json\n",
    "\n",
    "class User:\n",
    "    def __init__(self, name, age):\n",
    "        self.name = name\n",
    "        self.age = age\n",
    "\n",
    "def encode_user(o):\n",
    "    if isinstance(o, User):\n",
    "        return {\"name\":o.name, \"age\":o.age, o.__class__.__name__:True}\n",
    "    else:\n",
    "        raise TypeError(\"Object of type User is not JSON\")\n",
    "\n",
    "        \n",
    "user = User(\"Max\", 27)\n",
    "userJSON = json.dumps(user, default=encode_user)\n",
    "print(userJSON)"
   ]
  },
  {
   "cell_type": "code",
   "execution_count": 14,
   "id": "ebe52728-7050-43a6-b00e-b37d81138c65",
   "metadata": {},
   "outputs": [
    {
     "name": "stdout",
     "output_type": "stream",
     "text": [
      "{\"name\": \"Max\", \"age\": 27, \"User\": true}\n",
      "<class '__main__.User'>\n",
      "Max\n"
     ]
    }
   ],
   "source": [
    "from json import JSONEncoder\n",
    "class UserEncoder(JSONEncoder):\n",
    "    def default(self, o):\n",
    "        if isinstance(o, User):\n",
    "            return {\"name\":o.name, \"age\":o.age, o.__class__.__name__:True}\n",
    "        return JSONEncoder.default(self, o)\n",
    "    \n",
    "userJSON = UserEncoder().encode(user)\n",
    "print(userJSON)\n",
    "\n",
    "\n",
    "def decoder_user(dct):\n",
    "    if User.__name__ in dct:\n",
    "        return User(name=dct[\"name\"], age=dct[\"age\"])\n",
    "    return dct\n",
    "\n",
    "user = json.loads(userJSON, object_hook=decoder_user)\n",
    "print(type(user))\n",
    "print(user.name)"
   ]
  },
  {
   "cell_type": "code",
   "execution_count": null,
   "id": "a0551573-f258-4475-bf74-ef62a5f87fb1",
   "metadata": {},
   "outputs": [],
   "source": []
  },
  {
   "cell_type": "code",
   "execution_count": null,
   "id": "ec3e67a2-0333-402e-ba5e-b2e4fbfa8684",
   "metadata": {},
   "outputs": [],
   "source": []
  },
  {
   "cell_type": "code",
   "execution_count": 23,
   "id": "eb0fc5b0-afb8-4dfc-b7fd-ea452913bc7f",
   "metadata": {},
   "outputs": [
    {
     "data": {
      "text/plain": [
       "225"
      ]
     },
     "execution_count": 23,
     "metadata": {},
     "output_type": "execute_result"
    }
   ],
   "source": [
    "import functools\n",
    "def start_end_decorator(func):\n",
    "    @functools.wraps(func)\n",
    "    def wrapper(*args, **kwargs):\n",
    "        result = func(*args, **kwargs)\n",
    "        result = result ** 2\n",
    "        return result\n",
    "    return wrapper\n",
    "\n",
    "@start_end_decorator\n",
    "def add5(x):\n",
    "    return x + 5\n",
    "\n",
    "result = add5(10)\n",
    "result"
   ]
  },
  {
   "cell_type": "code",
   "execution_count": 24,
   "id": "9dea0f09-3599-416c-bb43-462135f05d72",
   "metadata": {},
   "outputs": [
    {
     "name": "stdout",
     "output_type": "stream",
     "text": [
      "Alex\n",
      "Alex\n",
      "Alex\n"
     ]
    }
   ],
   "source": [
    "import functools\n",
    "\n",
    "def repeat(num_times):\n",
    "    def decorator_repeat(func):\n",
    "        @functools.wraps(func)\n",
    "        def wrapper(*args, **kwargs):\n",
    "            for _ in range(num_times):\n",
    "                result = func(*args, **kwargs)\n",
    "            return result\n",
    "        return wrapper\n",
    "    return decorator_repeat\n",
    "\n",
    "@repeat(num_times=3)\n",
    "def greet(name):\n",
    "    print(name)\n",
    "    \n",
    "greet(\"Alex\")"
   ]
  },
  {
   "cell_type": "code",
   "execution_count": 5,
   "id": "261ef636-8043-4df3-91a4-f2e1ca729941",
   "metadata": {},
   "outputs": [
    {
     "name": "stdout",
     "output_type": "stream",
     "text": [
      "This is executed 1 times\n",
      "Hello\n",
      "This is executed 2 times\n",
      "Hello\n"
     ]
    }
   ],
   "source": [
    "class CountCalls:\n",
    "    \n",
    "    def __init__(self, func):\n",
    "        self.func = func\n",
    "        self.num_calls = 0\n",
    "        \n",
    "    def __call__(self, *args, **kwargs):\n",
    "        self.num_calls += 1\n",
    "        print(f\"This is executed {self.num_calls} times\")\n",
    "        return self.func(*args, **kwargs)\n",
    "        \n",
    "@CountCalls\n",
    "def hello_world():\n",
    "    print(\"Hello\")\n",
    "    \n",
    "hello_world()\n",
    "hello_world()"
   ]
  },
  {
   "cell_type": "code",
   "execution_count": null,
   "id": "038f7314-98f5-4fba-aacb-a98e14cfb58a",
   "metadata": {},
   "outputs": [],
   "source": []
  },
  {
   "cell_type": "code",
   "execution_count": null,
   "id": "39a2becd-15f2-4b47-914d-a9545e3e2c07",
   "metadata": {},
   "outputs": [],
   "source": []
  },
  {
   "cell_type": "code",
   "execution_count": 8,
   "id": "39f7806d-15f1-4fcd-9b2e-1c7a5588ac15",
   "metadata": {},
   "outputs": [
    {
     "name": "stdout",
     "output_type": "stream",
     "text": [
      "1\n",
      "2\n",
      "3\n"
     ]
    }
   ],
   "source": [
    "def mygenerator():\n",
    "    yield 1\n",
    "    yield 2\n",
    "    yield 3\n",
    "    \n",
    "g = mygenerator()\n",
    "for i in g:\n",
    "    print(i)"
   ]
  },
  {
   "cell_type": "code",
   "execution_count": 10,
   "id": "77efc65f-3aaa-4016-9fff-c28ee24d8c5c",
   "metadata": {},
   "outputs": [
    {
     "name": "stdout",
     "output_type": "stream",
     "text": [
      "1\n"
     ]
    }
   ],
   "source": [
    "g = mygenerator()\n",
    "value = next(g)\n",
    "print(value)"
   ]
  },
  {
   "cell_type": "code",
   "execution_count": 11,
   "id": "c96dbafd-c89c-40b8-803b-a76824a574b3",
   "metadata": {},
   "outputs": [
    {
     "name": "stdout",
     "output_type": "stream",
     "text": [
      "2\n"
     ]
    }
   ],
   "source": [
    "value = next(g)\n",
    "print(value)"
   ]
  },
  {
   "cell_type": "code",
   "execution_count": 12,
   "id": "37ef07db-14c4-4563-920c-64415821536a",
   "metadata": {},
   "outputs": [
    {
     "name": "stdout",
     "output_type": "stream",
     "text": [
      "3\n"
     ]
    }
   ],
   "source": [
    "value = next(g)\n",
    "print(value)"
   ]
  },
  {
   "cell_type": "code",
   "execution_count": 13,
   "id": "da11aa42-577a-415d-8d79-80595cd984d0",
   "metadata": {},
   "outputs": [
    {
     "ename": "StopIteration",
     "evalue": "",
     "output_type": "error",
     "traceback": [
      "\u001b[0;31m---------------------------------------------------------------------------\u001b[0m",
      "\u001b[0;31mStopIteration\u001b[0m                             Traceback (most recent call last)",
      "Input \u001b[0;32mIn [13]\u001b[0m, in \u001b[0;36m<cell line: 1>\u001b[0;34m()\u001b[0m\n\u001b[0;32m----> 1\u001b[0m value \u001b[38;5;241m=\u001b[39m \u001b[38;5;28;43mnext\u001b[39;49m\u001b[43m(\u001b[49m\u001b[43mg\u001b[49m\u001b[43m)\u001b[49m\n\u001b[1;32m      2\u001b[0m \u001b[38;5;28mprint\u001b[39m(value)\n",
      "\u001b[0;31mStopIteration\u001b[0m: "
     ]
    }
   ],
   "source": [
    "value = next(g)\n",
    "print(value)"
   ]
  },
  {
   "cell_type": "code",
   "execution_count": 15,
   "id": "8018af9a-5ebc-46ef-9e69-8ee8a2751775",
   "metadata": {},
   "outputs": [
    {
     "name": "stdout",
     "output_type": "stream",
     "text": [
      "6\n"
     ]
    }
   ],
   "source": [
    "g = mygenerator()\n",
    "print(sum(g))"
   ]
  },
  {
   "cell_type": "code",
   "execution_count": 18,
   "id": "1a64b427-0a21-4c28-a8bb-110171f32ad2",
   "metadata": {},
   "outputs": [
    {
     "name": "stdout",
     "output_type": "stream",
     "text": [
      "Staring\n",
      "4\n",
      "3\n",
      "2\n",
      "1\n"
     ]
    }
   ],
   "source": [
    "def countdown(num):\n",
    "    print(\"Staring\")\n",
    "    while num > 0:\n",
    "        yield num\n",
    "        num -= 1\n",
    "        \n",
    "cd = countdown(4)\n",
    "value = next(cd)\n",
    "print(value)\n",
    "print(next(cd))\n",
    "print(next(cd))\n",
    "print(next(cd))"
   ]
  },
  {
   "cell_type": "code",
   "execution_count": 20,
   "id": "f8197f41-1ff0-4d0a-abb8-0ff1fe1e23f9",
   "metadata": {},
   "outputs": [
    {
     "name": "stdout",
     "output_type": "stream",
     "text": [
      "8448728\n",
      "112\n"
     ]
    }
   ],
   "source": [
    "## compare memory usege\n",
    "def firstn(n):\n",
    "    nums = []\n",
    "    num = 0\n",
    "    while num < n:\n",
    "        nums.append(num)\n",
    "        num += 1\n",
    "    return nums\n",
    "\n",
    "def firstn_generator(n):\n",
    "    num = 0\n",
    "    while num < n:\n",
    "        yield num\n",
    "        num ++ 1\n",
    "        \n",
    "import sys\n",
    "\n",
    "print(sys.getsizeof(firstn(1000000)))\n",
    "print(sys.getsizeof(firstn_generator(1000000)))"
   ]
  },
  {
   "cell_type": "code",
   "execution_count": 22,
   "id": "93f8c659-3ebb-4f56-a19e-730b58bf0321",
   "metadata": {},
   "outputs": [
    {
     "name": "stdout",
     "output_type": "stream",
     "text": [
      "0\n",
      "1\n",
      "1\n",
      "2\n",
      "3\n",
      "5\n",
      "8\n",
      "13\n",
      "21\n"
     ]
    }
   ],
   "source": [
    "def fibonacci(n):\n",
    "    a, b = 0, 1\n",
    "    while a < n:\n",
    "        yield a \n",
    "        a, b = b, a+b\n",
    "        \n",
    "fib = fibonacci(30)\n",
    "for i in fib:\n",
    "    print(i)"
   ]
  },
  {
   "cell_type": "code",
   "execution_count": 23,
   "id": "3bac93d9-5520-46ff-8f5d-9d5e26ae595e",
   "metadata": {},
   "outputs": [
    {
     "name": "stdout",
     "output_type": "stream",
     "text": [
      "112\n",
      "444376\n"
     ]
    }
   ],
   "source": [
    "import sys\n",
    "mygenerator = (i for i in range(100000) if i % 2 == 0)\n",
    "print(sys.getsizeof(mygenerator))\n",
    "\n",
    "mylist = [i for i in range(100000) if i % 2 == 0]\n",
    "print(sys.getsizeof(mylist))"
   ]
  },
  {
   "cell_type": "code",
   "execution_count": null,
   "id": "71cd1fca-cc46-452e-9c44-6172bdfe9f3d",
   "metadata": {},
   "outputs": [],
   "source": []
  }
 ],
 "metadata": {
  "kernelspec": {
   "display_name": "Python [conda env:py_torch]",
   "language": "python",
   "name": "conda-env-py_torch-py"
  },
  "language_info": {
   "codemirror_mode": {
    "name": "ipython",
    "version": 3
   },
   "file_extension": ".py",
   "mimetype": "text/x-python",
   "name": "python",
   "nbconvert_exporter": "python",
   "pygments_lexer": "ipython3",
   "version": "3.9.12"
  }
 },
 "nbformat": 4,
 "nbformat_minor": 5
}
