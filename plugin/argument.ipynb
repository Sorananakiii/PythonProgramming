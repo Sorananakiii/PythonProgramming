{
 "cells": [
  {
   "cell_type": "code",
   "execution_count": 2,
   "id": "cdb388b4-57ef-468d-978b-b7ff096c2b32",
   "metadata": {},
   "outputs": [
    {
     "name": "stdout",
     "output_type": "stream",
     "text": [
      "1 2 3\n",
      "1 2 3\n"
     ]
    }
   ],
   "source": [
    "def func1(a, b, c):\n",
    "    print(a, b, c)\n",
    "    \n",
    "func1(1, 2, 3)\n",
    "func1(a=1, b=2, c=3)"
   ]
  },
  {
   "cell_type": "code",
   "execution_count": 3,
   "id": "5890570d-06b9-43cd-a5b9-ae9d3d74f4a1",
   "metadata": {},
   "outputs": [
    {
     "name": "stdout",
     "output_type": "stream",
     "text": [
      "1 2 3 7\n",
      "1 2 3 7\n"
     ]
    }
   ],
   "source": [
    "def func2(a, b, c, d=4):\n",
    "    print(a, b, c, d)\n",
    "    \n",
    "func2(1, 2, 3, 7)\n",
    "func2(a=1, b=2, c=3, d=7)"
   ]
  },
  {
   "cell_type": "code",
   "execution_count": 5,
   "id": "817c97f3-53c3-44f0-ac30-2956dc5924ec",
   "metadata": {},
   "outputs": [
    {
     "name": "stdout",
     "output_type": "stream",
     "text": [
      "1 2\n",
      "3\n",
      "4\n",
      "5\n",
      "6\n",
      "7\n",
      "1 2\n",
      "3\n",
      "4\n",
      "5\n",
      "6\n",
      "seven 7\n",
      "eight 8\n"
     ]
    }
   ],
   "source": [
    "def func3(a, b, *args, **kwargs):\n",
    "    print(a, b)\n",
    "    for arg in args:\n",
    "        print(arg)\n",
    "    for key in kwargs:\n",
    "        print(key, kwargs[key])\n",
    "        \n",
    "func3(1, 2, 3, 4, 5, 6, 7)\n",
    "func3(1, 2, 3, 4, 5, 6, seven=7, eight=8)"
   ]
  },
  {
   "cell_type": "code",
   "execution_count": null,
   "id": "6a0bd71e-7a3a-4b23-b858-fd51f98d395b",
   "metadata": {},
   "outputs": [],
   "source": []
  },
  {
   "cell_type": "code",
   "execution_count": 6,
   "id": "c84c204b-34bb-48e4-baf0-4632d39a5095",
   "metadata": {},
   "outputs": [
    {
     "name": "stdout",
     "output_type": "stream",
     "text": [
      "0\n",
      "3\n"
     ]
    }
   ],
   "source": [
    "def foo():\n",
    "    global number\n",
    "    x = number\n",
    "    number = 3\n",
    "    print(x)\n",
    "    \n",
    "number = 0\n",
    "foo()\n",
    "print(number)"
   ]
  },
  {
   "cell_type": "code",
   "execution_count": 7,
   "id": "3753e4c6-ca33-474f-b08a-6000c27d160f",
   "metadata": {},
   "outputs": [
    {
     "name": "stdout",
     "output_type": "stream",
     "text": [
      "0 1 2\n"
     ]
    }
   ],
   "source": [
    "def foo(a, b, c):\n",
    "    print(a, b, c)\n",
    "    \n",
    "my_list = [0, 1, 2]\n",
    "foo(*my_list)"
   ]
  },
  {
   "cell_type": "code",
   "execution_count": 9,
   "id": "a663cf96-af5a-44c9-b77c-035d87debd17",
   "metadata": {},
   "outputs": [
    {
     "name": "stdout",
     "output_type": "stream",
     "text": [
      "[1, 2, 3, 4, 5, 6]\n",
      "7\n",
      "[1, 2, 3, 4, 5]\n",
      "6\n",
      "7\n"
     ]
    }
   ],
   "source": [
    "a = [1, 2, 3, 4, 5, 6, 7]\n",
    "\n",
    "*begin, last = a\n",
    "print(begin)\n",
    "print(last)\n",
    "\n",
    "*begin, l, last = a\n",
    "print(begin)\n",
    "print(l)\n",
    "print(last)"
   ]
  },
  {
   "cell_type": "code",
   "execution_count": 10,
   "id": "6ce6abe5-9953-4bcc-8677-79af5ccbe038",
   "metadata": {},
   "outputs": [
    {
     "name": "stdout",
     "output_type": "stream",
     "text": [
      "[1, 2, 3, 4, 5, 6, 8, 9, 7]\n"
     ]
    }
   ],
   "source": [
    "my_tuple = (1, 2, 3)\n",
    "my_list = [4, 5, 6]\n",
    "my_set = {7, 8, 9}\n",
    "\n",
    "m = [*my_tuple, *my_list, *my_set]\n",
    "print(m)"
   ]
  },
  {
   "cell_type": "code",
   "execution_count": 12,
   "id": "9b7ccdfd-b434-45d5-8471-06bb0e88ac63",
   "metadata": {},
   "outputs": [
    {
     "name": "stdout",
     "output_type": "stream",
     "text": [
      "{'a': 1, 'b': 2, 'c': 3, 'd': 4}\n"
     ]
    }
   ],
   "source": [
    "dict_a = {\"a\":1, \"b\":2}\n",
    "dict_b = {\"c\":3, \"d\":4}\n",
    "\n",
    "dict_c = {**dict_a, **dict_b}\n",
    "print(dict_c)"
   ]
  },
  {
   "cell_type": "code",
   "execution_count": null,
   "id": "9e1f82a3-aa81-4b18-b288-babd8693cdb5",
   "metadata": {},
   "outputs": [],
   "source": []
  }
 ],
 "metadata": {
  "kernelspec": {
   "display_name": "Python [conda env:py_torch]",
   "language": "python",
   "name": "conda-env-py_torch-py"
  },
  "language_info": {
   "codemirror_mode": {
    "name": "ipython",
    "version": 3
   },
   "file_extension": ".py",
   "mimetype": "text/x-python",
   "name": "python",
   "nbconvert_exporter": "python",
   "pygments_lexer": "ipython3",
   "version": "3.9.12"
  }
 },
 "nbformat": 4,
 "nbformat_minor": 5
}
