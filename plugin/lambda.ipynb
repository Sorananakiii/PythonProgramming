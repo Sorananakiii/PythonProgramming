{
 "cells": [
  {
   "cell_type": "markdown",
   "id": "2ce40183-e62c-4130-8a2d-3ddd562dbab6",
   "metadata": {},
   "source": [
    "## **lambda**"
   ]
  },
  {
   "cell_type": "code",
   "execution_count": 1,
   "id": "7f22c40a-b1ee-40a4-b4c2-cb23e8a4c6b6",
   "metadata": {},
   "outputs": [
    {
     "data": {
      "text/plain": [
       "115"
      ]
     },
     "execution_count": 1,
     "metadata": {},
     "output_type": "execute_result"
    }
   ],
   "source": [
    "add10 = lambda x: x+110\n",
    "add10(5)"
   ]
  },
  {
   "cell_type": "code",
   "execution_count": 2,
   "id": "046835be-7ea1-4048-9b41-fdc0f22da200",
   "metadata": {},
   "outputs": [
    {
     "data": {
      "text/plain": [
       "50"
      ]
     },
     "execution_count": 2,
     "metadata": {},
     "output_type": "execute_result"
    }
   ],
   "source": [
    "mult = lambda x,y : x * y\n",
    "mult(5, 10)"
   ]
  },
  {
   "cell_type": "code",
   "execution_count": null,
   "id": "22037f9a-c956-434f-b7f7-85e12847ce4c",
   "metadata": {},
   "outputs": [],
   "source": []
  },
  {
   "cell_type": "code",
   "execution_count": null,
   "id": "4161486a-b377-4dc5-a821-3c8122d1c6bb",
   "metadata": {},
   "outputs": [],
   "source": []
  },
  {
   "cell_type": "code",
   "execution_count": 1,
   "id": "28d576e6-46c4-4a70-ab71-130393245417",
   "metadata": {},
   "outputs": [
    {
     "name": "stdout",
     "output_type": "stream",
     "text": [
      "[(1, 2), (15, 1), (5, -1), (10, 4)]\n",
      "[(5, -1), (15, 1), (1, 2), (10, 4)]\n"
     ]
    }
   ],
   "source": [
    "point2d = [(1, 2), (15, 1), (5, -1), (10, 4)]\n",
    "\n",
    "point2d_sorted = sorted(point2d, key=lambda x: x[1])\n",
    "\n",
    "print(point2d)\n",
    "print(point2d_sorted)"
   ]
  },
  {
   "cell_type": "code",
   "execution_count": 2,
   "id": "d632708b-fa7b-4b33-ba91-35b6eeaa6991",
   "metadata": {},
   "outputs": [
    {
     "name": "stdout",
     "output_type": "stream",
     "text": [
      "[(1, 2), (5, -1), (10, 4), (15, 1)]\n"
     ]
    }
   ],
   "source": [
    "point2d_sorted = sorted(point2d, key=lambda x: x[0] + x[1])\n",
    "print(point2d_sorted)"
   ]
  },
  {
   "cell_type": "code",
   "execution_count": null,
   "id": "75676fcd-e059-4459-909f-67d1d01a8554",
   "metadata": {},
   "outputs": [],
   "source": []
  },
  {
   "cell_type": "markdown",
   "id": "415026c4-5d4e-49ea-a686-28307d233dc3",
   "metadata": {},
   "source": [
    "## **map(func, seq)**"
   ]
  },
  {
   "cell_type": "code",
   "execution_count": 3,
   "id": "4426f217-71fa-42b3-810d-099aa1cae3e6",
   "metadata": {},
   "outputs": [
    {
     "name": "stdout",
     "output_type": "stream",
     "text": [
      "[2, 4, 6, 8, 10]\n"
     ]
    }
   ],
   "source": [
    "a = [1, 2, 3, 4, 5]\n",
    "b = map(lambda x:x*2, a)\n",
    "print(list(b))"
   ]
  },
  {
   "cell_type": "code",
   "execution_count": 4,
   "id": "9c38f242-07c9-4fbe-93fd-992359865a1f",
   "metadata": {},
   "outputs": [
    {
     "name": "stdout",
     "output_type": "stream",
     "text": [
      "[2, 4, 6, 8, 10]\n"
     ]
    }
   ],
   "source": [
    "c = [x*2 for x in a]\n",
    "print(c)"
   ]
  },
  {
   "cell_type": "code",
   "execution_count": null,
   "id": "7faf786c-c94e-4d8e-bc23-03f7d9a7d7e6",
   "metadata": {},
   "outputs": [],
   "source": []
  },
  {
   "cell_type": "markdown",
   "id": "3238957b-8c3a-428a-aed6-bc1733a03b2b",
   "metadata": {},
   "source": [
    "## **filter(func, seq)**"
   ]
  },
  {
   "cell_type": "code",
   "execution_count": 5,
   "id": "63d271ec-f5a1-4575-9573-0f5021512c06",
   "metadata": {},
   "outputs": [
    {
     "name": "stdout",
     "output_type": "stream",
     "text": [
      "[2, 4, 6]\n"
     ]
    }
   ],
   "source": [
    "a = [1, 2, 3, 4, 5, 6, 7]\n",
    "b = filter(lambda x: x%2 == 0, a)\n",
    "print(list(b))"
   ]
  },
  {
   "cell_type": "code",
   "execution_count": 6,
   "id": "3b2142e3-312e-4c02-9a11-a6ae8ca2868c",
   "metadata": {},
   "outputs": [
    {
     "name": "stdout",
     "output_type": "stream",
     "text": [
      "[2, 4, 6]\n"
     ]
    }
   ],
   "source": [
    "c = [x for x in a if x%2==0]\n",
    "print(c)"
   ]
  },
  {
   "cell_type": "code",
   "execution_count": null,
   "id": "bcb9e22d-fc62-4d78-b62c-c509bc019192",
   "metadata": {},
   "outputs": [],
   "source": []
  },
  {
   "cell_type": "markdown",
   "id": "3957ee06-eadd-46ff-82c1-6931a0ef6633",
   "metadata": {},
   "source": [
    "## **reduce(func, seq)**"
   ]
  },
  {
   "cell_type": "code",
   "execution_count": 7,
   "id": "d1f505f0-716c-4b9b-8bcf-9f032601a508",
   "metadata": {},
   "outputs": [],
   "source": [
    "from functools import reduce\n",
    "a = [1, 2, 3, 4, 5, 6, 7]"
   ]
  },
  {
   "cell_type": "code",
   "execution_count": 8,
   "id": "0609c81c-4148-4211-ba62-320d524f8f8d",
   "metadata": {},
   "outputs": [
    {
     "name": "stdout",
     "output_type": "stream",
     "text": [
      "5040\n"
     ]
    }
   ],
   "source": [
    "producta = reduce(lambda x,y: x*y, a)\n",
    "print(producta)"
   ]
  },
  {
   "cell_type": "code",
   "execution_count": null,
   "id": "5ae54841-7caa-4624-baf3-13bf02a635cd",
   "metadata": {},
   "outputs": [],
   "source": []
  }
 ],
 "metadata": {
  "kernelspec": {
   "display_name": "Python [conda env:py_ocr]",
   "language": "python",
   "name": "conda-env-py_ocr-py"
  },
  "language_info": {
   "codemirror_mode": {
    "name": "ipython",
    "version": 3
   },
   "file_extension": ".py",
   "mimetype": "text/x-python",
   "name": "python",
   "nbconvert_exporter": "python",
   "pygments_lexer": "ipython3",
   "version": "3.9.12"
  }
 },
 "nbformat": 4,
 "nbformat_minor": 5
}
